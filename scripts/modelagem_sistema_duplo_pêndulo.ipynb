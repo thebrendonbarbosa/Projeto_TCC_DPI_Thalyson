{
 "cells": [
  {
   "cell_type": "code",
   "execution_count": 4,
   "metadata": {},
   "outputs": [],
   "source": [
    "#!pip install control\n",
    "#!pip install slycot"
   ]
  },
  {
   "cell_type": "code",
   "execution_count": 67,
   "metadata": {},
   "outputs": [],
   "source": [
    "# importa os modulo necessários \n",
    "\n",
    "import numpy as np\n",
    "import matplotlib.pyplot as plt\n",
    "import sympy as sym\n",
    "import control as ct\n"
   ]
  },
  {
   "cell_type": "markdown",
   "metadata": {},
   "source": [
    "# 1 Modelagem pelo módulo Sympy"
   ]
  },
  {
   "cell_type": "code",
   "execution_count": 139,
   "metadata": {},
   "outputs": [],
   "source": [
    "# Definindo as variáveis simbólicas\n",
    "\n",
    "# Constantes\n",
    "M, m1, m2, m3, l1, l2,J1, J2, g, t, f0, f1, f2 = sym.symbols('M m1 m2 m3 l1 l2 J1 J2 g t  f0 f1 f2')\n",
    "\n",
    "# Variáveis\n",
    "phi1, phi2, x,u ,theta1, theta2 = sym.symbols(r'phi1 phi2 x u theta1 theta2', cls=sym.Function) # funções para se trabalhar em cima\n"
   ]
  },
  {
   "cell_type": "code",
   "execution_count": 140,
   "metadata": {},
   "outputs": [],
   "source": [
    "# Definindo as derivadas no tempo \n",
    "\n",
    "x = x(t)\n",
    "u = u(t)\n",
    "phi1 = phi1(t)\n",
    "phi2 = phi2(t)\n",
    "theta1 = theta1(t)\n",
    "theta2 = theta2(t)\n",
    "\n",
    "x_d = sym.diff(x, t)\n",
    "phi1_d = sym.diff(phi1, t)\n",
    "phi2_d = sym.diff(phi2, t)\n",
    "\n",
    "x_dd = sym.diff(x_d, t)\n",
    "phi1_dd = sym.diff(phi1_d, t)\n",
    "phi2_dd = sym.diff(phi2_d, t)\n",
    "\n",
    "dpdp2=phi2_d*phi2_d\n",
    "dpdp1=phi1_d*phi1_d\n",
    "dxdx=x_d*x_d"
   ]
  },
  {
   "cell_type": "code",
   "execution_count": 141,
   "metadata": {},
   "outputs": [
    {
     "data": {
      "text/latex": [
       "$\\displaystyle - g l_{1} m_{1} \\cos{\\left(\\phi_{1}{\\left(t \\right)} \\right)} - g m_{2} \\cdot \\left(2 l_{1} \\cos{\\left(\\phi_{1}{\\left(t \\right)} \\right)} - l_{2} \\cos{\\left(\\phi_{2}{\\left(t \\right)} \\right)}\\right) + 2 l_{1} l_{2} m_{2} \\cos{\\left(\\phi_{1}{\\left(t \\right)} - \\phi_{2}{\\left(t \\right)} \\right)} \\frac{d}{d t} \\phi_{1}{\\left(t \\right)} \\frac{d}{d t} \\phi_{2}{\\left(t \\right)} + 0.5 \\left(J_{1} + l_{1}^{2} \\left(m_{1} + 2 m_{2}\\right)\\right) \\left(\\frac{d}{d t} \\phi_{1}{\\left(t \\right)}\\right)^{2} + \\left(0.5 J_{2} + l_{2}^{2} m_{2}\\right) \\left(\\frac{d}{d t} \\phi_{2}{\\left(t \\right)}\\right)^{2} + 0.5 \\left(M + m_{1} + m_{2}\\right) \\left(\\frac{d}{d t} x{\\left(t \\right)}\\right)^{2} + \\left(- l_{1} m_{1} \\cos{\\left(\\phi_{1}{\\left(t \\right)} \\right)} \\frac{d}{d t} \\phi_{1}{\\left(t \\right)} - 2 l_{1} m_{2} \\cos{\\left(\\phi_{1}{\\left(t \\right)} \\right)} \\frac{d}{d t} \\phi_{1}{\\left(t \\right)} - l_{2} m_{2} \\cos{\\left(\\phi_{2}{\\left(t \\right)} \\right)} \\frac{d}{d t} \\phi_{2}{\\left(t \\right)}\\right) \\frac{d}{d t} x{\\left(t \\right)}$"
      ],
      "text/plain": [
       "-g*l1*m1*cos(phi1(t)) - g*m2*(2*l1*cos(phi1(t)) - l2*cos(phi2(t))) + 2*l1*l2*m2*cos(phi1(t) - phi2(t))*Derivative(phi1(t), t)*Derivative(phi2(t), t) + 0.5*(J1 + l1**2*(m1 + 2*m2))*Derivative(phi1(t), t)**2 + (0.5*J2 + l2**2*m2)*Derivative(phi2(t), t)**2 + 0.5*(M + m1 + m2)*Derivative(x(t), t)**2 + (-l1*m1*cos(phi1(t))*Derivative(phi1(t), t) - 2*l1*m2*cos(phi1(t))*Derivative(phi1(t), t) - l2*m2*cos(phi2(t))*Derivative(phi2(t), t))*Derivative(x(t), t)"
      ]
     },
     "execution_count": 141,
     "metadata": {},
     "output_type": "execute_result"
    }
   ],
   "source": [
    "# Equação de Lagrange: L = T-U\n",
    "\n",
    "L= 1/2* dxdx*(M+m1+m2)+1/2*dpdp1*(l1*l1*(m1+2*m2)+J1)+dpdp2*(m2*l2*l2+1/2*J2)+\\\n",
    "x_d*(-m1*l1*sym.cos(phi1)*phi1_d-2*m2*l1*sym.cos(phi1)*phi1_d-m2*l2*sym.cos(phi2)*phi2_d)+\\\n",
    "    phi1_d*(2*m2*l1*l2*phi2_d*sym.cos(phi1-phi2))-m1*l1*g*sym.cos(phi1)-m2*g*(2*l1*sym.cos(phi1)-l2*sym.cos(phi2))\n",
    "L"
   ]
  },
  {
   "cell_type": "code",
   "execution_count": 142,
   "metadata": {},
   "outputs": [],
   "source": [
    "# Euler Lagrange-equation\n",
    "eqnx = sym.diff(sym.diff(L,x_d),t)-sym.diff(L,x)-u+f0*x_d\n",
    "eqn_phi1 = sym.diff(sym.diff(L,phi1_d),t)-sym.diff(L,phi1)+(f1+f2)*phi1_d -f2*phi2_d\n",
    "eqn_phi2 = sym.diff(sym.diff(L,phi2_d),t)-sym.diff(L,phi2)-f2*phi1_d + f2*phi2_d\n",
    "\n",
    "# Solução \n",
    "\n",
    "sol_xdd = sym.solve(eqnx, x_dd)[0]\n",
    "sol_phi1dd = sym.solve(eqn_phi1, phi1_dd)[0]\n",
    "sol_phi2dd = sym.solve(eqn_phi2, phi2_dd)[0]"
   ]
  },
  {
   "cell_type": "code",
   "execution_count": 143,
   "metadata": {},
   "outputs": [],
   "source": [
    "q_dd = sym.Matrix([(x_dd,phi1_dd,phi2_dd)])\n",
    "q_d = sym.Matrix([(x_d,phi1_d,phi2_d)])\n",
    "\n",
    "ponto_eq = {x:0,x_d:0,x_dd:0,phi1:0,phi2:0,phi1_d:0,phi2_d:0,phi2_dd:0,phi1_dd:0,sym.cos(phi1):1,\\\n",
    "            sym.cos(phi2):1,sym.cos(phi1-phi2):1,sym.sin(phi1):theta1,sym.sin(phi2):theta2}\n"
   ]
  },
  {
   "cell_type": "code",
   "execution_count": 144,
   "metadata": {},
   "outputs": [
    {
     "data": {
      "text/latex": [
       "$\\displaystyle \\left[\\begin{matrix}1.0 M + 1.0 m_{1} + 1.0 m_{2} & - l_{1} m_{1} - 2 l_{1} m_{2} & - l_{2} m_{2}\\\\- l_{1} m_{1} - 2 l_{1} m_{2} & 1.0 J_{1} + 1.0 l_{1}^{2} \\left(m_{1} + 2 m_{2}\\right) & 2 l_{1} l_{2} m_{2}\\\\- l_{2} m_{2} & 2 l_{1} l_{2} m_{2} & J_{2} + 2 l_{2}^{2} m_{2}\\end{matrix}\\right]$"
      ],
      "text/plain": [
       "Matrix([\n",
       "[1.0*M + 1.0*m1 + 1.0*m2,               -l1*m1 - 2*l1*m2,          -l2*m2],\n",
       "[       -l1*m1 - 2*l1*m2, 1.0*J1 + 1.0*l1**2*(m1 + 2*m2),      2*l1*l2*m2],\n",
       "[                 -l2*m2,                     2*l1*l2*m2, J2 + 2*l2**2*m2]])"
      ]
     },
     "execution_count": 144,
     "metadata": {},
     "output_type": "execute_result"
    }
   ],
   "source": [
    "\n",
    "H = sym.Matrix((sym.diff(eqnx,q_dd),sym.diff(eqn_phi1,q_dd),sym.diff(eqn_phi2,q_dd))).subs(ponto_eq)\n",
    "\n",
    "H_inv = H.inv()\n",
    "H"
   ]
  },
  {
   "cell_type": "code",
   "execution_count": 145,
   "metadata": {},
   "outputs": [
    {
     "data": {
      "text/latex": [
       "$\\displaystyle \\left[\\begin{matrix}f_{0} & 0 & 0\\\\0 & f_{1} + f_{2} & - f_{2}\\\\0 & - f_{2} & f_{2}\\end{matrix}\\right]$"
      ],
      "text/plain": [
       "Matrix([\n",
       "[f0,       0,   0],\n",
       "[ 0, f1 + f2, -f2],\n",
       "[ 0,     -f2,  f2]])"
      ]
     },
     "execution_count": 145,
     "metadata": {},
     "output_type": "execute_result"
    }
   ],
   "source": [
    "N = sym.Matrix((sym.diff(eqnx,q_d),sym.diff(eqn_phi1,q_d),sym.diff(eqn_phi2,q_d))).subs(ponto_eq)\n",
    "N"
   ]
  },
  {
   "cell_type": "code",
   "execution_count": 146,
   "metadata": {},
   "outputs": [
    {
     "data": {
      "text/latex": [
       "$\\displaystyle \\left[\\begin{matrix}0\\\\g l_{1} \\left(m_{1} + 2 m_{2}\\right) \\theta_{1}{\\left(t \\right)}\\\\- g l_{2} m_{2} \\theta_{2}{\\left(t \\right)}\\end{matrix}\\right]$"
      ],
      "text/plain": [
       "Matrix([\n",
       "[                         0],\n",
       "[g*l1*(m1 + 2*m2)*theta1(t)],\n",
       "[        -g*l2*m2*theta2(t)]])"
      ]
     },
     "execution_count": 146,
     "metadata": {},
     "output_type": "execute_result"
    }
   ],
   "source": [
    "W = sym.Matrix([0,g*l1*sym.sin(phi1)*(m1+2*m2),-g*m2*l2*sym.sin(phi2)]).subs(ponto_eq)\n",
    "W"
   ]
  },
  {
   "cell_type": "code",
   "execution_count": 167,
   "metadata": {},
   "outputs": [
    {
     "data": {
      "text/latex": [
       "$\\displaystyle \\left[\\begin{matrix}u{\\left(t \\right)}\\\\0\\\\0\\end{matrix}\\right]$"
      ],
      "text/plain": [
       "Matrix([\n",
       "[u(t)],\n",
       "[   0],\n",
       "[   0]])"
      ]
     },
     "execution_count": 167,
     "metadata": {},
     "output_type": "execute_result"
    }
   ],
   "source": [
    "V = sym.Matrix([u,0,0])\n",
    "V"
   ]
  },
  {
   "cell_type": "code",
   "execution_count": 149,
   "metadata": {},
   "outputs": [
    {
     "data": {
      "text/latex": [
       "$\\displaystyle \\left[\\begin{matrix}- \\frac{g l_{1} \\left(m_{1} + 2 m_{2}\\right) \\left(- 1.0 J_{2} l_{1} m_{1} - 2.0 J_{2} l_{1} m_{2} - 2.0 l_{1} l_{2}^{2} m_{1} m_{2} - 2.0 l_{1} l_{2}^{2} m_{2}^{2}\\right) \\theta_{1}{\\left(t \\right)}}{- 1.0 J_{1} J_{2} M - 1.0 J_{1} J_{2} m_{1} - 1.0 J_{1} J_{2} m_{2} - 2.0 J_{1} M l_{2}^{2} m_{2} - 2.0 J_{1} l_{2}^{2} m_{1} m_{2} - 1.0 J_{1} l_{2}^{2} m_{2}^{2} - 1.0 J_{2} M l_{1}^{2} m_{1} - 2.0 J_{2} M l_{1}^{2} m_{2} + 1.0 J_{2} l_{1}^{2} m_{1} m_{2} + 2.0 J_{2} l_{1}^{2} m_{2}^{2} - 2.0 M l_{1}^{2} l_{2}^{2} m_{1} m_{2} + 3.0 l_{1}^{2} l_{2}^{2} m_{1} m_{2}^{2} + 2.0 l_{1}^{2} l_{2}^{2} m_{2}^{3}} + \\frac{g l_{2} m_{2} \\left(- 1.0 J_{1} l_{2} m_{2} + 1.0 l_{1}^{2} l_{2} m_{1} m_{2} + 2.0 l_{1}^{2} l_{2} m_{2}^{2}\\right) \\theta_{2}{\\left(t \\right)}}{- 1.0 J_{1} J_{2} M - 1.0 J_{1} J_{2} m_{1} - 1.0 J_{1} J_{2} m_{2} - 2.0 J_{1} M l_{2}^{2} m_{2} - 2.0 J_{1} l_{2}^{2} m_{1} m_{2} - 1.0 J_{1} l_{2}^{2} m_{2}^{2} - 1.0 J_{2} M l_{1}^{2} m_{1} - 2.0 J_{2} M l_{1}^{2} m_{2} + 1.0 J_{2} l_{1}^{2} m_{1} m_{2} + 2.0 J_{2} l_{1}^{2} m_{2}^{2} - 2.0 M l_{1}^{2} l_{2}^{2} m_{1} m_{2} + 3.0 l_{1}^{2} l_{2}^{2} m_{1} m_{2}^{2} + 2.0 l_{1}^{2} l_{2}^{2} m_{2}^{3}}\\\\- \\frac{g l_{1} \\left(m_{1} + 2 m_{2}\\right) \\left(- 1.0 J_{2} M - 1.0 J_{2} m_{1} - 1.0 J_{2} m_{2} - 2.0 M l_{2}^{2} m_{2} - 2.0 l_{2}^{2} m_{1} m_{2} - 1.0 l_{2}^{2} m_{2}^{2}\\right) \\theta_{1}{\\left(t \\right)}}{- 1.0 J_{1} J_{2} M - 1.0 J_{1} J_{2} m_{1} - 1.0 J_{1} J_{2} m_{2} - 2.0 J_{1} M l_{2}^{2} m_{2} - 2.0 J_{1} l_{2}^{2} m_{1} m_{2} - 1.0 J_{1} l_{2}^{2} m_{2}^{2} - 1.0 J_{2} M l_{1}^{2} m_{1} - 2.0 J_{2} M l_{1}^{2} m_{2} + 1.0 J_{2} l_{1}^{2} m_{1} m_{2} + 2.0 J_{2} l_{1}^{2} m_{2}^{2} - 2.0 M l_{1}^{2} l_{2}^{2} m_{1} m_{2} + 3.0 l_{1}^{2} l_{2}^{2} m_{1} m_{2}^{2} + 2.0 l_{1}^{2} l_{2}^{2} m_{2}^{3}} + \\frac{g l_{2} m_{2} \\cdot \\left(2.0 M l_{1} l_{2} m_{2} + 1.0 l_{1} l_{2} m_{1} m_{2}\\right) \\theta_{2}{\\left(t \\right)}}{- 1.0 J_{1} J_{2} M - 1.0 J_{1} J_{2} m_{1} - 1.0 J_{1} J_{2} m_{2} - 2.0 J_{1} M l_{2}^{2} m_{2} - 2.0 J_{1} l_{2}^{2} m_{1} m_{2} - 1.0 J_{1} l_{2}^{2} m_{2}^{2} - 1.0 J_{2} M l_{1}^{2} m_{1} - 2.0 J_{2} M l_{1}^{2} m_{2} + 1.0 J_{2} l_{1}^{2} m_{1} m_{2} + 2.0 J_{2} l_{1}^{2} m_{2}^{2} - 2.0 M l_{1}^{2} l_{2}^{2} m_{1} m_{2} + 3.0 l_{1}^{2} l_{2}^{2} m_{1} m_{2}^{2} + 2.0 l_{1}^{2} l_{2}^{2} m_{2}^{3}}\\\\- \\frac{g l_{1} \\left(m_{1} + 2 m_{2}\\right) \\left(2.0 M l_{1} l_{2} m_{2} + 1.0 l_{1} l_{2} m_{1} m_{2}\\right) \\theta_{1}{\\left(t \\right)}}{- 1.0 J_{1} J_{2} M - 1.0 J_{1} J_{2} m_{1} - 1.0 J_{1} J_{2} m_{2} - 2.0 J_{1} M l_{2}^{2} m_{2} - 2.0 J_{1} l_{2}^{2} m_{1} m_{2} - 1.0 J_{1} l_{2}^{2} m_{2}^{2} - 1.0 J_{2} M l_{1}^{2} m_{1} - 2.0 J_{2} M l_{1}^{2} m_{2} + 1.0 J_{2} l_{1}^{2} m_{1} m_{2} + 2.0 J_{2} l_{1}^{2} m_{2}^{2} - 2.0 M l_{1}^{2} l_{2}^{2} m_{1} m_{2} + 3.0 l_{1}^{2} l_{2}^{2} m_{1} m_{2}^{2} + 2.0 l_{1}^{2} l_{2}^{2} m_{2}^{3}} + \\frac{g l_{2} m_{2} \\left(- 1.0 J_{1} M - 1.0 J_{1} m_{1} - 1.0 J_{1} m_{2} - 1.0 M l_{1}^{2} m_{1} - 2.0 M l_{1}^{2} m_{2} + 1.0 l_{1}^{2} m_{1} m_{2} + 2.0 l_{1}^{2} m_{2}^{2}\\right) \\theta_{2}{\\left(t \\right)}}{- 1.0 J_{1} J_{2} M - 1.0 J_{1} J_{2} m_{1} - 1.0 J_{1} J_{2} m_{2} - 2.0 J_{1} M l_{2}^{2} m_{2} - 2.0 J_{1} l_{2}^{2} m_{1} m_{2} - 1.0 J_{1} l_{2}^{2} m_{2}^{2} - 1.0 J_{2} M l_{1}^{2} m_{1} - 2.0 J_{2} M l_{1}^{2} m_{2} + 1.0 J_{2} l_{1}^{2} m_{1} m_{2} + 2.0 J_{2} l_{1}^{2} m_{2}^{2} - 2.0 M l_{1}^{2} l_{2}^{2} m_{1} m_{2} + 3.0 l_{1}^{2} l_{2}^{2} m_{1} m_{2}^{2} + 2.0 l_{1}^{2} l_{2}^{2} m_{2}^{3}}\\end{matrix}\\right]$"
      ],
      "text/plain": [
       "Matrix([\n",
       "[          -g*l1*(m1 + 2*m2)*(-1.0*J2*l1*m1 - 2.0*J2*l1*m2 - 2.0*l1*l2**2*m1*m2 - 2.0*l1*l2**2*m2**2)*theta1(t)/(-1.0*J1*J2*M - 1.0*J1*J2*m1 - 1.0*J1*J2*m2 - 2.0*J1*M*l2**2*m2 - 2.0*J1*l2**2*m1*m2 - 1.0*J1*l2**2*m2**2 - 1.0*J2*M*l1**2*m1 - 2.0*J2*M*l1**2*m2 + 1.0*J2*l1**2*m1*m2 + 2.0*J2*l1**2*m2**2 - 2.0*M*l1**2*l2**2*m1*m2 + 3.0*l1**2*l2**2*m1*m2**2 + 2.0*l1**2*l2**2*m2**3) + g*l2*m2*(-1.0*J1*l2*m2 + 1.0*l1**2*l2*m1*m2 + 2.0*l1**2*l2*m2**2)*theta2(t)/(-1.0*J1*J2*M - 1.0*J1*J2*m1 - 1.0*J1*J2*m2 - 2.0*J1*M*l2**2*m2 - 2.0*J1*l2**2*m1*m2 - 1.0*J1*l2**2*m2**2 - 1.0*J2*M*l1**2*m1 - 2.0*J2*M*l1**2*m2 + 1.0*J2*l1**2*m1*m2 + 2.0*J2*l1**2*m2**2 - 2.0*M*l1**2*l2**2*m1*m2 + 3.0*l1**2*l2**2*m1*m2**2 + 2.0*l1**2*l2**2*m2**3)],\n",
       "[                 -g*l1*(m1 + 2*m2)*(-1.0*J2*M - 1.0*J2*m1 - 1.0*J2*m2 - 2.0*M*l2**2*m2 - 2.0*l2**2*m1*m2 - 1.0*l2**2*m2**2)*theta1(t)/(-1.0*J1*J2*M - 1.0*J1*J2*m1 - 1.0*J1*J2*m2 - 2.0*J1*M*l2**2*m2 - 2.0*J1*l2**2*m1*m2 - 1.0*J1*l2**2*m2**2 - 1.0*J2*M*l1**2*m1 - 2.0*J2*M*l1**2*m2 + 1.0*J2*l1**2*m1*m2 + 2.0*J2*l1**2*m2**2 - 2.0*M*l1**2*l2**2*m1*m2 + 3.0*l1**2*l2**2*m1*m2**2 + 2.0*l1**2*l2**2*m2**3) + g*l2*m2*(2.0*M*l1*l2*m2 + 1.0*l1*l2*m1*m2)*theta2(t)/(-1.0*J1*J2*M - 1.0*J1*J2*m1 - 1.0*J1*J2*m2 - 2.0*J1*M*l2**2*m2 - 2.0*J1*l2**2*m1*m2 - 1.0*J1*l2**2*m2**2 - 1.0*J2*M*l1**2*m1 - 2.0*J2*M*l1**2*m2 + 1.0*J2*l1**2*m1*m2 + 2.0*J2*l1**2*m2**2 - 2.0*M*l1**2*l2**2*m1*m2 + 3.0*l1**2*l2**2*m1*m2**2 + 2.0*l1**2*l2**2*m2**3)],\n",
       "[-g*l1*(m1 + 2*m2)*(2.0*M*l1*l2*m2 + 1.0*l1*l2*m1*m2)*theta1(t)/(-1.0*J1*J2*M - 1.0*J1*J2*m1 - 1.0*J1*J2*m2 - 2.0*J1*M*l2**2*m2 - 2.0*J1*l2**2*m1*m2 - 1.0*J1*l2**2*m2**2 - 1.0*J2*M*l1**2*m1 - 2.0*J2*M*l1**2*m2 + 1.0*J2*l1**2*m1*m2 + 2.0*J2*l1**2*m2**2 - 2.0*M*l1**2*l2**2*m1*m2 + 3.0*l1**2*l2**2*m1*m2**2 + 2.0*l1**2*l2**2*m2**3) + g*l2*m2*(-1.0*J1*M - 1.0*J1*m1 - 1.0*J1*m2 - 1.0*M*l1**2*m1 - 2.0*M*l1**2*m2 + 1.0*l1**2*m1*m2 + 2.0*l1**2*m2**2)*theta2(t)/(-1.0*J1*J2*M - 1.0*J1*J2*m1 - 1.0*J1*J2*m2 - 2.0*J1*M*l2**2*m2 - 2.0*J1*l2**2*m1*m2 - 1.0*J1*l2**2*m2**2 - 1.0*J2*M*l1**2*m1 - 2.0*J2*M*l1**2*m2 + 1.0*J2*l1**2*m1*m2 + 2.0*J2*l1**2*m2**2 - 2.0*M*l1**2*l2**2*m1*m2 + 3.0*l1**2*l2**2*m1*m2**2 + 2.0*l1**2*l2**2*m2**3)]])"
      ]
     },
     "execution_count": 149,
     "metadata": {},
     "output_type": "execute_result"
    }
   ],
   "source": [
    "C = N*q_d.transpose() + W\n",
    "S = (-H_inv*C).subs(ponto_eq)\n",
    "S"
   ]
  },
  {
   "cell_type": "code",
   "execution_count": 168,
   "metadata": {},
   "outputs": [
    {
     "data": {
      "text/latex": [
       "$\\displaystyle \\left[\\begin{matrix}- \\frac{\\left(- 1.0 J_{1} J_{2} - 2.0 J_{1} l_{2}^{2} m_{2} - 1.0 J_{2} l_{1}^{2} m_{1} - 2.0 J_{2} l_{1}^{2} m_{2} - 2.0 l_{1}^{2} l_{2}^{2} m_{1} m_{2}\\right) u{\\left(t \\right)}}{- 1.0 J_{1} J_{2} M - 1.0 J_{1} J_{2} m_{1} - 1.0 J_{1} J_{2} m_{2} - 2.0 J_{1} M l_{2}^{2} m_{2} - 2.0 J_{1} l_{2}^{2} m_{1} m_{2} - 1.0 J_{1} l_{2}^{2} m_{2}^{2} - 1.0 J_{2} M l_{1}^{2} m_{1} - 2.0 J_{2} M l_{1}^{2} m_{2} + 1.0 J_{2} l_{1}^{2} m_{1} m_{2} + 2.0 J_{2} l_{1}^{2} m_{2}^{2} - 2.0 M l_{1}^{2} l_{2}^{2} m_{1} m_{2} + 3.0 l_{1}^{2} l_{2}^{2} m_{1} m_{2}^{2} + 2.0 l_{1}^{2} l_{2}^{2} m_{2}^{3}}\\\\- \\frac{\\left(- 1.0 J_{2} l_{1} m_{1} - 2.0 J_{2} l_{1} m_{2} - 2.0 l_{1} l_{2}^{2} m_{1} m_{2} - 2.0 l_{1} l_{2}^{2} m_{2}^{2}\\right) u{\\left(t \\right)}}{- 1.0 J_{1} J_{2} M - 1.0 J_{1} J_{2} m_{1} - 1.0 J_{1} J_{2} m_{2} - 2.0 J_{1} M l_{2}^{2} m_{2} - 2.0 J_{1} l_{2}^{2} m_{1} m_{2} - 1.0 J_{1} l_{2}^{2} m_{2}^{2} - 1.0 J_{2} M l_{1}^{2} m_{1} - 2.0 J_{2} M l_{1}^{2} m_{2} + 1.0 J_{2} l_{1}^{2} m_{1} m_{2} + 2.0 J_{2} l_{1}^{2} m_{2}^{2} - 2.0 M l_{1}^{2} l_{2}^{2} m_{1} m_{2} + 3.0 l_{1}^{2} l_{2}^{2} m_{1} m_{2}^{2} + 2.0 l_{1}^{2} l_{2}^{2} m_{2}^{3}}\\\\- \\frac{\\left(- 1.0 J_{1} l_{2} m_{2} + 1.0 l_{1}^{2} l_{2} m_{1} m_{2} + 2.0 l_{1}^{2} l_{2} m_{2}^{2}\\right) u{\\left(t \\right)}}{- 1.0 J_{1} J_{2} M - 1.0 J_{1} J_{2} m_{1} - 1.0 J_{1} J_{2} m_{2} - 2.0 J_{1} M l_{2}^{2} m_{2} - 2.0 J_{1} l_{2}^{2} m_{1} m_{2} - 1.0 J_{1} l_{2}^{2} m_{2}^{2} - 1.0 J_{2} M l_{1}^{2} m_{1} - 2.0 J_{2} M l_{1}^{2} m_{2} + 1.0 J_{2} l_{1}^{2} m_{1} m_{2} + 2.0 J_{2} l_{1}^{2} m_{2}^{2} - 2.0 M l_{1}^{2} l_{2}^{2} m_{1} m_{2} + 3.0 l_{1}^{2} l_{2}^{2} m_{1} m_{2}^{2} + 2.0 l_{1}^{2} l_{2}^{2} m_{2}^{3}}\\end{matrix}\\right]$"
      ],
      "text/plain": [
       "Matrix([\n",
       "[-(-1.0*J1*J2 - 2.0*J1*l2**2*m2 - 1.0*J2*l1**2*m1 - 2.0*J2*l1**2*m2 - 2.0*l1**2*l2**2*m1*m2)*u(t)/(-1.0*J1*J2*M - 1.0*J1*J2*m1 - 1.0*J1*J2*m2 - 2.0*J1*M*l2**2*m2 - 2.0*J1*l2**2*m1*m2 - 1.0*J1*l2**2*m2**2 - 1.0*J2*M*l1**2*m1 - 2.0*J2*M*l1**2*m2 + 1.0*J2*l1**2*m1*m2 + 2.0*J2*l1**2*m2**2 - 2.0*M*l1**2*l2**2*m1*m2 + 3.0*l1**2*l2**2*m1*m2**2 + 2.0*l1**2*l2**2*m2**3)],\n",
       "[                  -(-1.0*J2*l1*m1 - 2.0*J2*l1*m2 - 2.0*l1*l2**2*m1*m2 - 2.0*l1*l2**2*m2**2)*u(t)/(-1.0*J1*J2*M - 1.0*J1*J2*m1 - 1.0*J1*J2*m2 - 2.0*J1*M*l2**2*m2 - 2.0*J1*l2**2*m1*m2 - 1.0*J1*l2**2*m2**2 - 1.0*J2*M*l1**2*m1 - 2.0*J2*M*l1**2*m2 + 1.0*J2*l1**2*m1*m2 + 2.0*J2*l1**2*m2**2 - 2.0*M*l1**2*l2**2*m1*m2 + 3.0*l1**2*l2**2*m1*m2**2 + 2.0*l1**2*l2**2*m2**3)],\n",
       "[                                 -(-1.0*J1*l2*m2 + 1.0*l1**2*l2*m1*m2 + 2.0*l1**2*l2*m2**2)*u(t)/(-1.0*J1*J2*M - 1.0*J1*J2*m1 - 1.0*J1*J2*m2 - 2.0*J1*M*l2**2*m2 - 2.0*J1*l2**2*m1*m2 - 1.0*J1*l2**2*m2**2 - 1.0*J2*M*l1**2*m1 - 2.0*J2*M*l1**2*m2 + 1.0*J2*l1**2*m1*m2 + 2.0*J2*l1**2*m2**2 - 2.0*M*l1**2*l2**2*m1*m2 + 3.0*l1**2*l2**2*m1*m2**2 + 2.0*l1**2*l2**2*m2**3)]])"
      ]
     },
     "execution_count": 168,
     "metadata": {},
     "output_type": "execute_result"
    }
   ],
   "source": [
    "B_0 = -H_inv*V\n",
    "B_0"
   ]
  },
  {
   "cell_type": "code",
   "execution_count": 150,
   "metadata": {},
   "outputs": [
    {
     "data": {
      "text/latex": [
       "$\\displaystyle \\left[\\begin{matrix}\\frac{d^{2}}{d t^{2}} x{\\left(t \\right)}\\\\\\frac{d^{2}}{d t^{2}} \\phi_{1}{\\left(t \\right)}\\\\\\frac{d^{2}}{d t^{2}} \\phi_{2}{\\left(t \\right)}\\\\- \\frac{g l_{1} \\left(m_{1} + 2 m_{2}\\right) \\left(- 1.0 J_{2} l_{1} m_{1} - 2.0 J_{2} l_{1} m_{2} - 2.0 l_{1} l_{2}^{2} m_{1} m_{2} - 2.0 l_{1} l_{2}^{2} m_{2}^{2}\\right) \\theta_{1}{\\left(t \\right)}}{- 1.0 J_{1} J_{2} M - 1.0 J_{1} J_{2} m_{1} - 1.0 J_{1} J_{2} m_{2} - 2.0 J_{1} M l_{2}^{2} m_{2} - 2.0 J_{1} l_{2}^{2} m_{1} m_{2} - 1.0 J_{1} l_{2}^{2} m_{2}^{2} - 1.0 J_{2} M l_{1}^{2} m_{1} - 2.0 J_{2} M l_{1}^{2} m_{2} + 1.0 J_{2} l_{1}^{2} m_{1} m_{2} + 2.0 J_{2} l_{1}^{2} m_{2}^{2} - 2.0 M l_{1}^{2} l_{2}^{2} m_{1} m_{2} + 3.0 l_{1}^{2} l_{2}^{2} m_{1} m_{2}^{2} + 2.0 l_{1}^{2} l_{2}^{2} m_{2}^{3}} + \\frac{g l_{2} m_{2} \\left(- 1.0 J_{1} l_{2} m_{2} + 1.0 l_{1}^{2} l_{2} m_{1} m_{2} + 2.0 l_{1}^{2} l_{2} m_{2}^{2}\\right) \\theta_{2}{\\left(t \\right)}}{- 1.0 J_{1} J_{2} M - 1.0 J_{1} J_{2} m_{1} - 1.0 J_{1} J_{2} m_{2} - 2.0 J_{1} M l_{2}^{2} m_{2} - 2.0 J_{1} l_{2}^{2} m_{1} m_{2} - 1.0 J_{1} l_{2}^{2} m_{2}^{2} - 1.0 J_{2} M l_{1}^{2} m_{1} - 2.0 J_{2} M l_{1}^{2} m_{2} + 1.0 J_{2} l_{1}^{2} m_{1} m_{2} + 2.0 J_{2} l_{1}^{2} m_{2}^{2} - 2.0 M l_{1}^{2} l_{2}^{2} m_{1} m_{2} + 3.0 l_{1}^{2} l_{2}^{2} m_{1} m_{2}^{2} + 2.0 l_{1}^{2} l_{2}^{2} m_{2}^{3}}\\\\- \\frac{g l_{1} \\left(m_{1} + 2 m_{2}\\right) \\left(- 1.0 J_{2} M - 1.0 J_{2} m_{1} - 1.0 J_{2} m_{2} - 2.0 M l_{2}^{2} m_{2} - 2.0 l_{2}^{2} m_{1} m_{2} - 1.0 l_{2}^{2} m_{2}^{2}\\right) \\theta_{1}{\\left(t \\right)}}{- 1.0 J_{1} J_{2} M - 1.0 J_{1} J_{2} m_{1} - 1.0 J_{1} J_{2} m_{2} - 2.0 J_{1} M l_{2}^{2} m_{2} - 2.0 J_{1} l_{2}^{2} m_{1} m_{2} - 1.0 J_{1} l_{2}^{2} m_{2}^{2} - 1.0 J_{2} M l_{1}^{2} m_{1} - 2.0 J_{2} M l_{1}^{2} m_{2} + 1.0 J_{2} l_{1}^{2} m_{1} m_{2} + 2.0 J_{2} l_{1}^{2} m_{2}^{2} - 2.0 M l_{1}^{2} l_{2}^{2} m_{1} m_{2} + 3.0 l_{1}^{2} l_{2}^{2} m_{1} m_{2}^{2} + 2.0 l_{1}^{2} l_{2}^{2} m_{2}^{3}} + \\frac{g l_{2} m_{2} \\cdot \\left(2.0 M l_{1} l_{2} m_{2} + 1.0 l_{1} l_{2} m_{1} m_{2}\\right) \\theta_{2}{\\left(t \\right)}}{- 1.0 J_{1} J_{2} M - 1.0 J_{1} J_{2} m_{1} - 1.0 J_{1} J_{2} m_{2} - 2.0 J_{1} M l_{2}^{2} m_{2} - 2.0 J_{1} l_{2}^{2} m_{1} m_{2} - 1.0 J_{1} l_{2}^{2} m_{2}^{2} - 1.0 J_{2} M l_{1}^{2} m_{1} - 2.0 J_{2} M l_{1}^{2} m_{2} + 1.0 J_{2} l_{1}^{2} m_{1} m_{2} + 2.0 J_{2} l_{1}^{2} m_{2}^{2} - 2.0 M l_{1}^{2} l_{2}^{2} m_{1} m_{2} + 3.0 l_{1}^{2} l_{2}^{2} m_{1} m_{2}^{2} + 2.0 l_{1}^{2} l_{2}^{2} m_{2}^{3}}\\\\- \\frac{g l_{1} \\left(m_{1} + 2 m_{2}\\right) \\left(2.0 M l_{1} l_{2} m_{2} + 1.0 l_{1} l_{2} m_{1} m_{2}\\right) \\theta_{1}{\\left(t \\right)}}{- 1.0 J_{1} J_{2} M - 1.0 J_{1} J_{2} m_{1} - 1.0 J_{1} J_{2} m_{2} - 2.0 J_{1} M l_{2}^{2} m_{2} - 2.0 J_{1} l_{2}^{2} m_{1} m_{2} - 1.0 J_{1} l_{2}^{2} m_{2}^{2} - 1.0 J_{2} M l_{1}^{2} m_{1} - 2.0 J_{2} M l_{1}^{2} m_{2} + 1.0 J_{2} l_{1}^{2} m_{1} m_{2} + 2.0 J_{2} l_{1}^{2} m_{2}^{2} - 2.0 M l_{1}^{2} l_{2}^{2} m_{1} m_{2} + 3.0 l_{1}^{2} l_{2}^{2} m_{1} m_{2}^{2} + 2.0 l_{1}^{2} l_{2}^{2} m_{2}^{3}} + \\frac{g l_{2} m_{2} \\left(- 1.0 J_{1} M - 1.0 J_{1} m_{1} - 1.0 J_{1} m_{2} - 1.0 M l_{1}^{2} m_{1} - 2.0 M l_{1}^{2} m_{2} + 1.0 l_{1}^{2} m_{1} m_{2} + 2.0 l_{1}^{2} m_{2}^{2}\\right) \\theta_{2}{\\left(t \\right)}}{- 1.0 J_{1} J_{2} M - 1.0 J_{1} J_{2} m_{1} - 1.0 J_{1} J_{2} m_{2} - 2.0 J_{1} M l_{2}^{2} m_{2} - 2.0 J_{1} l_{2}^{2} m_{1} m_{2} - 1.0 J_{1} l_{2}^{2} m_{2}^{2} - 1.0 J_{2} M l_{1}^{2} m_{1} - 2.0 J_{2} M l_{1}^{2} m_{2} + 1.0 J_{2} l_{1}^{2} m_{1} m_{2} + 2.0 J_{2} l_{1}^{2} m_{2}^{2} - 2.0 M l_{1}^{2} l_{2}^{2} m_{1} m_{2} + 3.0 l_{1}^{2} l_{2}^{2} m_{1} m_{2}^{2} + 2.0 l_{1}^{2} l_{2}^{2} m_{2}^{3}}\\end{matrix}\\right]$"
      ],
      "text/plain": [
       "Matrix([\n",
       "[                                                                                                                                                                                                                                                                                                                                                                                                                                                                                                                                                                                                                                                                                                                        Derivative(x(t), (t, 2))],\n",
       "[                                                                                                                                                                                                                                                                                                                                                                                                                                                                                                                                                                                                                                                                                                                     Derivative(phi1(t), (t, 2))],\n",
       "[                                                                                                                                                                                                                                                                                                                                                                                                                                                                                                                                                                                                                                                                                                                     Derivative(phi2(t), (t, 2))],\n",
       "[          -g*l1*(m1 + 2*m2)*(-1.0*J2*l1*m1 - 2.0*J2*l1*m2 - 2.0*l1*l2**2*m1*m2 - 2.0*l1*l2**2*m2**2)*theta1(t)/(-1.0*J1*J2*M - 1.0*J1*J2*m1 - 1.0*J1*J2*m2 - 2.0*J1*M*l2**2*m2 - 2.0*J1*l2**2*m1*m2 - 1.0*J1*l2**2*m2**2 - 1.0*J2*M*l1**2*m1 - 2.0*J2*M*l1**2*m2 + 1.0*J2*l1**2*m1*m2 + 2.0*J2*l1**2*m2**2 - 2.0*M*l1**2*l2**2*m1*m2 + 3.0*l1**2*l2**2*m1*m2**2 + 2.0*l1**2*l2**2*m2**3) + g*l2*m2*(-1.0*J1*l2*m2 + 1.0*l1**2*l2*m1*m2 + 2.0*l1**2*l2*m2**2)*theta2(t)/(-1.0*J1*J2*M - 1.0*J1*J2*m1 - 1.0*J1*J2*m2 - 2.0*J1*M*l2**2*m2 - 2.0*J1*l2**2*m1*m2 - 1.0*J1*l2**2*m2**2 - 1.0*J2*M*l1**2*m1 - 2.0*J2*M*l1**2*m2 + 1.0*J2*l1**2*m1*m2 + 2.0*J2*l1**2*m2**2 - 2.0*M*l1**2*l2**2*m1*m2 + 3.0*l1**2*l2**2*m1*m2**2 + 2.0*l1**2*l2**2*m2**3)],\n",
       "[                 -g*l1*(m1 + 2*m2)*(-1.0*J2*M - 1.0*J2*m1 - 1.0*J2*m2 - 2.0*M*l2**2*m2 - 2.0*l2**2*m1*m2 - 1.0*l2**2*m2**2)*theta1(t)/(-1.0*J1*J2*M - 1.0*J1*J2*m1 - 1.0*J1*J2*m2 - 2.0*J1*M*l2**2*m2 - 2.0*J1*l2**2*m1*m2 - 1.0*J1*l2**2*m2**2 - 1.0*J2*M*l1**2*m1 - 2.0*J2*M*l1**2*m2 + 1.0*J2*l1**2*m1*m2 + 2.0*J2*l1**2*m2**2 - 2.0*M*l1**2*l2**2*m1*m2 + 3.0*l1**2*l2**2*m1*m2**2 + 2.0*l1**2*l2**2*m2**3) + g*l2*m2*(2.0*M*l1*l2*m2 + 1.0*l1*l2*m1*m2)*theta2(t)/(-1.0*J1*J2*M - 1.0*J1*J2*m1 - 1.0*J1*J2*m2 - 2.0*J1*M*l2**2*m2 - 2.0*J1*l2**2*m1*m2 - 1.0*J1*l2**2*m2**2 - 1.0*J2*M*l1**2*m1 - 2.0*J2*M*l1**2*m2 + 1.0*J2*l1**2*m1*m2 + 2.0*J2*l1**2*m2**2 - 2.0*M*l1**2*l2**2*m1*m2 + 3.0*l1**2*l2**2*m1*m2**2 + 2.0*l1**2*l2**2*m2**3)],\n",
       "[-g*l1*(m1 + 2*m2)*(2.0*M*l1*l2*m2 + 1.0*l1*l2*m1*m2)*theta1(t)/(-1.0*J1*J2*M - 1.0*J1*J2*m1 - 1.0*J1*J2*m2 - 2.0*J1*M*l2**2*m2 - 2.0*J1*l2**2*m1*m2 - 1.0*J1*l2**2*m2**2 - 1.0*J2*M*l1**2*m1 - 2.0*J2*M*l1**2*m2 + 1.0*J2*l1**2*m1*m2 + 2.0*J2*l1**2*m2**2 - 2.0*M*l1**2*l2**2*m1*m2 + 3.0*l1**2*l2**2*m1*m2**2 + 2.0*l1**2*l2**2*m2**3) + g*l2*m2*(-1.0*J1*M - 1.0*J1*m1 - 1.0*J1*m2 - 1.0*M*l1**2*m1 - 2.0*M*l1**2*m2 + 1.0*l1**2*m1*m2 + 2.0*l1**2*m2**2)*theta2(t)/(-1.0*J1*J2*M - 1.0*J1*J2*m1 - 1.0*J1*J2*m2 - 2.0*J1*M*l2**2*m2 - 2.0*J1*l2**2*m1*m2 - 1.0*J1*l2**2*m2**2 - 1.0*J2*M*l1**2*m1 - 2.0*J2*M*l1**2*m2 + 1.0*J2*l1**2*m1*m2 + 2.0*J2*l1**2*m2**2 - 2.0*M*l1**2*l2**2*m1*m2 + 3.0*l1**2*l2**2*m1*m2**2 + 2.0*l1**2*l2**2*m2**3)]])"
      ]
     },
     "execution_count": 150,
     "metadata": {},
     "output_type": "execute_result"
    }
   ],
   "source": [
    "f = sym.Matrix([q_dd.transpose(),S])\n",
    "f"
   ]
  },
  {
   "cell_type": "code",
   "execution_count": 154,
   "metadata": {},
   "outputs": [
    {
     "data": {
      "text/latex": [
       "$\\displaystyle \\left[\\begin{matrix}x{\\left(t \\right)}\\\\\\theta_{1}{\\left(t \\right)}\\\\\\theta_{2}{\\left(t \\right)}\\\\\\frac{d^{2}}{d t^{2}} x{\\left(t \\right)}\\\\\\frac{d^{2}}{d t^{2}} \\phi_{1}{\\left(t \\right)}\\\\\\frac{d^{2}}{d t^{2}} \\phi_{2}{\\left(t \\right)}\\end{matrix}\\right]$"
      ],
      "text/plain": [
       "Matrix([\n",
       "[                       x(t)],\n",
       "[                  theta1(t)],\n",
       "[                  theta2(t)],\n",
       "[   Derivative(x(t), (t, 2))],\n",
       "[Derivative(phi1(t), (t, 2))],\n",
       "[Derivative(phi2(t), (t, 2))]])"
      ]
     },
     "execution_count": 154,
     "metadata": {},
     "output_type": "execute_result"
    }
   ],
   "source": [
    "q_a = sym.Matrix([x,theta1,theta2])\n",
    "q = sym.Matrix([q_a,q_dd.transpose()])\n",
    "q"
   ]
  },
  {
   "cell_type": "code",
   "execution_count": 155,
   "metadata": {},
   "outputs": [
    {
     "data": {
      "text/latex": [
       "$\\displaystyle \\left[\\begin{matrix}0 & 0 & 0 & 1 & 0 & 0\\\\0 & 0 & 0 & 0 & 1 & 0\\\\0 & 0 & 0 & 0 & 0 & 1\\\\0 & - \\frac{g l_{1} \\left(m_{1} + 2 m_{2}\\right) \\left(- 1.0 J_{2} l_{1} m_{1} - 2.0 J_{2} l_{1} m_{2} - 2.0 l_{1} l_{2}^{2} m_{1} m_{2} - 2.0 l_{1} l_{2}^{2} m_{2}^{2}\\right)}{- 1.0 J_{1} J_{2} M - 1.0 J_{1} J_{2} m_{1} - 1.0 J_{1} J_{2} m_{2} - 2.0 J_{1} M l_{2}^{2} m_{2} - 2.0 J_{1} l_{2}^{2} m_{1} m_{2} - 1.0 J_{1} l_{2}^{2} m_{2}^{2} - 1.0 J_{2} M l_{1}^{2} m_{1} - 2.0 J_{2} M l_{1}^{2} m_{2} + 1.0 J_{2} l_{1}^{2} m_{1} m_{2} + 2.0 J_{2} l_{1}^{2} m_{2}^{2} - 2.0 M l_{1}^{2} l_{2}^{2} m_{1} m_{2} + 3.0 l_{1}^{2} l_{2}^{2} m_{1} m_{2}^{2} + 2.0 l_{1}^{2} l_{2}^{2} m_{2}^{3}} & \\frac{g l_{2} m_{2} \\left(- 1.0 J_{1} l_{2} m_{2} + 1.0 l_{1}^{2} l_{2} m_{1} m_{2} + 2.0 l_{1}^{2} l_{2} m_{2}^{2}\\right)}{- 1.0 J_{1} J_{2} M - 1.0 J_{1} J_{2} m_{1} - 1.0 J_{1} J_{2} m_{2} - 2.0 J_{1} M l_{2}^{2} m_{2} - 2.0 J_{1} l_{2}^{2} m_{1} m_{2} - 1.0 J_{1} l_{2}^{2} m_{2}^{2} - 1.0 J_{2} M l_{1}^{2} m_{1} - 2.0 J_{2} M l_{1}^{2} m_{2} + 1.0 J_{2} l_{1}^{2} m_{1} m_{2} + 2.0 J_{2} l_{1}^{2} m_{2}^{2} - 2.0 M l_{1}^{2} l_{2}^{2} m_{1} m_{2} + 3.0 l_{1}^{2} l_{2}^{2} m_{1} m_{2}^{2} + 2.0 l_{1}^{2} l_{2}^{2} m_{2}^{3}} & 0 & 0 & 0\\\\0 & - \\frac{g l_{1} \\left(m_{1} + 2 m_{2}\\right) \\left(- 1.0 J_{2} M - 1.0 J_{2} m_{1} - 1.0 J_{2} m_{2} - 2.0 M l_{2}^{2} m_{2} - 2.0 l_{2}^{2} m_{1} m_{2} - 1.0 l_{2}^{2} m_{2}^{2}\\right)}{- 1.0 J_{1} J_{2} M - 1.0 J_{1} J_{2} m_{1} - 1.0 J_{1} J_{2} m_{2} - 2.0 J_{1} M l_{2}^{2} m_{2} - 2.0 J_{1} l_{2}^{2} m_{1} m_{2} - 1.0 J_{1} l_{2}^{2} m_{2}^{2} - 1.0 J_{2} M l_{1}^{2} m_{1} - 2.0 J_{2} M l_{1}^{2} m_{2} + 1.0 J_{2} l_{1}^{2} m_{1} m_{2} + 2.0 J_{2} l_{1}^{2} m_{2}^{2} - 2.0 M l_{1}^{2} l_{2}^{2} m_{1} m_{2} + 3.0 l_{1}^{2} l_{2}^{2} m_{1} m_{2}^{2} + 2.0 l_{1}^{2} l_{2}^{2} m_{2}^{3}} & \\frac{g l_{2} m_{2} \\cdot \\left(2.0 M l_{1} l_{2} m_{2} + 1.0 l_{1} l_{2} m_{1} m_{2}\\right)}{- 1.0 J_{1} J_{2} M - 1.0 J_{1} J_{2} m_{1} - 1.0 J_{1} J_{2} m_{2} - 2.0 J_{1} M l_{2}^{2} m_{2} - 2.0 J_{1} l_{2}^{2} m_{1} m_{2} - 1.0 J_{1} l_{2}^{2} m_{2}^{2} - 1.0 J_{2} M l_{1}^{2} m_{1} - 2.0 J_{2} M l_{1}^{2} m_{2} + 1.0 J_{2} l_{1}^{2} m_{1} m_{2} + 2.0 J_{2} l_{1}^{2} m_{2}^{2} - 2.0 M l_{1}^{2} l_{2}^{2} m_{1} m_{2} + 3.0 l_{1}^{2} l_{2}^{2} m_{1} m_{2}^{2} + 2.0 l_{1}^{2} l_{2}^{2} m_{2}^{3}} & 0 & 0 & 0\\\\0 & - \\frac{g l_{1} \\left(m_{1} + 2 m_{2}\\right) \\left(2.0 M l_{1} l_{2} m_{2} + 1.0 l_{1} l_{2} m_{1} m_{2}\\right)}{- 1.0 J_{1} J_{2} M - 1.0 J_{1} J_{2} m_{1} - 1.0 J_{1} J_{2} m_{2} - 2.0 J_{1} M l_{2}^{2} m_{2} - 2.0 J_{1} l_{2}^{2} m_{1} m_{2} - 1.0 J_{1} l_{2}^{2} m_{2}^{2} - 1.0 J_{2} M l_{1}^{2} m_{1} - 2.0 J_{2} M l_{1}^{2} m_{2} + 1.0 J_{2} l_{1}^{2} m_{1} m_{2} + 2.0 J_{2} l_{1}^{2} m_{2}^{2} - 2.0 M l_{1}^{2} l_{2}^{2} m_{1} m_{2} + 3.0 l_{1}^{2} l_{2}^{2} m_{1} m_{2}^{2} + 2.0 l_{1}^{2} l_{2}^{2} m_{2}^{3}} & \\frac{g l_{2} m_{2} \\left(- 1.0 J_{1} M - 1.0 J_{1} m_{1} - 1.0 J_{1} m_{2} - 1.0 M l_{1}^{2} m_{1} - 2.0 M l_{1}^{2} m_{2} + 1.0 l_{1}^{2} m_{1} m_{2} + 2.0 l_{1}^{2} m_{2}^{2}\\right)}{- 1.0 J_{1} J_{2} M - 1.0 J_{1} J_{2} m_{1} - 1.0 J_{1} J_{2} m_{2} - 2.0 J_{1} M l_{2}^{2} m_{2} - 2.0 J_{1} l_{2}^{2} m_{1} m_{2} - 1.0 J_{1} l_{2}^{2} m_{2}^{2} - 1.0 J_{2} M l_{1}^{2} m_{1} - 2.0 J_{2} M l_{1}^{2} m_{2} + 1.0 J_{2} l_{1}^{2} m_{1} m_{2} + 2.0 J_{2} l_{1}^{2} m_{2}^{2} - 2.0 M l_{1}^{2} l_{2}^{2} m_{1} m_{2} + 3.0 l_{1}^{2} l_{2}^{2} m_{1} m_{2}^{2} + 2.0 l_{1}^{2} l_{2}^{2} m_{2}^{3}} & 0 & 0 & 0\\end{matrix}\\right]$"
      ],
      "text/plain": [
       "Matrix([\n",
       "[0,                                                                                                                                                                                                                                                                                                                                                                                    0,                                                                                                                                                                                                                                                                                                                                                                                           0, 1, 0, 0],\n",
       "[0,                                                                                                                                                                                                                                                                                                                                                                                    0,                                                                                                                                                                                                                                                                                                                                                                                           0, 0, 1, 0],\n",
       "[0,                                                                                                                                                                                                                                                                                                                                                                                    0,                                                                                                                                                                                                                                                                                                                                                                                           0, 0, 0, 1],\n",
       "[0,                 -g*l1*(m1 + 2*m2)*(-1.0*J2*l1*m1 - 2.0*J2*l1*m2 - 2.0*l1*l2**2*m1*m2 - 2.0*l1*l2**2*m2**2)/(-1.0*J1*J2*M - 1.0*J1*J2*m1 - 1.0*J1*J2*m2 - 2.0*J1*M*l2**2*m2 - 2.0*J1*l2**2*m1*m2 - 1.0*J1*l2**2*m2**2 - 1.0*J2*M*l1**2*m1 - 2.0*J2*M*l1**2*m2 + 1.0*J2*l1**2*m1*m2 + 2.0*J2*l1**2*m2**2 - 2.0*M*l1**2*l2**2*m1*m2 + 3.0*l1**2*l2**2*m1*m2**2 + 2.0*l1**2*l2**2*m2**3),                                                 g*l2*m2*(-1.0*J1*l2*m2 + 1.0*l1**2*l2*m1*m2 + 2.0*l1**2*l2*m2**2)/(-1.0*J1*J2*M - 1.0*J1*J2*m1 - 1.0*J1*J2*m2 - 2.0*J1*M*l2**2*m2 - 2.0*J1*l2**2*m1*m2 - 1.0*J1*l2**2*m2**2 - 1.0*J2*M*l1**2*m1 - 2.0*J2*M*l1**2*m2 + 1.0*J2*l1**2*m1*m2 + 2.0*J2*l1**2*m2**2 - 2.0*M*l1**2*l2**2*m1*m2 + 3.0*l1**2*l2**2*m1*m2**2 + 2.0*l1**2*l2**2*m2**3), 0, 0, 0],\n",
       "[0, -g*l1*(m1 + 2*m2)*(-1.0*J2*M - 1.0*J2*m1 - 1.0*J2*m2 - 2.0*M*l2**2*m2 - 2.0*l2**2*m1*m2 - 1.0*l2**2*m2**2)/(-1.0*J1*J2*M - 1.0*J1*J2*m1 - 1.0*J1*J2*m2 - 2.0*J1*M*l2**2*m2 - 2.0*J1*l2**2*m1*m2 - 1.0*J1*l2**2*m2**2 - 1.0*J2*M*l1**2*m1 - 2.0*J2*M*l1**2*m2 + 1.0*J2*l1**2*m1*m2 + 2.0*J2*l1**2*m2**2 - 2.0*M*l1**2*l2**2*m1*m2 + 3.0*l1**2*l2**2*m1*m2**2 + 2.0*l1**2*l2**2*m2**3),                                                                        g*l2*m2*(2.0*M*l1*l2*m2 + 1.0*l1*l2*m1*m2)/(-1.0*J1*J2*M - 1.0*J1*J2*m1 - 1.0*J1*J2*m2 - 2.0*J1*M*l2**2*m2 - 2.0*J1*l2**2*m1*m2 - 1.0*J1*l2**2*m2**2 - 1.0*J2*M*l1**2*m1 - 2.0*J2*M*l1**2*m2 + 1.0*J2*l1**2*m1*m2 + 2.0*J2*l1**2*m2**2 - 2.0*M*l1**2*l2**2*m1*m2 + 3.0*l1**2*l2**2*m1*m2**2 + 2.0*l1**2*l2**2*m2**3), 0, 0, 0],\n",
       "[0,                                                       -g*l1*(m1 + 2*m2)*(2.0*M*l1*l2*m2 + 1.0*l1*l2*m1*m2)/(-1.0*J1*J2*M - 1.0*J1*J2*m1 - 1.0*J1*J2*m2 - 2.0*J1*M*l2**2*m2 - 2.0*J1*l2**2*m1*m2 - 1.0*J1*l2**2*m2**2 - 1.0*J2*M*l1**2*m1 - 2.0*J2*M*l1**2*m2 + 1.0*J2*l1**2*m1*m2 + 2.0*J2*l1**2*m2**2 - 2.0*M*l1**2*l2**2*m1*m2 + 3.0*l1**2*l2**2*m1*m2**2 + 2.0*l1**2*l2**2*m2**3), g*l2*m2*(-1.0*J1*M - 1.0*J1*m1 - 1.0*J1*m2 - 1.0*M*l1**2*m1 - 2.0*M*l1**2*m2 + 1.0*l1**2*m1*m2 + 2.0*l1**2*m2**2)/(-1.0*J1*J2*M - 1.0*J1*J2*m1 - 1.0*J1*J2*m2 - 2.0*J1*M*l2**2*m2 - 2.0*J1*l2**2*m1*m2 - 1.0*J1*l2**2*m2**2 - 1.0*J2*M*l1**2*m1 - 2.0*J2*M*l1**2*m2 + 1.0*J2*l1**2*m1*m2 + 2.0*J2*l1**2*m2**2 - 2.0*M*l1**2*l2**2*m1*m2 + 3.0*l1**2*l2**2*m1*m2**2 + 2.0*l1**2*l2**2*m2**3), 0, 0, 0]])"
      ]
     },
     "execution_count": 155,
     "metadata": {},
     "output_type": "execute_result"
    }
   ],
   "source": [
    "f_s = f.jacobian(q)\n",
    "f_s"
   ]
  },
  {
   "cell_type": "code",
   "execution_count": 159,
   "metadata": {},
   "outputs": [
    {
     "data": {
      "text/latex": [
       "$\\displaystyle \\left[\\begin{matrix}0 & 0 & 0 & 1 & 0 & 0\\\\0 & 0 & 0 & 0 & 1 & 0\\\\0 & 0 & 0 & 0 & 0 & 1\\\\0 & -14.174396384429 & -1.57978634587627 & 0 & 0 & 0\\\\0 & -512.593348447687 & -87.3614569148167 & 0 & 0 & 0\\\\0 & 262.08437074445 & 119.903599615586 & 0 & 0 & 0\\end{matrix}\\right]$"
      ],
      "text/plain": [
       "Matrix([\n",
       "[0,                 0,                 0, 1, 0, 0],\n",
       "[0,                 0,                 0, 0, 1, 0],\n",
       "[0,                 0,                 0, 0, 0, 1],\n",
       "[0,  -14.174396384429, -1.57978634587627, 0, 0, 0],\n",
       "[0, -512.593348447687, -87.3614569148167, 0, 0, 0],\n",
       "[0,   262.08437074445,  119.903599615586, 0, 0, 0]])"
      ]
     },
     "execution_count": 159,
     "metadata": {},
     "output_type": "execute_result"
    }
   ],
   "source": [
    "valor_param = {M:1,m1:0.4,m2:0.4,J1:0.00083,J2:0.00083,\\\n",
    "               l1:0.05,l2:0.05,g:9.81,f0:0.01,f1:0.007,f2:0.007}\n",
    "\n",
    "A = f_s.subs(valor_param)\n",
    "A"
   ]
  },
  {
   "cell_type": "code",
   "execution_count": 169,
   "metadata": {},
   "outputs": [
    {
     "data": {
      "text/latex": [
       "$\\displaystyle \\left[\\begin{matrix}-1.26880790794839\\\\-24.0815432966854\\\\8.05191817470065\\end{matrix}\\right]$"
      ],
      "text/plain": [
       "Matrix([\n",
       "[-1.26880790794839],\n",
       "[-24.0815432966854],\n",
       "[ 8.05191817470065]])"
      ]
     },
     "execution_count": 169,
     "metadata": {},
     "output_type": "execute_result"
    }
   ],
   "source": [
    "# Matriz B\n",
    "b_i = B_0.jacobian([u])\n",
    "B = b_i.subs(valor_param)\n",
    "B"
   ]
  },
  {
   "cell_type": "markdown",
   "metadata": {},
   "source": [
    "# 2 Modelagem pelo módulo Numpy"
   ]
  },
  {
   "cell_type": "markdown",
   "metadata": {},
   "source": [
    "# 3 Estabilidade"
   ]
  }
 ],
 "metadata": {
  "kernelspec": {
   "display_name": "Python 3",
   "language": "python",
   "name": "python3"
  },
  "language_info": {
   "codemirror_mode": {
    "name": "ipython",
    "version": 3
   },
   "file_extension": ".py",
   "mimetype": "text/x-python",
   "name": "python",
   "nbconvert_exporter": "python",
   "pygments_lexer": "ipython3",
   "version": "3.10.13"
  }
 },
 "nbformat": 4,
 "nbformat_minor": 2
}
