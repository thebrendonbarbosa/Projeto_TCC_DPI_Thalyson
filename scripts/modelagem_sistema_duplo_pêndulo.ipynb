{
 "cells": [
  {
   "cell_type": "code",
   "execution_count": 4,
   "metadata": {},
   "outputs": [],
   "source": [
    "#!pip install control\n",
    "#!pip install slycot"
   ]
  },
  {
   "cell_type": "code",
   "execution_count": 7,
   "metadata": {},
   "outputs": [],
   "source": [
    "# importa os modulo necessários \n",
    "\n",
    "import numpy as np\n",
    "import matplotlib.pyplot as plt\n",
    "import sympy as sym\n",
    "import control as ct\n"
   ]
  },
  {
   "cell_type": "markdown",
   "metadata": {},
   "source": [
    "# 1 Modelagem pela módulo Sympy"
   ]
  },
  {
   "cell_type": "code",
   "execution_count": 23,
   "metadata": {},
   "outputs": [],
   "source": [
    "# Definindo as variáveis simbólicas\n",
    "\n",
    "# Constantes\n",
    "M, m1, m2, m3, l1, l2,J1, J2, g, t, f0, f1, f2 = sym.symbols('M m1 m2 m3 l1 l2 J1 J2 g t  f0 f1 f2')\n",
    "\n",
    "# Variáveis\n",
    "phi1, phi2, x,u = sym.symbols(r'phi1 phi2 x u', cls=sym.Function) # funções para se trabalhar em cima\n"
   ]
  },
  {
   "cell_type": "code",
   "execution_count": 24,
   "metadata": {},
   "outputs": [],
   "source": [
    "# Definindo as derivadas no tempo \n",
    "\n",
    "x = x(t)\n",
    "u = u(t)\n",
    "phi1 = phi1(t)\n",
    "phi2 = phi2(t)\n",
    "\n",
    "x_d = sym.diff(x, t)\n",
    "phi1_d = sym.diff(phi1, t)\n",
    "phi2_d = sym.diff(phi2, t)\n",
    "\n",
    "x_dd = sym.diff(x_d, t)\n",
    "phi1_dd = sym.diff(phi1_d, t)\n",
    "phi2_dd = sym.diff(phi2_d, t)\n",
    "\n",
    "dpdp2=phi2_d*phi2_d\n",
    "dpdp1=phi1_d*phi1_d\n",
    "dxdx=x_d*x_d"
   ]
  },
  {
   "cell_type": "code",
   "execution_count": 26,
   "metadata": {},
   "outputs": [
    {
     "data": {
      "text/latex": [
       "$\\displaystyle - g l_{1} m_{1} \\cos{\\left(\\phi_{1}{\\left(t \\right)} \\right)} - g m_{2} \\cdot \\left(2 l_{1} \\cos{\\left(\\phi_{1}{\\left(t \\right)} \\right)} - l_{2} \\cos{\\left(\\phi_{2}{\\left(t \\right)} \\right)}\\right) + 2 l_{1} l_{2} m_{2} \\cos{\\left(\\phi_{1}{\\left(t \\right)} - \\phi_{2}{\\left(t \\right)} \\right)} \\frac{d}{d t} \\phi_{1}{\\left(t \\right)} \\frac{d}{d t} \\phi_{2}{\\left(t \\right)} + 0.5 \\left(J_{1} + l_{1}^{2} \\left(m_{1} + 2 m_{2}\\right)\\right) \\left(\\frac{d}{d t} \\phi_{1}{\\left(t \\right)}\\right)^{2} + \\left(0.5 J_{2} + l_{2}^{2} m_{2}\\right) \\left(\\frac{d}{d t} \\phi_{2}{\\left(t \\right)}\\right)^{2} + 0.5 \\left(M + m_{1} + m_{2}\\right) \\left(\\frac{d}{d t} x{\\left(t \\right)}\\right)^{2} + \\left(- l_{1} m_{1} \\cos{\\left(\\phi_{1}{\\left(t \\right)} \\right)} \\frac{d}{d t} \\phi_{1}{\\left(t \\right)} - 2 l_{1} m_{2} \\cos{\\left(\\phi_{1}{\\left(t \\right)} \\right)} \\frac{d}{d t} \\phi_{1}{\\left(t \\right)} - l_{2} m_{2} \\cos{\\left(\\phi_{2}{\\left(t \\right)} \\right)} \\frac{d}{d t} \\phi_{2}{\\left(t \\right)}\\right) \\frac{d}{d t} x{\\left(t \\right)}$"
      ],
      "text/plain": [
       "-g*l1*m1*cos(phi1(t)) - g*m2*(2*l1*cos(phi1(t)) - l2*cos(phi2(t))) + 2*l1*l2*m2*cos(phi1(t) - phi2(t))*Derivative(phi1(t), t)*Derivative(phi2(t), t) + 0.5*(J1 + l1**2*(m1 + 2*m2))*Derivative(phi1(t), t)**2 + (0.5*J2 + l2**2*m2)*Derivative(phi2(t), t)**2 + 0.5*(M + m1 + m2)*Derivative(x(t), t)**2 + (-l1*m1*cos(phi1(t))*Derivative(phi1(t), t) - 2*l1*m2*cos(phi1(t))*Derivative(phi1(t), t) - l2*m2*cos(phi2(t))*Derivative(phi2(t), t))*Derivative(x(t), t)"
      ]
     },
     "execution_count": 26,
     "metadata": {},
     "output_type": "execute_result"
    }
   ],
   "source": [
    "# Equação de Lagrange: L = T-U\n",
    "\n",
    "L= 1/2* dxdx*(M+m1+m2)+1/2*dpdp1*(l1*l1*(m1+2*m2)+J1)+dpdp2*(m2*l2*l2+1/2*J2)+\\\n",
    "x_d*(-m1*l1*sym.cos(phi1)*phi1_d-2*m2*l1*sym.cos(phi1)*phi1_d-m2*l2*sym.cos(phi2)*phi2_d)+\\\n",
    "    phi1_d*(2*m2*l1*l2*phi2_d*sym.cos(phi1-phi2))-m1*l1*g*sym.cos(phi1)-m2*g*(2*l1*sym.cos(phi1)-l2*sym.cos(phi2))\n",
    "L"
   ]
  },
  {
   "cell_type": "markdown",
   "metadata": {},
   "source": [
    "# 2 Modelagem pelo módulo Numpy"
   ]
  },
  {
   "cell_type": "markdown",
   "metadata": {},
   "source": [
    "# 3 Estabilidade"
   ]
  }
 ],
 "metadata": {
  "kernelspec": {
   "display_name": "Python 3",
   "language": "python",
   "name": "python3"
  },
  "language_info": {
   "codemirror_mode": {
    "name": "ipython",
    "version": 3
   },
   "file_extension": ".py",
   "mimetype": "text/x-python",
   "name": "python",
   "nbconvert_exporter": "python",
   "pygments_lexer": "ipython3",
   "version": "3.10.13"
  }
 },
 "nbformat": 4,
 "nbformat_minor": 2
}
