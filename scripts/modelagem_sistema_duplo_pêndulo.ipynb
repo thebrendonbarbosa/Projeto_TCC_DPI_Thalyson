{
 "cells": [
  {
   "cell_type": "code",
   "execution_count": 4,
   "metadata": {},
   "outputs": [],
   "source": [
    "#!pip install control\n",
    "#!pip install slycot"
   ]
  },
  {
   "cell_type": "code",
   "execution_count": 1,
   "metadata": {},
   "outputs": [],
   "source": [
    "# importa os modulo necessários \n",
    "\n",
    "import numpy as np\n",
    "import matplotlib.pyplot as plt\n",
    "import sympy as sym\n",
    "import control as ct\n"
   ]
  },
  {
   "cell_type": "markdown",
   "metadata": {},
   "source": [
    "# 1 Modelagem pelo módulo Sympy"
   ]
  },
  {
   "cell_type": "code",
   "execution_count": 22,
   "metadata": {},
   "outputs": [],
   "source": [
    "# Definindo as variáveis simbólicas\n",
    "\n",
    "# Constantes\n",
    "M, m1, m2, m3, l1, l2,J1, J2, g, t, f0, f1, f2 = sym.symbols('M m1 m2 m3 l1 l2 J1 J2 g t  f0 f1 f2')\n",
    "\n",
    "# Variáveis\n",
    "phi1, phi2, x,u ,theta1, theta2 = sym.symbols(r'phi1 phi2 x u theta1 theta2', cls=sym.Function) # funções para se trabalhar em cima\n"
   ]
  },
  {
   "cell_type": "code",
   "execution_count": 23,
   "metadata": {},
   "outputs": [],
   "source": [
    "# Definindo as derivadas no tempo \n",
    "\n",
    "x = x(t)\n",
    "u = u(t)\n",
    "phi1 = phi1(t)\n",
    "phi2 = phi2(t)\n",
    "theta1 = theta1(t)\n",
    "theta2 = theta2(t)\n",
    "\n",
    "x_d = sym.diff(x, t)\n",
    "phi1_d = sym.diff(phi1, t)\n",
    "phi2_d = sym.diff(phi2, t)\n",
    "\n",
    "x_dd = sym.diff(x_d, t)\n",
    "phi1_dd = sym.diff(phi1_d, t)\n",
    "phi2_dd = sym.diff(phi2_d, t)\n",
    "\n",
    "dpdp2=phi2_d*phi2_d\n",
    "dpdp1=phi1_d*phi1_d\n",
    "dxdx=x_d*x_d"
   ]
  },
  {
   "cell_type": "code",
   "execution_count": 24,
   "metadata": {},
   "outputs": [
    {
     "data": {
      "text/latex": [
       "$\\displaystyle - g l_{1} m_{1} \\cos{\\left(\\phi_{1}{\\left(t \\right)} \\right)} - g m_{2} \\cdot \\left(2 l_{1} \\cos{\\left(\\phi_{1}{\\left(t \\right)} \\right)} - l_{2} \\cos{\\left(\\phi_{2}{\\left(t \\right)} \\right)}\\right) + 2 l_{1} l_{2} m_{2} \\cos{\\left(\\phi_{1}{\\left(t \\right)} - \\phi_{2}{\\left(t \\right)} \\right)} \\frac{d}{d t} \\phi_{1}{\\left(t \\right)} \\frac{d}{d t} \\phi_{2}{\\left(t \\right)} + 0.5 \\left(J_{1} + l_{1}^{2} \\left(m_{1} + 2 m_{2}\\right)\\right) \\left(\\frac{d}{d t} \\phi_{1}{\\left(t \\right)}\\right)^{2} + \\left(0.5 J_{2} + l_{2}^{2} m_{2}\\right) \\left(\\frac{d}{d t} \\phi_{2}{\\left(t \\right)}\\right)^{2} + 0.5 \\left(M + m_{1} + m_{2}\\right) \\left(\\frac{d}{d t} x{\\left(t \\right)}\\right)^{2} + \\left(- l_{1} m_{1} \\cos{\\left(\\phi_{1}{\\left(t \\right)} \\right)} \\frac{d}{d t} \\phi_{1}{\\left(t \\right)} - 2 l_{1} m_{2} \\cos{\\left(\\phi_{1}{\\left(t \\right)} \\right)} \\frac{d}{d t} \\phi_{1}{\\left(t \\right)} - l_{2} m_{2} \\cos{\\left(\\phi_{2}{\\left(t \\right)} \\right)} \\frac{d}{d t} \\phi_{2}{\\left(t \\right)}\\right) \\frac{d}{d t} x{\\left(t \\right)}$"
      ],
      "text/plain": [
       "-g*l1*m1*cos(phi1(t)) - g*m2*(2*l1*cos(phi1(t)) - l2*cos(phi2(t))) + 2*l1*l2*m2*cos(phi1(t) - phi2(t))*Derivative(phi1(t), t)*Derivative(phi2(t), t) + 0.5*(J1 + l1**2*(m1 + 2*m2))*Derivative(phi1(t), t)**2 + (0.5*J2 + l2**2*m2)*Derivative(phi2(t), t)**2 + 0.5*(M + m1 + m2)*Derivative(x(t), t)**2 + (-l1*m1*cos(phi1(t))*Derivative(phi1(t), t) - 2*l1*m2*cos(phi1(t))*Derivative(phi1(t), t) - l2*m2*cos(phi2(t))*Derivative(phi2(t), t))*Derivative(x(t), t)"
      ]
     },
     "execution_count": 24,
     "metadata": {},
     "output_type": "execute_result"
    }
   ],
   "source": [
    "# Equação de Lagrange: L = T-U\n",
    "\n",
    "L= 1/2* dxdx*(M+m1+m2)+1/2*dpdp1*(l1*l1*(m1+2*m2)+J1)+dpdp2*(m2*l2*l2+1/2*J2)+\\\n",
    "x_d*(-m1*l1*sym.cos(phi1)*phi1_d-2*m2*l1*sym.cos(phi1)*phi1_d-m2*l2*sym.cos(phi2)*phi2_d)+\\\n",
    "    phi1_d*(2*m2*l1*l2*phi2_d*sym.cos(phi1-phi2))-m1*l1*g*sym.cos(phi1)-m2*g*(2*l1*sym.cos(phi1)-l2*sym.cos(phi2))\n",
    "L"
   ]
  },
  {
   "cell_type": "code",
   "execution_count": 25,
   "metadata": {},
   "outputs": [],
   "source": [
    "# Euler Lagrange-equation\n",
    "eqnx = sym.diff(sym.diff(L,x_d),t)-sym.diff(L,x)-u+f0*x_d\n",
    "eqn_phi1 = sym.diff(sym.diff(L,phi1_d),t)-sym.diff(L,phi1)+(f1+f2)*phi1_d -f2*phi2_d\n",
    "eqn_phi2 = sym.diff(sym.diff(L,phi2_d),t)-sym.diff(L,phi2)-f2*phi1_d + f2*phi2_d\n",
    "\n",
    "# Solução \n",
    "\n",
    "sol_xdd = sym.solve(eqnx, x_dd)[0]\n",
    "sol_phi1dd = sym.solve(eqn_phi1, phi1_dd)[0]\n",
    "sol_phi2dd = sym.solve(eqn_phi2, phi2_dd)[0]"
   ]
  },
  {
   "cell_type": "code",
   "execution_count": 26,
   "metadata": {},
   "outputs": [],
   "source": [
    "q_dd = sym.Matrix([(x_dd,phi1_dd,phi2_dd)])\n",
    "q_d = sym.Matrix([(x_d,phi1_d,phi2_d)])\n",
    "\n",
    "ponto_eq = {x:0,x_d:0,x_dd:0,phi1:0,phi2:0,phi1_d:0,phi2_d:0,phi2_dd:0,phi1_dd:0,sym.cos(phi1):1,\\\n",
    "            sym.cos(phi2):1,sym.cos(phi1-phi2):1,sym.sin(phi1):theta1,sym.sin(phi2):theta2}\n"
   ]
  },
  {
   "cell_type": "code",
   "execution_count": 27,
   "metadata": {},
   "outputs": [
    {
     "data": {
      "text/latex": [
       "$\\displaystyle \\left[\\begin{matrix}1.0 M + 1.0 m_{1} + 1.0 m_{2} & - l_{1} m_{1} - 2 l_{1} m_{2} & - l_{2} m_{2}\\\\- l_{1} m_{1} - 2 l_{1} m_{2} & 1.0 J_{1} + 1.0 l_{1}^{2} \\left(m_{1} + 2 m_{2}\\right) & 2 l_{1} l_{2} m_{2}\\\\- l_{2} m_{2} & 2 l_{1} l_{2} m_{2} & J_{2} + 2 l_{2}^{2} m_{2}\\end{matrix}\\right]$"
      ],
      "text/plain": [
       "Matrix([\n",
       "[1.0*M + 1.0*m1 + 1.0*m2,               -l1*m1 - 2*l1*m2,          -l2*m2],\n",
       "[       -l1*m1 - 2*l1*m2, 1.0*J1 + 1.0*l1**2*(m1 + 2*m2),      2*l1*l2*m2],\n",
       "[                 -l2*m2,                     2*l1*l2*m2, J2 + 2*l2**2*m2]])"
      ]
     },
     "execution_count": 27,
     "metadata": {},
     "output_type": "execute_result"
    }
   ],
   "source": [
    "\n",
    "H = sym.Matrix((sym.diff(eqnx,q_dd),sym.diff(eqn_phi1,q_dd),sym.diff(eqn_phi2,q_dd))).subs(ponto_eq)\n",
    "\n",
    "H_inv = H.inv()\n",
    "H"
   ]
  },
  {
   "cell_type": "code",
   "execution_count": 28,
   "metadata": {},
   "outputs": [
    {
     "data": {
      "text/latex": [
       "$\\displaystyle \\left[\\begin{matrix}f_{0} & 0 & 0\\\\0 & f_{1} + f_{2} & - f_{2}\\\\0 & - f_{2} & f_{2}\\end{matrix}\\right]$"
      ],
      "text/plain": [
       "Matrix([\n",
       "[f0,       0,   0],\n",
       "[ 0, f1 + f2, -f2],\n",
       "[ 0,     -f2,  f2]])"
      ]
     },
     "execution_count": 28,
     "metadata": {},
     "output_type": "execute_result"
    }
   ],
   "source": [
    "N = sym.Matrix((sym.diff(eqnx,q_d),sym.diff(eqn_phi1,q_d),sym.diff(eqn_phi2,q_d))).subs(ponto_eq)\n",
    "N"
   ]
  },
  {
   "cell_type": "code",
   "execution_count": 29,
   "metadata": {},
   "outputs": [
    {
     "data": {
      "text/latex": [
       "$\\displaystyle \\left[\\begin{matrix}0\\\\g l_{1} \\left(m_{1} + 2 m_{2}\\right) \\theta_{1}{\\left(t \\right)}\\\\- g l_{2} m_{2} \\theta_{2}{\\left(t \\right)}\\end{matrix}\\right]$"
      ],
      "text/plain": [
       "Matrix([\n",
       "[                         0],\n",
       "[g*l1*(m1 + 2*m2)*theta1(t)],\n",
       "[        -g*l2*m2*theta2(t)]])"
      ]
     },
     "execution_count": 29,
     "metadata": {},
     "output_type": "execute_result"
    }
   ],
   "source": [
    "W = sym.Matrix([0,g*l1*sym.sin(phi1)*(m1+2*m2),-g*m2*l2*sym.sin(phi2)]).subs(ponto_eq)\n",
    "W"
   ]
  },
  {
   "cell_type": "code",
   "execution_count": 30,
   "metadata": {},
   "outputs": [
    {
     "data": {
      "text/latex": [
       "$\\displaystyle \\left[\\begin{matrix}u{\\left(t \\right)}\\\\0\\\\0\\end{matrix}\\right]$"
      ],
      "text/plain": [
       "Matrix([\n",
       "[u(t)],\n",
       "[   0],\n",
       "[   0]])"
      ]
     },
     "execution_count": 30,
     "metadata": {},
     "output_type": "execute_result"
    }
   ],
   "source": [
    "V = sym.Matrix([u,0,0])\n",
    "V"
   ]
  },
  {
   "cell_type": "code",
   "execution_count": 31,
   "metadata": {},
   "outputs": [
    {
     "data": {
      "text/latex": [
       "$\\displaystyle \\left[\\begin{matrix}- \\frac{g l_{1} \\left(m_{1} + 2 m_{2}\\right) \\left(- 1.0 J_{2} l_{1} m_{1} - 2.0 J_{2} l_{1} m_{2} - 2.0 l_{1} l_{2}^{2} m_{1} m_{2} - 2.0 l_{1} l_{2}^{2} m_{2}^{2}\\right) \\theta_{1}{\\left(t \\right)}}{- 1.0 J_{1} J_{2} M - 1.0 J_{1} J_{2} m_{1} - 1.0 J_{1} J_{2} m_{2} - 2.0 J_{1} M l_{2}^{2} m_{2} - 2.0 J_{1} l_{2}^{2} m_{1} m_{2} - 1.0 J_{1} l_{2}^{2} m_{2}^{2} - 1.0 J_{2} M l_{1}^{2} m_{1} - 2.0 J_{2} M l_{1}^{2} m_{2} + 1.0 J_{2} l_{1}^{2} m_{1} m_{2} + 2.0 J_{2} l_{1}^{2} m_{2}^{2} - 2.0 M l_{1}^{2} l_{2}^{2} m_{1} m_{2} + 3.0 l_{1}^{2} l_{2}^{2} m_{1} m_{2}^{2} + 2.0 l_{1}^{2} l_{2}^{2} m_{2}^{3}} + \\frac{g l_{2} m_{2} \\left(- 1.0 J_{1} l_{2} m_{2} + 1.0 l_{1}^{2} l_{2} m_{1} m_{2} + 2.0 l_{1}^{2} l_{2} m_{2}^{2}\\right) \\theta_{2}{\\left(t \\right)}}{- 1.0 J_{1} J_{2} M - 1.0 J_{1} J_{2} m_{1} - 1.0 J_{1} J_{2} m_{2} - 2.0 J_{1} M l_{2}^{2} m_{2} - 2.0 J_{1} l_{2}^{2} m_{1} m_{2} - 1.0 J_{1} l_{2}^{2} m_{2}^{2} - 1.0 J_{2} M l_{1}^{2} m_{1} - 2.0 J_{2} M l_{1}^{2} m_{2} + 1.0 J_{2} l_{1}^{2} m_{1} m_{2} + 2.0 J_{2} l_{1}^{2} m_{2}^{2} - 2.0 M l_{1}^{2} l_{2}^{2} m_{1} m_{2} + 3.0 l_{1}^{2} l_{2}^{2} m_{1} m_{2}^{2} + 2.0 l_{1}^{2} l_{2}^{2} m_{2}^{3}}\\\\- \\frac{g l_{1} \\left(m_{1} + 2 m_{2}\\right) \\left(- 1.0 J_{2} M - 1.0 J_{2} m_{1} - 1.0 J_{2} m_{2} - 2.0 M l_{2}^{2} m_{2} - 2.0 l_{2}^{2} m_{1} m_{2} - 1.0 l_{2}^{2} m_{2}^{2}\\right) \\theta_{1}{\\left(t \\right)}}{- 1.0 J_{1} J_{2} M - 1.0 J_{1} J_{2} m_{1} - 1.0 J_{1} J_{2} m_{2} - 2.0 J_{1} M l_{2}^{2} m_{2} - 2.0 J_{1} l_{2}^{2} m_{1} m_{2} - 1.0 J_{1} l_{2}^{2} m_{2}^{2} - 1.0 J_{2} M l_{1}^{2} m_{1} - 2.0 J_{2} M l_{1}^{2} m_{2} + 1.0 J_{2} l_{1}^{2} m_{1} m_{2} + 2.0 J_{2} l_{1}^{2} m_{2}^{2} - 2.0 M l_{1}^{2} l_{2}^{2} m_{1} m_{2} + 3.0 l_{1}^{2} l_{2}^{2} m_{1} m_{2}^{2} + 2.0 l_{1}^{2} l_{2}^{2} m_{2}^{3}} + \\frac{g l_{2} m_{2} \\cdot \\left(2.0 M l_{1} l_{2} m_{2} + 1.0 l_{1} l_{2} m_{1} m_{2}\\right) \\theta_{2}{\\left(t \\right)}}{- 1.0 J_{1} J_{2} M - 1.0 J_{1} J_{2} m_{1} - 1.0 J_{1} J_{2} m_{2} - 2.0 J_{1} M l_{2}^{2} m_{2} - 2.0 J_{1} l_{2}^{2} m_{1} m_{2} - 1.0 J_{1} l_{2}^{2} m_{2}^{2} - 1.0 J_{2} M l_{1}^{2} m_{1} - 2.0 J_{2} M l_{1}^{2} m_{2} + 1.0 J_{2} l_{1}^{2} m_{1} m_{2} + 2.0 J_{2} l_{1}^{2} m_{2}^{2} - 2.0 M l_{1}^{2} l_{2}^{2} m_{1} m_{2} + 3.0 l_{1}^{2} l_{2}^{2} m_{1} m_{2}^{2} + 2.0 l_{1}^{2} l_{2}^{2} m_{2}^{3}}\\\\- \\frac{g l_{1} \\left(m_{1} + 2 m_{2}\\right) \\left(2.0 M l_{1} l_{2} m_{2} + 1.0 l_{1} l_{2} m_{1} m_{2}\\right) \\theta_{1}{\\left(t \\right)}}{- 1.0 J_{1} J_{2} M - 1.0 J_{1} J_{2} m_{1} - 1.0 J_{1} J_{2} m_{2} - 2.0 J_{1} M l_{2}^{2} m_{2} - 2.0 J_{1} l_{2}^{2} m_{1} m_{2} - 1.0 J_{1} l_{2}^{2} m_{2}^{2} - 1.0 J_{2} M l_{1}^{2} m_{1} - 2.0 J_{2} M l_{1}^{2} m_{2} + 1.0 J_{2} l_{1}^{2} m_{1} m_{2} + 2.0 J_{2} l_{1}^{2} m_{2}^{2} - 2.0 M l_{1}^{2} l_{2}^{2} m_{1} m_{2} + 3.0 l_{1}^{2} l_{2}^{2} m_{1} m_{2}^{2} + 2.0 l_{1}^{2} l_{2}^{2} m_{2}^{3}} + \\frac{g l_{2} m_{2} \\left(- 1.0 J_{1} M - 1.0 J_{1} m_{1} - 1.0 J_{1} m_{2} - 1.0 M l_{1}^{2} m_{1} - 2.0 M l_{1}^{2} m_{2} + 1.0 l_{1}^{2} m_{1} m_{2} + 2.0 l_{1}^{2} m_{2}^{2}\\right) \\theta_{2}{\\left(t \\right)}}{- 1.0 J_{1} J_{2} M - 1.0 J_{1} J_{2} m_{1} - 1.0 J_{1} J_{2} m_{2} - 2.0 J_{1} M l_{2}^{2} m_{2} - 2.0 J_{1} l_{2}^{2} m_{1} m_{2} - 1.0 J_{1} l_{2}^{2} m_{2}^{2} - 1.0 J_{2} M l_{1}^{2} m_{1} - 2.0 J_{2} M l_{1}^{2} m_{2} + 1.0 J_{2} l_{1}^{2} m_{1} m_{2} + 2.0 J_{2} l_{1}^{2} m_{2}^{2} - 2.0 M l_{1}^{2} l_{2}^{2} m_{1} m_{2} + 3.0 l_{1}^{2} l_{2}^{2} m_{1} m_{2}^{2} + 2.0 l_{1}^{2} l_{2}^{2} m_{2}^{3}}\\end{matrix}\\right]$"
      ],
      "text/plain": [
       "Matrix([\n",
       "[          -g*l1*(m1 + 2*m2)*(-1.0*J2*l1*m1 - 2.0*J2*l1*m2 - 2.0*l1*l2**2*m1*m2 - 2.0*l1*l2**2*m2**2)*theta1(t)/(-1.0*J1*J2*M - 1.0*J1*J2*m1 - 1.0*J1*J2*m2 - 2.0*J1*M*l2**2*m2 - 2.0*J1*l2**2*m1*m2 - 1.0*J1*l2**2*m2**2 - 1.0*J2*M*l1**2*m1 - 2.0*J2*M*l1**2*m2 + 1.0*J2*l1**2*m1*m2 + 2.0*J2*l1**2*m2**2 - 2.0*M*l1**2*l2**2*m1*m2 + 3.0*l1**2*l2**2*m1*m2**2 + 2.0*l1**2*l2**2*m2**3) + g*l2*m2*(-1.0*J1*l2*m2 + 1.0*l1**2*l2*m1*m2 + 2.0*l1**2*l2*m2**2)*theta2(t)/(-1.0*J1*J2*M - 1.0*J1*J2*m1 - 1.0*J1*J2*m2 - 2.0*J1*M*l2**2*m2 - 2.0*J1*l2**2*m1*m2 - 1.0*J1*l2**2*m2**2 - 1.0*J2*M*l1**2*m1 - 2.0*J2*M*l1**2*m2 + 1.0*J2*l1**2*m1*m2 + 2.0*J2*l1**2*m2**2 - 2.0*M*l1**2*l2**2*m1*m2 + 3.0*l1**2*l2**2*m1*m2**2 + 2.0*l1**2*l2**2*m2**3)],\n",
       "[                 -g*l1*(m1 + 2*m2)*(-1.0*J2*M - 1.0*J2*m1 - 1.0*J2*m2 - 2.0*M*l2**2*m2 - 2.0*l2**2*m1*m2 - 1.0*l2**2*m2**2)*theta1(t)/(-1.0*J1*J2*M - 1.0*J1*J2*m1 - 1.0*J1*J2*m2 - 2.0*J1*M*l2**2*m2 - 2.0*J1*l2**2*m1*m2 - 1.0*J1*l2**2*m2**2 - 1.0*J2*M*l1**2*m1 - 2.0*J2*M*l1**2*m2 + 1.0*J2*l1**2*m1*m2 + 2.0*J2*l1**2*m2**2 - 2.0*M*l1**2*l2**2*m1*m2 + 3.0*l1**2*l2**2*m1*m2**2 + 2.0*l1**2*l2**2*m2**3) + g*l2*m2*(2.0*M*l1*l2*m2 + 1.0*l1*l2*m1*m2)*theta2(t)/(-1.0*J1*J2*M - 1.0*J1*J2*m1 - 1.0*J1*J2*m2 - 2.0*J1*M*l2**2*m2 - 2.0*J1*l2**2*m1*m2 - 1.0*J1*l2**2*m2**2 - 1.0*J2*M*l1**2*m1 - 2.0*J2*M*l1**2*m2 + 1.0*J2*l1**2*m1*m2 + 2.0*J2*l1**2*m2**2 - 2.0*M*l1**2*l2**2*m1*m2 + 3.0*l1**2*l2**2*m1*m2**2 + 2.0*l1**2*l2**2*m2**3)],\n",
       "[-g*l1*(m1 + 2*m2)*(2.0*M*l1*l2*m2 + 1.0*l1*l2*m1*m2)*theta1(t)/(-1.0*J1*J2*M - 1.0*J1*J2*m1 - 1.0*J1*J2*m2 - 2.0*J1*M*l2**2*m2 - 2.0*J1*l2**2*m1*m2 - 1.0*J1*l2**2*m2**2 - 1.0*J2*M*l1**2*m1 - 2.0*J2*M*l1**2*m2 + 1.0*J2*l1**2*m1*m2 + 2.0*J2*l1**2*m2**2 - 2.0*M*l1**2*l2**2*m1*m2 + 3.0*l1**2*l2**2*m1*m2**2 + 2.0*l1**2*l2**2*m2**3) + g*l2*m2*(-1.0*J1*M - 1.0*J1*m1 - 1.0*J1*m2 - 1.0*M*l1**2*m1 - 2.0*M*l1**2*m2 + 1.0*l1**2*m1*m2 + 2.0*l1**2*m2**2)*theta2(t)/(-1.0*J1*J2*M - 1.0*J1*J2*m1 - 1.0*J1*J2*m2 - 2.0*J1*M*l2**2*m2 - 2.0*J1*l2**2*m1*m2 - 1.0*J1*l2**2*m2**2 - 1.0*J2*M*l1**2*m1 - 2.0*J2*M*l1**2*m2 + 1.0*J2*l1**2*m1*m2 + 2.0*J2*l1**2*m2**2 - 2.0*M*l1**2*l2**2*m1*m2 + 3.0*l1**2*l2**2*m1*m2**2 + 2.0*l1**2*l2**2*m2**3)]])"
      ]
     },
     "execution_count": 31,
     "metadata": {},
     "output_type": "execute_result"
    }
   ],
   "source": [
    "C = N*q_d.transpose() + W\n",
    "S = (-H_inv*C).subs(ponto_eq)\n",
    "S"
   ]
  },
  {
   "cell_type": "code",
   "execution_count": 32,
   "metadata": {},
   "outputs": [
    {
     "data": {
      "text/latex": [
       "$\\displaystyle \\left[\\begin{matrix}\\frac{d^{2}}{d t^{2}} x{\\left(t \\right)}\\\\\\frac{d^{2}}{d t^{2}} \\phi_{1}{\\left(t \\right)}\\\\\\frac{d^{2}}{d t^{2}} \\phi_{2}{\\left(t \\right)}\\\\- \\frac{\\left(- 1.0 J_{1} J_{2} - 2.0 J_{1} l_{2}^{2} m_{2} - 1.0 J_{2} l_{1}^{2} m_{1} - 2.0 J_{2} l_{1}^{2} m_{2} - 2.0 l_{1}^{2} l_{2}^{2} m_{1} m_{2}\\right) u{\\left(t \\right)}}{- 1.0 J_{1} J_{2} M - 1.0 J_{1} J_{2} m_{1} - 1.0 J_{1} J_{2} m_{2} - 2.0 J_{1} M l_{2}^{2} m_{2} - 2.0 J_{1} l_{2}^{2} m_{1} m_{2} - 1.0 J_{1} l_{2}^{2} m_{2}^{2} - 1.0 J_{2} M l_{1}^{2} m_{1} - 2.0 J_{2} M l_{1}^{2} m_{2} + 1.0 J_{2} l_{1}^{2} m_{1} m_{2} + 2.0 J_{2} l_{1}^{2} m_{2}^{2} - 2.0 M l_{1}^{2} l_{2}^{2} m_{1} m_{2} + 3.0 l_{1}^{2} l_{2}^{2} m_{1} m_{2}^{2} + 2.0 l_{1}^{2} l_{2}^{2} m_{2}^{3}}\\\\- \\frac{\\left(- 1.0 J_{2} l_{1} m_{1} - 2.0 J_{2} l_{1} m_{2} - 2.0 l_{1} l_{2}^{2} m_{1} m_{2} - 2.0 l_{1} l_{2}^{2} m_{2}^{2}\\right) u{\\left(t \\right)}}{- 1.0 J_{1} J_{2} M - 1.0 J_{1} J_{2} m_{1} - 1.0 J_{1} J_{2} m_{2} - 2.0 J_{1} M l_{2}^{2} m_{2} - 2.0 J_{1} l_{2}^{2} m_{1} m_{2} - 1.0 J_{1} l_{2}^{2} m_{2}^{2} - 1.0 J_{2} M l_{1}^{2} m_{1} - 2.0 J_{2} M l_{1}^{2} m_{2} + 1.0 J_{2} l_{1}^{2} m_{1} m_{2} + 2.0 J_{2} l_{1}^{2} m_{2}^{2} - 2.0 M l_{1}^{2} l_{2}^{2} m_{1} m_{2} + 3.0 l_{1}^{2} l_{2}^{2} m_{1} m_{2}^{2} + 2.0 l_{1}^{2} l_{2}^{2} m_{2}^{3}}\\\\- \\frac{\\left(- 1.0 J_{1} l_{2} m_{2} + 1.0 l_{1}^{2} l_{2} m_{1} m_{2} + 2.0 l_{1}^{2} l_{2} m_{2}^{2}\\right) u{\\left(t \\right)}}{- 1.0 J_{1} J_{2} M - 1.0 J_{1} J_{2} m_{1} - 1.0 J_{1} J_{2} m_{2} - 2.0 J_{1} M l_{2}^{2} m_{2} - 2.0 J_{1} l_{2}^{2} m_{1} m_{2} - 1.0 J_{1} l_{2}^{2} m_{2}^{2} - 1.0 J_{2} M l_{1}^{2} m_{1} - 2.0 J_{2} M l_{1}^{2} m_{2} + 1.0 J_{2} l_{1}^{2} m_{1} m_{2} + 2.0 J_{2} l_{1}^{2} m_{2}^{2} - 2.0 M l_{1}^{2} l_{2}^{2} m_{1} m_{2} + 3.0 l_{1}^{2} l_{2}^{2} m_{1} m_{2}^{2} + 2.0 l_{1}^{2} l_{2}^{2} m_{2}^{3}}\\end{matrix}\\right]$"
      ],
      "text/plain": [
       "Matrix([\n",
       "[                                                                                                                                                                                                                                                                                                                                                  Derivative(x(t), (t, 2))],\n",
       "[                                                                                                                                                                                                                                                                                                                                               Derivative(phi1(t), (t, 2))],\n",
       "[                                                                                                                                                                                                                                                                                                                                               Derivative(phi2(t), (t, 2))],\n",
       "[-(-1.0*J1*J2 - 2.0*J1*l2**2*m2 - 1.0*J2*l1**2*m1 - 2.0*J2*l1**2*m2 - 2.0*l1**2*l2**2*m1*m2)*u(t)/(-1.0*J1*J2*M - 1.0*J1*J2*m1 - 1.0*J1*J2*m2 - 2.0*J1*M*l2**2*m2 - 2.0*J1*l2**2*m1*m2 - 1.0*J1*l2**2*m2**2 - 1.0*J2*M*l1**2*m1 - 2.0*J2*M*l1**2*m2 + 1.0*J2*l1**2*m1*m2 + 2.0*J2*l1**2*m2**2 - 2.0*M*l1**2*l2**2*m1*m2 + 3.0*l1**2*l2**2*m1*m2**2 + 2.0*l1**2*l2**2*m2**3)],\n",
       "[                  -(-1.0*J2*l1*m1 - 2.0*J2*l1*m2 - 2.0*l1*l2**2*m1*m2 - 2.0*l1*l2**2*m2**2)*u(t)/(-1.0*J1*J2*M - 1.0*J1*J2*m1 - 1.0*J1*J2*m2 - 2.0*J1*M*l2**2*m2 - 2.0*J1*l2**2*m1*m2 - 1.0*J1*l2**2*m2**2 - 1.0*J2*M*l1**2*m1 - 2.0*J2*M*l1**2*m2 + 1.0*J2*l1**2*m1*m2 + 2.0*J2*l1**2*m2**2 - 2.0*M*l1**2*l2**2*m1*m2 + 3.0*l1**2*l2**2*m1*m2**2 + 2.0*l1**2*l2**2*m2**3)],\n",
       "[                                 -(-1.0*J1*l2*m2 + 1.0*l1**2*l2*m1*m2 + 2.0*l1**2*l2*m2**2)*u(t)/(-1.0*J1*J2*M - 1.0*J1*J2*m1 - 1.0*J1*J2*m2 - 2.0*J1*M*l2**2*m2 - 2.0*J1*l2**2*m1*m2 - 1.0*J1*l2**2*m2**2 - 1.0*J2*M*l1**2*m1 - 2.0*J2*M*l1**2*m2 + 1.0*J2*l1**2*m1*m2 + 2.0*J2*l1**2*m2**2 - 2.0*M*l1**2*l2**2*m1*m2 + 3.0*l1**2*l2**2*m1*m2**2 + 2.0*l1**2*l2**2*m2**3)]])"
      ]
     },
     "execution_count": 32,
     "metadata": {},
     "output_type": "execute_result"
    }
   ],
   "source": [
    "B_0 = sym.Matrix([q_dd.transpose(),-H_inv*V])\n",
    "B_0"
   ]
  },
  {
   "cell_type": "code",
   "execution_count": 33,
   "metadata": {},
   "outputs": [
    {
     "data": {
      "text/latex": [
       "$\\displaystyle \\left[\\begin{matrix}\\frac{d^{2}}{d t^{2}} x{\\left(t \\right)}\\\\\\frac{d^{2}}{d t^{2}} \\phi_{1}{\\left(t \\right)}\\\\\\frac{d^{2}}{d t^{2}} \\phi_{2}{\\left(t \\right)}\\\\- \\frac{g l_{1} \\left(m_{1} + 2 m_{2}\\right) \\left(- 1.0 J_{2} l_{1} m_{1} - 2.0 J_{2} l_{1} m_{2} - 2.0 l_{1} l_{2}^{2} m_{1} m_{2} - 2.0 l_{1} l_{2}^{2} m_{2}^{2}\\right) \\theta_{1}{\\left(t \\right)}}{- 1.0 J_{1} J_{2} M - 1.0 J_{1} J_{2} m_{1} - 1.0 J_{1} J_{2} m_{2} - 2.0 J_{1} M l_{2}^{2} m_{2} - 2.0 J_{1} l_{2}^{2} m_{1} m_{2} - 1.0 J_{1} l_{2}^{2} m_{2}^{2} - 1.0 J_{2} M l_{1}^{2} m_{1} - 2.0 J_{2} M l_{1}^{2} m_{2} + 1.0 J_{2} l_{1}^{2} m_{1} m_{2} + 2.0 J_{2} l_{1}^{2} m_{2}^{2} - 2.0 M l_{1}^{2} l_{2}^{2} m_{1} m_{2} + 3.0 l_{1}^{2} l_{2}^{2} m_{1} m_{2}^{2} + 2.0 l_{1}^{2} l_{2}^{2} m_{2}^{3}} + \\frac{g l_{2} m_{2} \\left(- 1.0 J_{1} l_{2} m_{2} + 1.0 l_{1}^{2} l_{2} m_{1} m_{2} + 2.0 l_{1}^{2} l_{2} m_{2}^{2}\\right) \\theta_{2}{\\left(t \\right)}}{- 1.0 J_{1} J_{2} M - 1.0 J_{1} J_{2} m_{1} - 1.0 J_{1} J_{2} m_{2} - 2.0 J_{1} M l_{2}^{2} m_{2} - 2.0 J_{1} l_{2}^{2} m_{1} m_{2} - 1.0 J_{1} l_{2}^{2} m_{2}^{2} - 1.0 J_{2} M l_{1}^{2} m_{1} - 2.0 J_{2} M l_{1}^{2} m_{2} + 1.0 J_{2} l_{1}^{2} m_{1} m_{2} + 2.0 J_{2} l_{1}^{2} m_{2}^{2} - 2.0 M l_{1}^{2} l_{2}^{2} m_{1} m_{2} + 3.0 l_{1}^{2} l_{2}^{2} m_{1} m_{2}^{2} + 2.0 l_{1}^{2} l_{2}^{2} m_{2}^{3}}\\\\- \\frac{g l_{1} \\left(m_{1} + 2 m_{2}\\right) \\left(- 1.0 J_{2} M - 1.0 J_{2} m_{1} - 1.0 J_{2} m_{2} - 2.0 M l_{2}^{2} m_{2} - 2.0 l_{2}^{2} m_{1} m_{2} - 1.0 l_{2}^{2} m_{2}^{2}\\right) \\theta_{1}{\\left(t \\right)}}{- 1.0 J_{1} J_{2} M - 1.0 J_{1} J_{2} m_{1} - 1.0 J_{1} J_{2} m_{2} - 2.0 J_{1} M l_{2}^{2} m_{2} - 2.0 J_{1} l_{2}^{2} m_{1} m_{2} - 1.0 J_{1} l_{2}^{2} m_{2}^{2} - 1.0 J_{2} M l_{1}^{2} m_{1} - 2.0 J_{2} M l_{1}^{2} m_{2} + 1.0 J_{2} l_{1}^{2} m_{1} m_{2} + 2.0 J_{2} l_{1}^{2} m_{2}^{2} - 2.0 M l_{1}^{2} l_{2}^{2} m_{1} m_{2} + 3.0 l_{1}^{2} l_{2}^{2} m_{1} m_{2}^{2} + 2.0 l_{1}^{2} l_{2}^{2} m_{2}^{3}} + \\frac{g l_{2} m_{2} \\cdot \\left(2.0 M l_{1} l_{2} m_{2} + 1.0 l_{1} l_{2} m_{1} m_{2}\\right) \\theta_{2}{\\left(t \\right)}}{- 1.0 J_{1} J_{2} M - 1.0 J_{1} J_{2} m_{1} - 1.0 J_{1} J_{2} m_{2} - 2.0 J_{1} M l_{2}^{2} m_{2} - 2.0 J_{1} l_{2}^{2} m_{1} m_{2} - 1.0 J_{1} l_{2}^{2} m_{2}^{2} - 1.0 J_{2} M l_{1}^{2} m_{1} - 2.0 J_{2} M l_{1}^{2} m_{2} + 1.0 J_{2} l_{1}^{2} m_{1} m_{2} + 2.0 J_{2} l_{1}^{2} m_{2}^{2} - 2.0 M l_{1}^{2} l_{2}^{2} m_{1} m_{2} + 3.0 l_{1}^{2} l_{2}^{2} m_{1} m_{2}^{2} + 2.0 l_{1}^{2} l_{2}^{2} m_{2}^{3}}\\\\- \\frac{g l_{1} \\left(m_{1} + 2 m_{2}\\right) \\left(2.0 M l_{1} l_{2} m_{2} + 1.0 l_{1} l_{2} m_{1} m_{2}\\right) \\theta_{1}{\\left(t \\right)}}{- 1.0 J_{1} J_{2} M - 1.0 J_{1} J_{2} m_{1} - 1.0 J_{1} J_{2} m_{2} - 2.0 J_{1} M l_{2}^{2} m_{2} - 2.0 J_{1} l_{2}^{2} m_{1} m_{2} - 1.0 J_{1} l_{2}^{2} m_{2}^{2} - 1.0 J_{2} M l_{1}^{2} m_{1} - 2.0 J_{2} M l_{1}^{2} m_{2} + 1.0 J_{2} l_{1}^{2} m_{1} m_{2} + 2.0 J_{2} l_{1}^{2} m_{2}^{2} - 2.0 M l_{1}^{2} l_{2}^{2} m_{1} m_{2} + 3.0 l_{1}^{2} l_{2}^{2} m_{1} m_{2}^{2} + 2.0 l_{1}^{2} l_{2}^{2} m_{2}^{3}} + \\frac{g l_{2} m_{2} \\left(- 1.0 J_{1} M - 1.0 J_{1} m_{1} - 1.0 J_{1} m_{2} - 1.0 M l_{1}^{2} m_{1} - 2.0 M l_{1}^{2} m_{2} + 1.0 l_{1}^{2} m_{1} m_{2} + 2.0 l_{1}^{2} m_{2}^{2}\\right) \\theta_{2}{\\left(t \\right)}}{- 1.0 J_{1} J_{2} M - 1.0 J_{1} J_{2} m_{1} - 1.0 J_{1} J_{2} m_{2} - 2.0 J_{1} M l_{2}^{2} m_{2} - 2.0 J_{1} l_{2}^{2} m_{1} m_{2} - 1.0 J_{1} l_{2}^{2} m_{2}^{2} - 1.0 J_{2} M l_{1}^{2} m_{1} - 2.0 J_{2} M l_{1}^{2} m_{2} + 1.0 J_{2} l_{1}^{2} m_{1} m_{2} + 2.0 J_{2} l_{1}^{2} m_{2}^{2} - 2.0 M l_{1}^{2} l_{2}^{2} m_{1} m_{2} + 3.0 l_{1}^{2} l_{2}^{2} m_{1} m_{2}^{2} + 2.0 l_{1}^{2} l_{2}^{2} m_{2}^{3}}\\end{matrix}\\right]$"
      ],
      "text/plain": [
       "Matrix([\n",
       "[                                                                                                                                                                                                                                                                                                                                                                                                                                                                                                                                                                                                                                                                                                                        Derivative(x(t), (t, 2))],\n",
       "[                                                                                                                                                                                                                                                                                                                                                                                                                                                                                                                                                                                                                                                                                                                     Derivative(phi1(t), (t, 2))],\n",
       "[                                                                                                                                                                                                                                                                                                                                                                                                                                                                                                                                                                                                                                                                                                                     Derivative(phi2(t), (t, 2))],\n",
       "[          -g*l1*(m1 + 2*m2)*(-1.0*J2*l1*m1 - 2.0*J2*l1*m2 - 2.0*l1*l2**2*m1*m2 - 2.0*l1*l2**2*m2**2)*theta1(t)/(-1.0*J1*J2*M - 1.0*J1*J2*m1 - 1.0*J1*J2*m2 - 2.0*J1*M*l2**2*m2 - 2.0*J1*l2**2*m1*m2 - 1.0*J1*l2**2*m2**2 - 1.0*J2*M*l1**2*m1 - 2.0*J2*M*l1**2*m2 + 1.0*J2*l1**2*m1*m2 + 2.0*J2*l1**2*m2**2 - 2.0*M*l1**2*l2**2*m1*m2 + 3.0*l1**2*l2**2*m1*m2**2 + 2.0*l1**2*l2**2*m2**3) + g*l2*m2*(-1.0*J1*l2*m2 + 1.0*l1**2*l2*m1*m2 + 2.0*l1**2*l2*m2**2)*theta2(t)/(-1.0*J1*J2*M - 1.0*J1*J2*m1 - 1.0*J1*J2*m2 - 2.0*J1*M*l2**2*m2 - 2.0*J1*l2**2*m1*m2 - 1.0*J1*l2**2*m2**2 - 1.0*J2*M*l1**2*m1 - 2.0*J2*M*l1**2*m2 + 1.0*J2*l1**2*m1*m2 + 2.0*J2*l1**2*m2**2 - 2.0*M*l1**2*l2**2*m1*m2 + 3.0*l1**2*l2**2*m1*m2**2 + 2.0*l1**2*l2**2*m2**3)],\n",
       "[                 -g*l1*(m1 + 2*m2)*(-1.0*J2*M - 1.0*J2*m1 - 1.0*J2*m2 - 2.0*M*l2**2*m2 - 2.0*l2**2*m1*m2 - 1.0*l2**2*m2**2)*theta1(t)/(-1.0*J1*J2*M - 1.0*J1*J2*m1 - 1.0*J1*J2*m2 - 2.0*J1*M*l2**2*m2 - 2.0*J1*l2**2*m1*m2 - 1.0*J1*l2**2*m2**2 - 1.0*J2*M*l1**2*m1 - 2.0*J2*M*l1**2*m2 + 1.0*J2*l1**2*m1*m2 + 2.0*J2*l1**2*m2**2 - 2.0*M*l1**2*l2**2*m1*m2 + 3.0*l1**2*l2**2*m1*m2**2 + 2.0*l1**2*l2**2*m2**3) + g*l2*m2*(2.0*M*l1*l2*m2 + 1.0*l1*l2*m1*m2)*theta2(t)/(-1.0*J1*J2*M - 1.0*J1*J2*m1 - 1.0*J1*J2*m2 - 2.0*J1*M*l2**2*m2 - 2.0*J1*l2**2*m1*m2 - 1.0*J1*l2**2*m2**2 - 1.0*J2*M*l1**2*m1 - 2.0*J2*M*l1**2*m2 + 1.0*J2*l1**2*m1*m2 + 2.0*J2*l1**2*m2**2 - 2.0*M*l1**2*l2**2*m1*m2 + 3.0*l1**2*l2**2*m1*m2**2 + 2.0*l1**2*l2**2*m2**3)],\n",
       "[-g*l1*(m1 + 2*m2)*(2.0*M*l1*l2*m2 + 1.0*l1*l2*m1*m2)*theta1(t)/(-1.0*J1*J2*M - 1.0*J1*J2*m1 - 1.0*J1*J2*m2 - 2.0*J1*M*l2**2*m2 - 2.0*J1*l2**2*m1*m2 - 1.0*J1*l2**2*m2**2 - 1.0*J2*M*l1**2*m1 - 2.0*J2*M*l1**2*m2 + 1.0*J2*l1**2*m1*m2 + 2.0*J2*l1**2*m2**2 - 2.0*M*l1**2*l2**2*m1*m2 + 3.0*l1**2*l2**2*m1*m2**2 + 2.0*l1**2*l2**2*m2**3) + g*l2*m2*(-1.0*J1*M - 1.0*J1*m1 - 1.0*J1*m2 - 1.0*M*l1**2*m1 - 2.0*M*l1**2*m2 + 1.0*l1**2*m1*m2 + 2.0*l1**2*m2**2)*theta2(t)/(-1.0*J1*J2*M - 1.0*J1*J2*m1 - 1.0*J1*J2*m2 - 2.0*J1*M*l2**2*m2 - 2.0*J1*l2**2*m1*m2 - 1.0*J1*l2**2*m2**2 - 1.0*J2*M*l1**2*m1 - 2.0*J2*M*l1**2*m2 + 1.0*J2*l1**2*m1*m2 + 2.0*J2*l1**2*m2**2 - 2.0*M*l1**2*l2**2*m1*m2 + 3.0*l1**2*l2**2*m1*m2**2 + 2.0*l1**2*l2**2*m2**3)]])"
      ]
     },
     "execution_count": 33,
     "metadata": {},
     "output_type": "execute_result"
    }
   ],
   "source": [
    "f = sym.Matrix([q_dd.transpose(),S])\n",
    "f"
   ]
  },
  {
   "cell_type": "code",
   "execution_count": 34,
   "metadata": {},
   "outputs": [
    {
     "data": {
      "text/latex": [
       "$\\displaystyle \\left[\\begin{matrix}x{\\left(t \\right)}\\\\\\theta_{1}{\\left(t \\right)}\\\\\\theta_{2}{\\left(t \\right)}\\\\\\frac{d^{2}}{d t^{2}} x{\\left(t \\right)}\\\\\\frac{d^{2}}{d t^{2}} \\phi_{1}{\\left(t \\right)}\\\\\\frac{d^{2}}{d t^{2}} \\phi_{2}{\\left(t \\right)}\\end{matrix}\\right]$"
      ],
      "text/plain": [
       "Matrix([\n",
       "[                       x(t)],\n",
       "[                  theta1(t)],\n",
       "[                  theta2(t)],\n",
       "[   Derivative(x(t), (t, 2))],\n",
       "[Derivative(phi1(t), (t, 2))],\n",
       "[Derivative(phi2(t), (t, 2))]])"
      ]
     },
     "execution_count": 34,
     "metadata": {},
     "output_type": "execute_result"
    }
   ],
   "source": [
    "q_a = sym.Matrix([x,theta1,theta2])\n",
    "q = sym.Matrix([q_a,q_dd.transpose()])\n",
    "q"
   ]
  },
  {
   "cell_type": "code",
   "execution_count": 35,
   "metadata": {},
   "outputs": [
    {
     "data": {
      "text/latex": [
       "$\\displaystyle \\left[\\begin{matrix}0 & 0 & 0 & 1 & 0 & 0\\\\0 & 0 & 0 & 0 & 1 & 0\\\\0 & 0 & 0 & 0 & 0 & 1\\\\0 & - \\frac{g l_{1} \\left(m_{1} + 2 m_{2}\\right) \\left(- 1.0 J_{2} l_{1} m_{1} - 2.0 J_{2} l_{1} m_{2} - 2.0 l_{1} l_{2}^{2} m_{1} m_{2} - 2.0 l_{1} l_{2}^{2} m_{2}^{2}\\right)}{- 1.0 J_{1} J_{2} M - 1.0 J_{1} J_{2} m_{1} - 1.0 J_{1} J_{2} m_{2} - 2.0 J_{1} M l_{2}^{2} m_{2} - 2.0 J_{1} l_{2}^{2} m_{1} m_{2} - 1.0 J_{1} l_{2}^{2} m_{2}^{2} - 1.0 J_{2} M l_{1}^{2} m_{1} - 2.0 J_{2} M l_{1}^{2} m_{2} + 1.0 J_{2} l_{1}^{2} m_{1} m_{2} + 2.0 J_{2} l_{1}^{2} m_{2}^{2} - 2.0 M l_{1}^{2} l_{2}^{2} m_{1} m_{2} + 3.0 l_{1}^{2} l_{2}^{2} m_{1} m_{2}^{2} + 2.0 l_{1}^{2} l_{2}^{2} m_{2}^{3}} & \\frac{g l_{2} m_{2} \\left(- 1.0 J_{1} l_{2} m_{2} + 1.0 l_{1}^{2} l_{2} m_{1} m_{2} + 2.0 l_{1}^{2} l_{2} m_{2}^{2}\\right)}{- 1.0 J_{1} J_{2} M - 1.0 J_{1} J_{2} m_{1} - 1.0 J_{1} J_{2} m_{2} - 2.0 J_{1} M l_{2}^{2} m_{2} - 2.0 J_{1} l_{2}^{2} m_{1} m_{2} - 1.0 J_{1} l_{2}^{2} m_{2}^{2} - 1.0 J_{2} M l_{1}^{2} m_{1} - 2.0 J_{2} M l_{1}^{2} m_{2} + 1.0 J_{2} l_{1}^{2} m_{1} m_{2} + 2.0 J_{2} l_{1}^{2} m_{2}^{2} - 2.0 M l_{1}^{2} l_{2}^{2} m_{1} m_{2} + 3.0 l_{1}^{2} l_{2}^{2} m_{1} m_{2}^{2} + 2.0 l_{1}^{2} l_{2}^{2} m_{2}^{3}} & 0 & 0 & 0\\\\0 & - \\frac{g l_{1} \\left(m_{1} + 2 m_{2}\\right) \\left(- 1.0 J_{2} M - 1.0 J_{2} m_{1} - 1.0 J_{2} m_{2} - 2.0 M l_{2}^{2} m_{2} - 2.0 l_{2}^{2} m_{1} m_{2} - 1.0 l_{2}^{2} m_{2}^{2}\\right)}{- 1.0 J_{1} J_{2} M - 1.0 J_{1} J_{2} m_{1} - 1.0 J_{1} J_{2} m_{2} - 2.0 J_{1} M l_{2}^{2} m_{2} - 2.0 J_{1} l_{2}^{2} m_{1} m_{2} - 1.0 J_{1} l_{2}^{2} m_{2}^{2} - 1.0 J_{2} M l_{1}^{2} m_{1} - 2.0 J_{2} M l_{1}^{2} m_{2} + 1.0 J_{2} l_{1}^{2} m_{1} m_{2} + 2.0 J_{2} l_{1}^{2} m_{2}^{2} - 2.0 M l_{1}^{2} l_{2}^{2} m_{1} m_{2} + 3.0 l_{1}^{2} l_{2}^{2} m_{1} m_{2}^{2} + 2.0 l_{1}^{2} l_{2}^{2} m_{2}^{3}} & \\frac{g l_{2} m_{2} \\cdot \\left(2.0 M l_{1} l_{2} m_{2} + 1.0 l_{1} l_{2} m_{1} m_{2}\\right)}{- 1.0 J_{1} J_{2} M - 1.0 J_{1} J_{2} m_{1} - 1.0 J_{1} J_{2} m_{2} - 2.0 J_{1} M l_{2}^{2} m_{2} - 2.0 J_{1} l_{2}^{2} m_{1} m_{2} - 1.0 J_{1} l_{2}^{2} m_{2}^{2} - 1.0 J_{2} M l_{1}^{2} m_{1} - 2.0 J_{2} M l_{1}^{2} m_{2} + 1.0 J_{2} l_{1}^{2} m_{1} m_{2} + 2.0 J_{2} l_{1}^{2} m_{2}^{2} - 2.0 M l_{1}^{2} l_{2}^{2} m_{1} m_{2} + 3.0 l_{1}^{2} l_{2}^{2} m_{1} m_{2}^{2} + 2.0 l_{1}^{2} l_{2}^{2} m_{2}^{3}} & 0 & 0 & 0\\\\0 & - \\frac{g l_{1} \\left(m_{1} + 2 m_{2}\\right) \\left(2.0 M l_{1} l_{2} m_{2} + 1.0 l_{1} l_{2} m_{1} m_{2}\\right)}{- 1.0 J_{1} J_{2} M - 1.0 J_{1} J_{2} m_{1} - 1.0 J_{1} J_{2} m_{2} - 2.0 J_{1} M l_{2}^{2} m_{2} - 2.0 J_{1} l_{2}^{2} m_{1} m_{2} - 1.0 J_{1} l_{2}^{2} m_{2}^{2} - 1.0 J_{2} M l_{1}^{2} m_{1} - 2.0 J_{2} M l_{1}^{2} m_{2} + 1.0 J_{2} l_{1}^{2} m_{1} m_{2} + 2.0 J_{2} l_{1}^{2} m_{2}^{2} - 2.0 M l_{1}^{2} l_{2}^{2} m_{1} m_{2} + 3.0 l_{1}^{2} l_{2}^{2} m_{1} m_{2}^{2} + 2.0 l_{1}^{2} l_{2}^{2} m_{2}^{3}} & \\frac{g l_{2} m_{2} \\left(- 1.0 J_{1} M - 1.0 J_{1} m_{1} - 1.0 J_{1} m_{2} - 1.0 M l_{1}^{2} m_{1} - 2.0 M l_{1}^{2} m_{2} + 1.0 l_{1}^{2} m_{1} m_{2} + 2.0 l_{1}^{2} m_{2}^{2}\\right)}{- 1.0 J_{1} J_{2} M - 1.0 J_{1} J_{2} m_{1} - 1.0 J_{1} J_{2} m_{2} - 2.0 J_{1} M l_{2}^{2} m_{2} - 2.0 J_{1} l_{2}^{2} m_{1} m_{2} - 1.0 J_{1} l_{2}^{2} m_{2}^{2} - 1.0 J_{2} M l_{1}^{2} m_{1} - 2.0 J_{2} M l_{1}^{2} m_{2} + 1.0 J_{2} l_{1}^{2} m_{1} m_{2} + 2.0 J_{2} l_{1}^{2} m_{2}^{2} - 2.0 M l_{1}^{2} l_{2}^{2} m_{1} m_{2} + 3.0 l_{1}^{2} l_{2}^{2} m_{1} m_{2}^{2} + 2.0 l_{1}^{2} l_{2}^{2} m_{2}^{3}} & 0 & 0 & 0\\end{matrix}\\right]$"
      ],
      "text/plain": [
       "Matrix([\n",
       "[0,                                                                                                                                                                                                                                                                                                                                                                                    0,                                                                                                                                                                                                                                                                                                                                                                                           0, 1, 0, 0],\n",
       "[0,                                                                                                                                                                                                                                                                                                                                                                                    0,                                                                                                                                                                                                                                                                                                                                                                                           0, 0, 1, 0],\n",
       "[0,                                                                                                                                                                                                                                                                                                                                                                                    0,                                                                                                                                                                                                                                                                                                                                                                                           0, 0, 0, 1],\n",
       "[0,                 -g*l1*(m1 + 2*m2)*(-1.0*J2*l1*m1 - 2.0*J2*l1*m2 - 2.0*l1*l2**2*m1*m2 - 2.0*l1*l2**2*m2**2)/(-1.0*J1*J2*M - 1.0*J1*J2*m1 - 1.0*J1*J2*m2 - 2.0*J1*M*l2**2*m2 - 2.0*J1*l2**2*m1*m2 - 1.0*J1*l2**2*m2**2 - 1.0*J2*M*l1**2*m1 - 2.0*J2*M*l1**2*m2 + 1.0*J2*l1**2*m1*m2 + 2.0*J2*l1**2*m2**2 - 2.0*M*l1**2*l2**2*m1*m2 + 3.0*l1**2*l2**2*m1*m2**2 + 2.0*l1**2*l2**2*m2**3),                                                 g*l2*m2*(-1.0*J1*l2*m2 + 1.0*l1**2*l2*m1*m2 + 2.0*l1**2*l2*m2**2)/(-1.0*J1*J2*M - 1.0*J1*J2*m1 - 1.0*J1*J2*m2 - 2.0*J1*M*l2**2*m2 - 2.0*J1*l2**2*m1*m2 - 1.0*J1*l2**2*m2**2 - 1.0*J2*M*l1**2*m1 - 2.0*J2*M*l1**2*m2 + 1.0*J2*l1**2*m1*m2 + 2.0*J2*l1**2*m2**2 - 2.0*M*l1**2*l2**2*m1*m2 + 3.0*l1**2*l2**2*m1*m2**2 + 2.0*l1**2*l2**2*m2**3), 0, 0, 0],\n",
       "[0, -g*l1*(m1 + 2*m2)*(-1.0*J2*M - 1.0*J2*m1 - 1.0*J2*m2 - 2.0*M*l2**2*m2 - 2.0*l2**2*m1*m2 - 1.0*l2**2*m2**2)/(-1.0*J1*J2*M - 1.0*J1*J2*m1 - 1.0*J1*J2*m2 - 2.0*J1*M*l2**2*m2 - 2.0*J1*l2**2*m1*m2 - 1.0*J1*l2**2*m2**2 - 1.0*J2*M*l1**2*m1 - 2.0*J2*M*l1**2*m2 + 1.0*J2*l1**2*m1*m2 + 2.0*J2*l1**2*m2**2 - 2.0*M*l1**2*l2**2*m1*m2 + 3.0*l1**2*l2**2*m1*m2**2 + 2.0*l1**2*l2**2*m2**3),                                                                        g*l2*m2*(2.0*M*l1*l2*m2 + 1.0*l1*l2*m1*m2)/(-1.0*J1*J2*M - 1.0*J1*J2*m1 - 1.0*J1*J2*m2 - 2.0*J1*M*l2**2*m2 - 2.0*J1*l2**2*m1*m2 - 1.0*J1*l2**2*m2**2 - 1.0*J2*M*l1**2*m1 - 2.0*J2*M*l1**2*m2 + 1.0*J2*l1**2*m1*m2 + 2.0*J2*l1**2*m2**2 - 2.0*M*l1**2*l2**2*m1*m2 + 3.0*l1**2*l2**2*m1*m2**2 + 2.0*l1**2*l2**2*m2**3), 0, 0, 0],\n",
       "[0,                                                       -g*l1*(m1 + 2*m2)*(2.0*M*l1*l2*m2 + 1.0*l1*l2*m1*m2)/(-1.0*J1*J2*M - 1.0*J1*J2*m1 - 1.0*J1*J2*m2 - 2.0*J1*M*l2**2*m2 - 2.0*J1*l2**2*m1*m2 - 1.0*J1*l2**2*m2**2 - 1.0*J2*M*l1**2*m1 - 2.0*J2*M*l1**2*m2 + 1.0*J2*l1**2*m1*m2 + 2.0*J2*l1**2*m2**2 - 2.0*M*l1**2*l2**2*m1*m2 + 3.0*l1**2*l2**2*m1*m2**2 + 2.0*l1**2*l2**2*m2**3), g*l2*m2*(-1.0*J1*M - 1.0*J1*m1 - 1.0*J1*m2 - 1.0*M*l1**2*m1 - 2.0*M*l1**2*m2 + 1.0*l1**2*m1*m2 + 2.0*l1**2*m2**2)/(-1.0*J1*J2*M - 1.0*J1*J2*m1 - 1.0*J1*J2*m2 - 2.0*J1*M*l2**2*m2 - 2.0*J1*l2**2*m1*m2 - 1.0*J1*l2**2*m2**2 - 1.0*J2*M*l1**2*m1 - 2.0*J2*M*l1**2*m2 + 1.0*J2*l1**2*m1*m2 + 2.0*J2*l1**2*m2**2 - 2.0*M*l1**2*l2**2*m1*m2 + 3.0*l1**2*l2**2*m1*m2**2 + 2.0*l1**2*l2**2*m2**3), 0, 0, 0]])"
      ]
     },
     "execution_count": 35,
     "metadata": {},
     "output_type": "execute_result"
    }
   ],
   "source": [
    "f_s = f.jacobian(q)\n",
    "f_s"
   ]
  },
  {
   "cell_type": "code",
   "execution_count": 36,
   "metadata": {},
   "outputs": [
    {
     "data": {
      "text/plain": [
       "matrix([[ 0.00000000e+00,  0.00000000e+00,  0.00000000e+00,\n",
       "          1.00000000e+00,  0.00000000e+00,  0.00000000e+00],\n",
       "        [ 0.00000000e+00,  0.00000000e+00,  0.00000000e+00,\n",
       "          0.00000000e+00,  1.00000000e+00,  0.00000000e+00],\n",
       "        [ 0.00000000e+00,  0.00000000e+00,  0.00000000e+00,\n",
       "          0.00000000e+00,  0.00000000e+00,  1.00000000e+00],\n",
       "        [ 0.00000000e+00,  1.45673438e+02,  2.59311938e+01,\n",
       "          0.00000000e+00,  0.00000000e+00,  0.00000000e+00],\n",
       "        [ 0.00000000e+00,  3.49662904e+03,  5.83160281e+02,\n",
       "          0.00000000e+00,  0.00000000e+00,  0.00000000e+00],\n",
       "        [ 0.00000000e+00, -1.74948084e+03, -1.93609213e+02,\n",
       "          0.00000000e+00,  0.00000000e+00,  0.00000000e+00]])"
      ]
     },
     "execution_count": 36,
     "metadata": {},
     "output_type": "execute_result"
    }
   ],
   "source": [
    "valor_param = {M:1,m1:1,m2:1,J1:0.00083,J2:0.00083,\\\n",
    "               l1:0.05,l2:0.05,g:9.81,f0:0.01,f1:0.007,f2:0.007}\n",
    "\n",
    "A_s = f_s.subs(valor_param)\n",
    "A = np.matrix(A_s).astype(np.float64)\n",
    "A"
   ]
  },
  {
   "cell_type": "code",
   "execution_count": 37,
   "metadata": {},
   "outputs": [
    {
     "data": {
      "text/plain": [
       "matrix([[  0.        ],\n",
       "        [  0.        ],\n",
       "        [  0.        ],\n",
       "        [  3.73538037],\n",
       "        [ 98.99656009],\n",
       "        [-52.86685795]])"
      ]
     },
     "execution_count": 37,
     "metadata": {},
     "output_type": "execute_result"
    }
   ],
   "source": [
    "# Matriz B\n",
    "b_i = B_0.jacobian([u])\n",
    "B_s = b_i.subs(valor_param)\n",
    "B = np.matrix(B_s).astype(np.float64)\n",
    "#b_i\n",
    "B"
   ]
  },
  {
   "cell_type": "code",
   "execution_count": 18,
   "metadata": {},
   "outputs": [],
   "source": [
    "C = np.array([[1, 0, 0, 0, 0, 0], [0, 1, 0, 0, 0, 0], [0, 0, 1, 0, 0, 0],[0,0,0,1,0,0],[0,0,0,0,1,0],[0,0,0,0,0,1]])\n",
    "#C = np.array([[1, 0, 0, 0, 0, 0]])\n",
    "D = np.zeros((6,1))"
   ]
  },
  {
   "cell_type": "markdown",
   "metadata": {},
   "source": [
    "# 2 Modelagem pelo módulo Numpy"
   ]
  },
  {
   "cell_type": "markdown",
   "metadata": {},
   "source": [
    "# 3 Estabilidade"
   ]
  },
  {
   "cell_type": "code",
   "execution_count": 186,
   "metadata": {},
   "outputs": [
    {
     "name": "stdout",
     "output_type": "stream",
     "text": [
      "<LinearIOSystem>: sys[4]\n",
      "Inputs (1): ['u[0]']\n",
      "Outputs (6): ['y[0]', 'y[1]', 'y[2]', 'y[3]', 'y[4]', 'y[5]']\n",
      "States (6): ['x[0]', 'x[1]', 'x[2]', 'x[3]', 'x[4]', 'x[5]']\n",
      "\n",
      "A = [[   0.            0.            0.            1.            0.\n",
      "         0.        ]\n",
      "     [   0.            0.            0.            0.            1.\n",
      "         0.        ]\n",
      "     [   0.            0.            0.            0.            0.\n",
      "         1.        ]\n",
      "     [   0.          -14.17439638   -1.57978635    0.            0.\n",
      "         0.        ]\n",
      "     [   0.         -512.59334845  -87.36145691    0.            0.\n",
      "         0.        ]\n",
      "     [   0.          262.08437074  119.90359962    0.            0.\n",
      "         0.        ]]\n",
      "\n",
      "B = [[  0.        ]\n",
      "     [  0.        ]\n",
      "     [  0.        ]\n",
      "     [ -1.26880791]\n",
      "     [-24.0815433 ]\n",
      "     [  8.05191817]]\n",
      "\n",
      "C = [[1. 0. 0. 0. 0. 0.]\n",
      "     [0. 1. 0. 0. 0. 0.]\n",
      "     [0. 0. 1. 0. 0. 0.]\n",
      "     [0. 0. 0. 1. 0. 0.]\n",
      "     [0. 0. 0. 0. 1. 0.]\n",
      "     [0. 0. 0. 0. 0. 1.]]\n",
      "\n",
      "D = [[0.]\n",
      "     [0.]\n",
      "     [0.]\n",
      "     [0.]\n",
      "     [0.]\n",
      "     [0.]]\n",
      "\n"
     ]
    }
   ],
   "source": [
    "sys = ct.ss(A,B,C,D)\n",
    "print(sys)"
   ]
  },
  {
   "cell_type": "code",
   "execution_count": 191,
   "metadata": {},
   "outputs": [
    {
     "name": "stdout",
     "output_type": "stream",
     "text": [
      "Rank da Matriz: 6\n"
     ]
    },
    {
     "data": {
      "text/latex": [
       "$\\displaystyle \\left[\\begin{matrix}0 & -1.26880790794839 & 0 & 328.621029845503 & 0 & -156553.196727025\\\\0 & -24.0815432966854 & 0 & 11640.6116115352 & 0 & -5499870.78925965\\\\0 & 8.05191817470065 & 0 & -5345.94214851025 & 0 & 2409824.66234667\\\\-1.26880790794839 & 0 & 328.621029845503 & 0 & -156553.196727025 & 0\\\\-24.0815432966854 & 0 & 11640.6116115352 & 0 & -5499870.78925965 & 0\\\\8.05191817470065 & 0 & -5345.94214851025 & 0 & 2409824.66234667 & 0\\end{matrix}\\right]$"
      ],
      "text/plain": [
       "Matrix([\n",
       "[                0, -1.26880790794839,                 0,  328.621029845503,                 0, -156553.196727025],\n",
       "[                0, -24.0815432966854,                 0,  11640.6116115352,                 0, -5499870.78925965],\n",
       "[                0,  8.05191817470065,                 0, -5345.94214851025,                 0,  2409824.66234667],\n",
       "[-1.26880790794839,                 0,  328.621029845503,                 0, -156553.196727025,                 0],\n",
       "[-24.0815432966854,                 0,  11640.6116115352,                 0, -5499870.78925965,                 0],\n",
       "[ 8.05191817470065,                 0, -5345.94214851025,                 0,  2409824.66234667,                 0]])"
      ]
     },
     "execution_count": 191,
     "metadata": {},
     "output_type": "execute_result"
    }
   ],
   "source": [
    "# MAtriz de controlabilidade\n",
    "Co = ct.ctrb(A,B)\n",
    "rank = np.linalg.matrix_rank(Co)    \n",
    "print('Rank da Matriz de controlabilidade:',rank)\n",
    "Co_s =sym.Matrix(Co)\n",
    "Co_s"
   ]
  },
  {
   "cell_type": "code",
   "execution_count": 192,
   "metadata": {},
   "outputs": [
    {
     "name": "stdout",
     "output_type": "stream",
     "text": [
      "Rank da Matriz de observabilidade: 6\n"
     ]
    },
    {
     "data": {
      "text/latex": [
       "$\\displaystyle \\left[\\begin{matrix}1.0 & 0 & 0 & 0 & 0 & 0\\\\0 & 1.0 & 0 & 0 & 0 & 0\\\\0 & 0 & 1.0 & 0 & 0 & 0\\\\0 & 0 & 0 & 1.0 & 0 & 0\\\\0 & 0 & 0 & 0 & 1.0 & 0\\\\0 & 0 & 0 & 0 & 0 & 1.0\\\\0 & 0 & 0 & 1.0 & 0 & 0\\\\0 & 0 & 0 & 0 & 1.0 & 0\\\\0 & 0 & 0 & 0 & 0 & 1.0\\\\0 & -14.174396384429 & -1.57978634587627 & 0 & 0 & 0\\\\0 & -512.593348447687 & -87.3614569148167 & 0 & 0 & 0\\\\0 & 262.08437074445 & 119.903599615586 & 0 & 0 & 0\\\\0 & -14.174396384429 & -1.57978634587627 & 0 & 0 & 0\\\\0 & -512.593348447687 & -87.3614569148167 & 0 & 0 & 0\\\\0 & 262.08437074445 & 119.903599615586 & 0 & 0 & 0\\\\0 & 0 & 0 & 0 & -14.174396384429 & -1.57978634587627\\\\0 & 0 & 0 & 0 & -512.593348447687 & -87.3614569148167\\\\0 & 0 & 0 & 0 & 262.08437074445 & 119.903599615586\\\\0 & 0 & 0 & 0 & -14.174396384429 & -1.57978634587627\\\\0 & 0 & 0 & 0 & -512.593348447687 & -87.3614569148167\\\\0 & 0 & 0 & 0 & 262.08437074445 & 119.903599615586\\\\0 & 6851.6639945496 & 1048.87384953771 & 0 & 0 & 0\\\\0 & 239855.868409974 & 34305.9485734858 & 0 & 0 & 0\\\\0 & -102917.845720457 & -8519.19926206338 & 0 & 0 & 0\\\\0 & 6851.6639945496 & 1048.87384953771 & 0 & 0 & 0\\\\0 & 239855.868409974 & 34305.9485734858 & 0 & 0 & 0\\\\0 & -102917.845720457 & -8519.19926206338 & 0 & 0 & 0\\\\0 & 0 & 0 & 0 & 6851.6639945496 & 1048.87384953771\\\\0 & 0 & 0 & 0 & 239855.868409974 & 34305.9485734858\\\\0 & 0 & 0 & 0 & -102917.845720457 & -8519.19926206338\\\\0 & 0 & 0 & 0 & 6851.6639945496 & 1048.87384953771\\\\0 & 0 & 0 & 0 & 239855.868409974 & 34305.9485734858\\\\0 & 0 & 0 & 0 & -102917.845720457 & -8519.19926206338\\\\0 & -3237223.94655823 & -472807.598752417 & 0 & 0 & 0\\\\0 & -113957469.788423 & -16840751.3916757 & 0 & 0 & 0\\\\0 & 50522254.1750272 & 7969570.28730964 & 0 & 0 & 0\\end{matrix}\\right]$"
      ],
      "text/plain": [
       "Matrix([\n",
       "[1.0,                 0,                 0,   0,                 0,                 0],\n",
       "[  0,               1.0,                 0,   0,                 0,                 0],\n",
       "[  0,                 0,               1.0,   0,                 0,                 0],\n",
       "[  0,                 0,                 0, 1.0,                 0,                 0],\n",
       "[  0,                 0,                 0,   0,               1.0,                 0],\n",
       "[  0,                 0,                 0,   0,                 0,               1.0],\n",
       "[  0,                 0,                 0, 1.0,                 0,                 0],\n",
       "[  0,                 0,                 0,   0,               1.0,                 0],\n",
       "[  0,                 0,                 0,   0,                 0,               1.0],\n",
       "[  0,  -14.174396384429, -1.57978634587627,   0,                 0,                 0],\n",
       "[  0, -512.593348447687, -87.3614569148167,   0,                 0,                 0],\n",
       "[  0,   262.08437074445,  119.903599615586,   0,                 0,                 0],\n",
       "[  0,  -14.174396384429, -1.57978634587627,   0,                 0,                 0],\n",
       "[  0, -512.593348447687, -87.3614569148167,   0,                 0,                 0],\n",
       "[  0,   262.08437074445,  119.903599615586,   0,                 0,                 0],\n",
       "[  0,                 0,                 0,   0,  -14.174396384429, -1.57978634587627],\n",
       "[  0,                 0,                 0,   0, -512.593348447687, -87.3614569148167],\n",
       "[  0,                 0,                 0,   0,   262.08437074445,  119.903599615586],\n",
       "[  0,                 0,                 0,   0,  -14.174396384429, -1.57978634587627],\n",
       "[  0,                 0,                 0,   0, -512.593348447687, -87.3614569148167],\n",
       "[  0,                 0,                 0,   0,   262.08437074445,  119.903599615586],\n",
       "[  0,   6851.6639945496,  1048.87384953771,   0,                 0,                 0],\n",
       "[  0,  239855.868409974,  34305.9485734858,   0,                 0,                 0],\n",
       "[  0, -102917.845720457, -8519.19926206338,   0,                 0,                 0],\n",
       "[  0,   6851.6639945496,  1048.87384953771,   0,                 0,                 0],\n",
       "[  0,  239855.868409974,  34305.9485734858,   0,                 0,                 0],\n",
       "[  0, -102917.845720457, -8519.19926206338,   0,                 0,                 0],\n",
       "[  0,                 0,                 0,   0,   6851.6639945496,  1048.87384953771],\n",
       "[  0,                 0,                 0,   0,  239855.868409974,  34305.9485734858],\n",
       "[  0,                 0,                 0,   0, -102917.845720457, -8519.19926206338],\n",
       "[  0,                 0,                 0,   0,   6851.6639945496,  1048.87384953771],\n",
       "[  0,                 0,                 0,   0,  239855.868409974,  34305.9485734858],\n",
       "[  0,                 0,                 0,   0, -102917.845720457, -8519.19926206338],\n",
       "[  0, -3237223.94655823, -472807.598752417,   0,                 0,                 0],\n",
       "[  0, -113957469.788423, -16840751.3916757,   0,                 0,                 0],\n",
       "[  0,  50522254.1750272,  7969570.28730964,   0,                 0,                 0]])"
      ]
     },
     "execution_count": 192,
     "metadata": {},
     "output_type": "execute_result"
    }
   ],
   "source": [
    "# MAtriz de observabilidade\n",
    "Ob = ct.obsv(A,C)\n",
    "rank_obsr = np.linalg.matrix_rank(Ob)    \n",
    "print('Rank da Matriz de observabilidade:',rank_obsr)\n",
    "Ob_s = sym.Matrix(Ob)\n",
    "Ob_s"
   ]
  },
  {
   "cell_type": "code",
   "execution_count": 203,
   "metadata": {},
   "outputs": [
    {
     "name": "stdout",
     "output_type": "stream",
     "text": [
      "Os polos do sistema são:  [ 0.         +0.j          0.         +0.j\n",
      " -9.01968116 +0.j          9.01968116 +0.j\n",
      "  0.        +21.77256064j  0.        -21.77256064j]\n"
     ]
    }
   ],
   "source": [
    "polos = ct.poles(sys)\n",
    "print('Os polos do sistema são: ', polos)"
   ]
  },
  {
   "cell_type": "code",
   "execution_count": 219,
   "metadata": {},
   "outputs": [
    {
     "name": "stdout",
     "output_type": "stream",
     "text": [
      "<LinearIOSystem>: sys[4]$sampled\n",
      "Inputs (1): ['u[0]']\n",
      "Outputs (6): ['y[0]', 'y[1]', 'y[2]', 'y[3]', 'y[4]', 'y[5]']\n",
      "States (6): ['x[0]', 'x[1]', 'x[2]', 'x[3]', 'x[4]', 'x[5]']\n",
      "\n",
      "A = [[ 1.00000000e+00 -7.05869452e-04 -7.85529426e-05  1.00000000e-02\n",
      "      -2.35669610e-06 -2.62424600e-07]\n",
      "     [ 0.00000000e+00  9.74470114e-01 -4.35380207e-03  0.00000000e+00\n",
      "       9.91476743e-03 -1.45316879e-05]\n",
      "     [ 0.00000000e+00  1.30614062e-02  1.00599164e+00  0.00000000e+00\n",
      "       4.35950638e-05  1.00199768e-02]\n",
      "     [ 0.00000000e+00 -1.40604714e-01 -1.56234447e-02  1.00000000e+00\n",
      "      -7.05869452e-04 -7.85529426e-05]\n",
      "     [ 0.00000000e+00 -5.08605236e+00 -8.67910929e-01  0.00000000e+00\n",
      "       9.74470114e-01 -4.35380207e-03]\n",
      "     [ 0.00000000e+00  2.60373279e+00  1.19762276e+00  0.00000000e+00\n",
      "       1.30614062e-02  1.00599164e+00]]\n",
      "\n",
      "B = [[-6.33036872e-05]\n",
      "     [-1.19923454e-03]\n",
      "     [ 4.00371777e-04]\n",
      "     [-1.26334392e-02]\n",
      "     [-2.38879909e-01]\n",
      "     [ 7.96301973e-02]]\n",
      "\n",
      "C = [[1. 0. 0. 0. 0. 0.]\n",
      "     [0. 1. 0. 0. 0. 0.]\n",
      "     [0. 0. 1. 0. 0. 0.]\n",
      "     [0. 0. 0. 1. 0. 0.]\n",
      "     [0. 0. 0. 0. 1. 0.]\n",
      "     [0. 0. 0. 0. 0. 1.]]\n",
      "\n",
      "D = [[0.]\n",
      "     [0.]\n",
      "     [0.]\n",
      "     [0.]\n",
      "     [0.]\n",
      "     [0.]]\n",
      "\n",
      "dt = 0.01\n",
      "\n"
     ]
    }
   ],
   "source": [
    "# Discretizando\n",
    "dt = 0.01\n",
    "sys_discreto = ct.c2d(sys,dt, method='zoh')\n",
    "\n",
    "Ad = np.array(sys_discreto.A)\n",
    "Bd = np.array(sys_discreto.B)\n",
    "\n",
    "Cd= np.identity(2)\n",
    "Dd = np.zeros_like(Bd)\n"
   ]
  },
  {
   "cell_type": "code",
   "execution_count": 234,
   "metadata": {},
   "outputs": [],
   "source": [
    "x0 = np.array([[0.0],[0],[0.01],[0],[0],[0]])\n",
    "tp = np.linspace(0, 5, 1500)\n",
    "t,y = ct.initial_response(sys, tp,x0) # Resposta Inicial\n",
    "r,d = ct.step_response(sys,tp,x0) # Resposta ao degrau"
   ]
  },
  {
   "cell_type": "code",
   "execution_count": 235,
   "metadata": {},
   "outputs": [
    {
     "data": {
      "text/plain": [
       "(array([0.00000000e+00, 3.33555704e-03, 6.67111408e-03, ...,\n",
       "        4.99332889e+00, 4.99666444e+00, 5.00000000e+00]),\n",
       " array([[ 0.00000000e+00, -8.78289569e-08, -3.50667188e-07, ...,\n",
       "          1.20486594e+15,  1.24166592e+15,  1.27958989e+15],\n",
       "        [ 0.00000000e+00, -4.85812287e-06, -1.94112777e-05, ...,\n",
       "         -2.85457494e+16, -2.94176168e+16, -3.03161134e+16],\n",
       "        [ 1.00000000e-02,  1.00066698e-02,  1.00266738e-02, ...,\n",
       "          1.94075182e+17,  2.00002783e+17,  2.06111430e+17],\n",
       "        [ 0.00000000e+00, -5.26298159e-05, -1.04870870e-04, ...,\n",
       "          1.08675066e+16,  1.11994307e+16,  1.15414928e+16],\n",
       "        [ 0.00000000e+00, -2.91186991e-03, -5.81102585e-03, ...,\n",
       "         -2.57473558e+17, -2.65337524e+17, -2.73441677e+17],\n",
       "        [ 0.00000000e+00,  3.99892630e-03,  7.99469925e-03, ...,\n",
       "          1.75049627e+18,  1.80396134e+18,  1.85905938e+18]]))"
      ]
     },
     "execution_count": 235,
     "metadata": {},
     "output_type": "execute_result"
    }
   ],
   "source": [
    "t,y "
   ]
  },
  {
   "cell_type": "code",
   "execution_count": 243,
   "metadata": {},
   "outputs": [
    {
     "data": {
      "image/png": "[encoded data removed]",
      "text/plain": [
       "<Figure size 900x400 with 1 Axes>"
      ]
     },
     "metadata": {},
     "output_type": "display_data"
    }
   ],
   "source": [
    "altura = 4\n",
    "largura = 9\n",
    "subplots = plt.subplots(1, 1, figsize=(largura, altura))\n",
    "subplots[1].plot(t,y[0], label='x')\n",
    "subplots[1].plot(t,y[1], label='phi1')\n",
    "subplots[1].plot(t,y[2], label='phi2')\n",
    "subplots[1].set_title('Resposta Inicial')\n",
    "subplots[1].set_xlabel('Tempo (s)')\n",
    "subplots[1].set_ylabel('Posição (m)')\n",
    "subplots[1].grid(True)\n",
    "subplots[1].legend()\n",
    "plt.show()\n",
    "\n"
   ]
  },
  {
   "cell_type": "code",
   "execution_count": 247,
   "metadata": {},
   "outputs": [
    {
     "ename": "NotImplementedError",
     "evalue": "StateSpace.zero only supports systems with the same number of inputs as outputs.",
     "output_type": "error",
     "traceback": [
      "\u001b[0;31m---------------------------------------------------------------------------\u001b[0m",
      "\u001b[0;31mModuleNotFoundError\u001b[0m                       Traceback (most recent call last)",
      "File \u001b[0;32m~/.python/current/lib/python3.10/site-packages/control/statesp.py:1010\u001b[0m, in \u001b[0;36mStateSpace.zeros\u001b[0;34m(self)\u001b[0m\n\u001b[1;32m   1009\u001b[0m \u001b[38;5;28;01mtry\u001b[39;00m:\n\u001b[0;32m-> 1010\u001b[0m     \u001b[38;5;28;01mfrom\u001b[39;00m \u001b[38;5;21;01mslycot\u001b[39;00m \u001b[38;5;28;01mimport\u001b[39;00m ab08nd\n\u001b[1;32m   1012\u001b[0m     out \u001b[38;5;241m=\u001b[39m ab08nd(\u001b[38;5;28mself\u001b[39m\u001b[38;5;241m.\u001b[39mA\u001b[38;5;241m.\u001b[39mshape[\u001b[38;5;241m0\u001b[39m], \u001b[38;5;28mself\u001b[39m\u001b[38;5;241m.\u001b[39mB\u001b[38;5;241m.\u001b[39mshape[\u001b[38;5;241m1\u001b[39m], \u001b[38;5;28mself\u001b[39m\u001b[38;5;241m.\u001b[39mC\u001b[38;5;241m.\u001b[39mshape[\u001b[38;5;241m0\u001b[39m],\n\u001b[1;32m   1013\u001b[0m                  \u001b[38;5;28mself\u001b[39m\u001b[38;5;241m.\u001b[39mA, \u001b[38;5;28mself\u001b[39m\u001b[38;5;241m.\u001b[39mB, \u001b[38;5;28mself\u001b[39m\u001b[38;5;241m.\u001b[39mC, \u001b[38;5;28mself\u001b[39m\u001b[38;5;241m.\u001b[39mD)\n",
      "\u001b[0;31mModuleNotFoundError\u001b[0m: No module named 'slycot'",
      "\nDuring handling of the above exception, another exception occurred:\n",
      "\u001b[0;31mNotImplementedError\u001b[0m                       Traceback (most recent call last)",
      "Cell \u001b[0;32mIn[247], line 1\u001b[0m\n\u001b[0;32m----> 1\u001b[0m \u001b[43mct\u001b[49m\u001b[38;5;241;43m.\u001b[39;49m\u001b[43mpzmap\u001b[49m\u001b[43m(\u001b[49m\u001b[43msys\u001b[49m\u001b[43m \u001b[49m\u001b[43m,\u001b[49m\u001b[43mplot\u001b[49m\u001b[38;5;241;43m=\u001b[39;49m\u001b[38;5;28;43;01mTrue\u001b[39;49;00m\u001b[43m)\u001b[49m\n",
      "File \u001b[0;32m~/.python/current/lib/python3.10/site-packages/control/pzmap.py:109\u001b[0m, in \u001b[0;36mpzmap\u001b[0;34m(sys, plot, grid, title, **kwargs)\u001b[0m\n\u001b[1;32m    106\u001b[0m     \u001b[38;5;28;01mraise\u001b[39;00m \u001b[38;5;167;01mTypeError\u001b[39;00m(\u001b[38;5;124m'\u001b[39m\u001b[38;5;124mArgument ``sys``: must be a linear system.\u001b[39m\u001b[38;5;124m'\u001b[39m)\n\u001b[1;32m    108\u001b[0m poles \u001b[38;5;241m=\u001b[39m sys\u001b[38;5;241m.\u001b[39mpoles()\n\u001b[0;32m--> 109\u001b[0m zeros \u001b[38;5;241m=\u001b[39m \u001b[43msys\u001b[49m\u001b[38;5;241;43m.\u001b[39;49m\u001b[43mzeros\u001b[49m\u001b[43m(\u001b[49m\u001b[43m)\u001b[49m\n\u001b[1;32m    111\u001b[0m \u001b[38;5;28;01mif\u001b[39;00m (plot):\n\u001b[1;32m    112\u001b[0m     \u001b[38;5;28;01mimport\u001b[39;00m \u001b[38;5;21;01mmatplotlib\u001b[39;00m\u001b[38;5;21;01m.\u001b[39;00m\u001b[38;5;21;01mpyplot\u001b[39;00m \u001b[38;5;28;01mas\u001b[39;00m \u001b[38;5;21;01mplt\u001b[39;00m\n",
      "File \u001b[0;32m~/.python/current/lib/python3.10/site-packages/control/statesp.py:1024\u001b[0m, in \u001b[0;36mStateSpace.zeros\u001b[0;34m(self)\u001b[0m\n\u001b[1;32m   1022\u001b[0m \u001b[38;5;28;01mexcept\u001b[39;00m \u001b[38;5;167;01mImportError\u001b[39;00m:  \u001b[38;5;66;03m# Slycot unavailable. Fall back to scipy.\u001b[39;00m\n\u001b[1;32m   1023\u001b[0m     \u001b[38;5;28;01mif\u001b[39;00m \u001b[38;5;28mself\u001b[39m\u001b[38;5;241m.\u001b[39mC\u001b[38;5;241m.\u001b[39mshape[\u001b[38;5;241m0\u001b[39m] \u001b[38;5;241m!=\u001b[39m \u001b[38;5;28mself\u001b[39m\u001b[38;5;241m.\u001b[39mD\u001b[38;5;241m.\u001b[39mshape[\u001b[38;5;241m1\u001b[39m]:\n\u001b[0;32m-> 1024\u001b[0m         \u001b[38;5;28;01mraise\u001b[39;00m \u001b[38;5;167;01mNotImplementedError\u001b[39;00m(\n\u001b[1;32m   1025\u001b[0m             \u001b[38;5;124m\"\u001b[39m\u001b[38;5;124mStateSpace.zero only supports systems with the same \u001b[39m\u001b[38;5;124m\"\u001b[39m\n\u001b[1;32m   1026\u001b[0m             \u001b[38;5;124m\"\u001b[39m\u001b[38;5;124mnumber of inputs as outputs.\u001b[39m\u001b[38;5;124m\"\u001b[39m)\n\u001b[1;32m   1028\u001b[0m     \u001b[38;5;66;03m# This implements the QZ algorithm for finding transmission zeros\u001b[39;00m\n\u001b[1;32m   1029\u001b[0m     \u001b[38;5;66;03m# from\u001b[39;00m\n\u001b[1;32m   1030\u001b[0m     \u001b[38;5;66;03m# https://dspace.mit.edu/bitstream/handle/1721.1/841/P-0802-06587335.pdf.\u001b[39;00m\n\u001b[0;32m   (...)\u001b[0m\n\u001b[1;32m   1036\u001b[0m     \u001b[38;5;66;03m# The generalized eigenvalue problem is only solvable if its\u001b[39;00m\n\u001b[1;32m   1037\u001b[0m     \u001b[38;5;66;03m# arguments are square matrices.\u001b[39;00m\n\u001b[1;32m   1038\u001b[0m     L \u001b[38;5;241m=\u001b[39m concatenate((concatenate((\u001b[38;5;28mself\u001b[39m\u001b[38;5;241m.\u001b[39mA, \u001b[38;5;28mself\u001b[39m\u001b[38;5;241m.\u001b[39mB), axis\u001b[38;5;241m=\u001b[39m\u001b[38;5;241m1\u001b[39m),\n\u001b[1;32m   1039\u001b[0m                      concatenate((\u001b[38;5;28mself\u001b[39m\u001b[38;5;241m.\u001b[39mC, \u001b[38;5;28mself\u001b[39m\u001b[38;5;241m.\u001b[39mD), axis\u001b[38;5;241m=\u001b[39m\u001b[38;5;241m1\u001b[39m)), axis\u001b[38;5;241m=\u001b[39m\u001b[38;5;241m0\u001b[39m)\n",
      "\u001b[0;31mNotImplementedError\u001b[0m: StateSpace.zero only supports systems with the same number of inputs as outputs."
     ]
    }
   ],
   "source": [
    "ct.pzmap(sys ,plot=True)"
   ]
  }
 ],
 "metadata": {
  "kernelspec": {
   "display_name": "Python 3",
   "language": "python",
   "name": "python3"
  },
  "language_info": {
   "codemirror_mode": {
    "name": "ipython",
    "version": 3
   },
   "file_extension": ".py",
   "mimetype": "text/x-python",
   "name": "python",
   "nbconvert_exporter": "python",
   "pygments_lexer": "ipython3",
   "version": "3.10.13"
  }
 },
 "nbformat": 4,
 "nbformat_minor": 2
}
