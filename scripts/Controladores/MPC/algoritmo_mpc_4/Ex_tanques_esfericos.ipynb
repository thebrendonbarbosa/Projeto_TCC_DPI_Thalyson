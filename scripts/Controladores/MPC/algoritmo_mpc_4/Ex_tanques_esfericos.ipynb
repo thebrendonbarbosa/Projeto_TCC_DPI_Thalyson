{
 "cells": [
  {
   "cell_type": "markdown",
   "metadata": {},
   "source": [
    "# MPC - TANQUES ESFÉRICOS\n",
    "\n",
    "Sistema de 4 tanques esféricos dado através de funções em espaço de estados. O controlador é criado, baseado nas matrizes A,B,C de D do modelo. Foi projetado um controlador MPC através de setpoint sendo as variáveis controladas os níveis dos tanques 1 e 2, e as manipuladas, as vazões de alimentação T1 e T2.\n",
    "\n",
    "Foi utilizado um simulador para o processo."
   ]
  },
  {
   "cell_type": "code",
   "execution_count": null,
   "metadata": {},
   "outputs": [],
   "source": [
    "# Importanto pacotes"
   ]
  }
 ],
 "metadata": {
  "language_info": {
   "name": "python"
  }
 },
 "nbformat": 4,
 "nbformat_minor": 2
}
