{
 "cells": [
  {
   "cell_type": "code",
   "execution_count": 42,
   "metadata": {},
   "outputs": [
    {
     "name": "stdout",
     "output_type": "stream",
     "text": [
      "[[0.52832414]\n",
      " [0.        ]\n",
      " [0.        ]\n",
      " [0.        ]\n",
      " [0.        ]]\n"
     ]
    }
   ],
   "source": [
    "import numpy as np\n",
    "\n",
    "class KalmanFilter:\n",
    "    def __init__(self):\n",
    "        self.x = np.zeros((5, 1))  # Initial state vector\n",
    "        self.P = np.eye(5)         # Initial variance-covariance matrix\n",
    "        self.Q = 0.1 * np.eye(5)   # Covariance matrix\n",
    "        self.R = np.eye(1)         # Measurement error matrix\n",
    "        self.dt = 0.01             # Discretization time\n",
    "        self.A = np.eye(5)         # State Transition matrix\n",
    "        self.B = np.array([[1], [0], [0], [0], [0]])  # Input matrix\n",
    "        self.C = np.array([[1, 0, 0, 0, 0]])          # Output matrix\n",
    "        \n",
    "        self.Ad = np.eye(5) + self.dt * self.A        # Discrete State Transition matrix\n",
    "        self.Bd = self.dt * self.B                    # Discrete Input matrix\n",
    "        self.Cd = self.C                              # Discrete Output matrix\n",
    "\n",
    "    def filter(self, u, Z):\n",
    "        # Prediction step\n",
    "        self.x = np.dot(self.Ad, self.x) + np.dot(self.Bd, u)\n",
    "        self.P = np.dot(np.dot(self.Ad, self.P), self.Ad.T) + self.Q\n",
    "        \n",
    "        # Update step\n",
    "        K = np.dot(np.dot(self.P, self.Cd.T), np.linalg.inv(np.dot(self.Cd, np.dot(self.P, self.Cd.T)) + self.R))\n",
    "        self.x = self.x + np.dot(K, (Z - np.dot(self.Cd, self.x)))\n",
    "        self.P = np.dot((np.eye(5) - np.dot(K, self.Cd)), self.P)\n",
    "        \n",
    "        # Output\n",
    "        y = np.dot(self.Cd, self.x)\n",
    "        return K,y\n",
    "\n",
    "# Example usage\n",
    "kf = KalmanFilter()\n",
    "u = np.array([[1]])\n",
    "Z = np.array([[5]])\n",
    "K,y = kf.filter(u, Z)\n",
    "\n",
    "print(K)\n"
   ]
  },
  {
   "cell_type": "code",
   "execution_count": 43,
   "metadata": {},
   "outputs": [
    {
     "name": "stdout",
     "output_type": "stream",
     "text": [
      "[[2.64633744]]\n"
     ]
    }
   ],
   "source": [
    "print(y)\n"
   ]
  }
 ],
 "metadata": {
  "kernelspec": {
   "display_name": "Python 3",
   "language": "python",
   "name": "python3"
  },
  "language_info": {
   "codemirror_mode": {
    "name": "ipython",
    "version": 3
   },
   "file_extension": ".py",
   "mimetype": "text/x-python",
   "name": "python",
   "nbconvert_exporter": "python",
   "pygments_lexer": "ipython3",
   "version": "3.12.2"
  }
 },
 "nbformat": 4,
 "nbformat_minor": 2
}
