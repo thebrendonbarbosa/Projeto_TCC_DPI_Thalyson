{
 "cells": [
  {
   "cell_type": "code",
   "execution_count": 1,
   "metadata": {},
   "outputs": [],
   "source": [
    "# importanto as bibliotecas\n",
    "import numpy as np \n",
    "import sympy as sy \n",
    "import matplotlib.pyplot as plt \n",
    "import control as ct"
   ]
  },
  {
   "cell_type": "markdown",
   "metadata": {},
   "source": [
    "## Massa Mola Amortecedor Carro [ OGATA]\n",
    "As equações de movimento para o sistema mostrado na Figura X são:\n",
    "$$\n",
    "\\begin{align}\n",
    "m_1 \\ddot{x}_1 = -k_1 x_1 - k_2(x_1-x_2)-b(\\dot{x}_1 - \\dot{x}_2)+u\n",
    "\\end{align}\n",
    "$$\n",
    "$\n",
    "\\begin{align}\n",
    "m_2 \\ddot{x}_2 = -k_3 x_2 - k_2(x_2-x_1)-b(\\dot{x}_2 - \\dot{x}_1)\n",
    "\\end{align}\n",
    "$"
   ]
  },
  {
   "cell_type": "markdown",
   "metadata": {},
   "source": [
    "<center>\n",
    "<div class=\"figure\" >\n",
    "  <img src=\"utils/sys.png\"\n",
    "       width=\"450\"> \n",
    "  <p>Figura 1 - Sistema Massa-Mola.</p>\n",
    "</div>\n",
    "<center/>"
   ]
  },
  {
   "cell_type": "markdown",
   "metadata": {},
   "source": [
    "Simplificando, obtemos:\n",
    "$\n",
    "\\begin{align}\n",
    "m_1 \\ddot{x}_1 +b\\dot{x}_1 + (k_1+ k_2 )x_1 = b\\dot{x}_2+k_2x_2+u\n",
    "\\end{align}\n",
    "$\n",
    "$\n",
    "\\begin{align}\n",
    "m_2 \\ddot{x}_2 +b\\dot{x}_2 + (k_2+ k_3 )x_2 = b\\dot{x}_1+k_2x_1\n",
    "\\end{align}\n",
    "$"
   ]
  },
  {
   "cell_type": "markdown",
   "metadata": {},
   "source": [
    "Aplicando a transformada de Laplace nas equações acima, assumindo as condições iniciais nulas, obtemos:\n",
    "\n",
    "$$\n",
    "\\begin{align}\n",
    "[m_1 s^2 +bs + (k_1+ k_2 )]X_1(s) = (bs+k_2)X_2(s) +U(s)\n",
    "\\end{align}\n",
    "$$\n",
    "$$\n",
    "\\begin{align}\n",
    "[m_2 s^2 +bs + (k_2+ k_3 )]X_2(s) = (bs+k_2)X_1(s) \n",
    "\\end{align}\n",
    "$$"
   ]
  },
  {
   "cell_type": "code",
   "execution_count": 2,
   "metadata": {},
   "outputs": [],
   "source": [
    "# Resolvendo simbolicamente\n",
    "\n",
    "#Constantes\n",
    "m1, m2,b,k1,k2,k3,t = sy.symbols('m1 m2 b k1 k2 k3 t ')\n",
    "\n",
    "# Variáveis\n",
    "x1,x2, u = sy.symbols(r'x1 x2 u ', cls=sy.Function) # funções para se trabalhar em cima\n",
    "\n",
    "x1 = x1(t)\n",
    "x2 = x2(t)\n",
    "u = u(t)\n",
    "x1_d = sy.diff(x1, t)\n",
    "x1_dd = sy.diff(x1_d, t)\n",
    "\n",
    "x2_d = sy.diff(x2, t)\n",
    "x2_dd = sy.diff(x2_d, t)"
   ]
  },
  {
   "cell_type": "code",
   "execution_count": 3,
   "metadata": {},
   "outputs": [],
   "source": [
    "# Vetores de entrada e saida\n",
    "u_1 = sy.Matrix([u])\n",
    "x_t =  sy.Matrix([x1,x2,x1_d,x2_d])\n",
    "x_d =  sy.Matrix([x1_d,x2_d])\n",
    "y_t = sy.Matrix([x1,x2])"
   ]
  },
  {
   "cell_type": "code",
   "execution_count": 4,
   "metadata": {},
   "outputs": [],
   "source": [
    "Eq1 = m1*x1_dd + b*x1_d + (k1+k2)*x1 -b*x2_d -k2*x2 + u\n",
    "Eq2 = m2*x2_dd + b*x2_d + (k2+k3)*x2-b*x1_d-k2*x1"
   ]
  },
  {
   "cell_type": "code",
   "execution_count": 5,
   "metadata": {},
   "outputs": [
    {
     "data": {
      "text/plain": [
       "[(b*Derivative(x1(t), t) - b*Derivative(x2(t), t) + k2*x1(t) - k2*x2(t) - k3*x2(t))/m2]"
      ]
     },
     "execution_count": 5,
     "metadata": {},
     "output_type": "execute_result"
    }
   ],
   "source": [
    "sol_Eq2 = sy.solve(Eq2,x2_dd)\n",
    "sol_Eq2"
   ]
  },
  {
   "cell_type": "code",
   "execution_count": 6,
   "metadata": {},
   "outputs": [
    {
     "data": {
      "text/plain": [
       "[(-b*Derivative(x1(t), t) + b*Derivative(x2(t), t) - k1*x1(t) - k2*x1(t) + k2*x2(t) - u(t))/m1]"
      ]
     },
     "execution_count": 6,
     "metadata": {},
     "output_type": "execute_result"
    }
   ],
   "source": [
    "sol_Eq1 = sy.solve(Eq1,x1_dd)\n",
    "sol_Eq1"
   ]
  },
  {
   "cell_type": "code",
   "execution_count": 7,
   "metadata": {},
   "outputs": [
    {
     "data": {
      "text/latex": [
       "$\\displaystyle \\left[\\begin{matrix}b \\frac{d}{d t} x_{1}{\\left(t \\right)} - b \\frac{d}{d t} x_{2}{\\left(t \\right)} - k_{2} x_{2}{\\left(t \\right)} + m_{1} \\frac{d^{2}}{d t^{2}} x_{1}{\\left(t \\right)} + \\left(k_{1} + k_{2}\\right) x_{1}{\\left(t \\right)} + u{\\left(t \\right)}\\\\- b \\frac{d}{d t} x_{1}{\\left(t \\right)} + b \\frac{d}{d t} x_{2}{\\left(t \\right)} - k_{2} x_{1}{\\left(t \\right)} + m_{2} \\frac{d^{2}}{d t^{2}} x_{2}{\\left(t \\right)} + \\left(k_{2} + k_{3}\\right) x_{2}{\\left(t \\right)}\\end{matrix}\\right]$"
      ],
      "text/plain": [
       "Matrix([\n",
       "[b*Derivative(x1(t), t) - b*Derivative(x2(t), t) - k2*x2(t) + m1*Derivative(x1(t), (t, 2)) + (k1 + k2)*x1(t) + u(t)],\n",
       "[      -b*Derivative(x1(t), t) + b*Derivative(x2(t), t) - k2*x1(t) + m2*Derivative(x2(t), (t, 2)) + (k2 + k3)*x2(t)]])"
      ]
     },
     "execution_count": 7,
     "metadata": {},
     "output_type": "execute_result"
    }
   ],
   "source": [
    "Equacoes = sy.Matrix([[Eq1], [Eq2]])\n",
    "Equacoes"
   ]
  },
  {
   "cell_type": "code",
   "execution_count": 8,
   "metadata": {},
   "outputs": [
    {
     "data": {
      "text/latex": [
       "$\\displaystyle \\left[\\begin{matrix}\\frac{d}{d t} x_{1}{\\left(t \\right)}\\\\\\frac{d}{d t} x_{2}{\\left(t \\right)}\\\\\\frac{- b \\frac{d}{d t} x_{1}{\\left(t \\right)} + b \\frac{d}{d t} x_{2}{\\left(t \\right)} - k_{1} x_{1}{\\left(t \\right)} - k_{2} x_{1}{\\left(t \\right)} + k_{2} x_{2}{\\left(t \\right)} - u{\\left(t \\right)}}{m_{1}}\\\\\\frac{b \\frac{d}{d t} x_{1}{\\left(t \\right)} - b \\frac{d}{d t} x_{2}{\\left(t \\right)} + k_{2} x_{1}{\\left(t \\right)} - k_{2} x_{2}{\\left(t \\right)} - k_{3} x_{2}{\\left(t \\right)}}{m_{2}}\\end{matrix}\\right]$"
      ],
      "text/plain": [
       "Matrix([\n",
       "[                                                                         Derivative(x1(t), t)],\n",
       "[                                                                         Derivative(x2(t), t)],\n",
       "[(-b*Derivative(x1(t), t) + b*Derivative(x2(t), t) - k1*x1(t) - k2*x1(t) + k2*x2(t) - u(t))/m1],\n",
       "[        (b*Derivative(x1(t), t) - b*Derivative(x2(t), t) + k2*x1(t) - k2*x2(t) - k3*x2(t))/m2]])"
      ]
     },
     "execution_count": 8,
     "metadata": {},
     "output_type": "execute_result"
    }
   ],
   "source": [
    "f_h = sy.Matrix([x_d,sol_Eq1,sol_Eq2])\n",
    "f_h"
   ]
  },
  {
   "cell_type": "code",
   "execution_count": 9,
   "metadata": {},
   "outputs": [],
   "source": [
    "valor_constantes = {m1:1, m2:1,k1:0.2,k2:0.25,k3:0.4,b:0.9}\n",
    "dt = .1 "
   ]
  },
  {
   "cell_type": "code",
   "execution_count": 18,
   "metadata": {},
   "outputs": [
    {
     "data": {
      "text/plain": [
       "matrix([[0, 0, 1, 0],\n",
       "        [0, 0, 0, 1],\n",
       "        [-0.450000000000000, 0.250000000000000, -0.900000000000000,\n",
       "         0.900000000000000],\n",
       "        [0.250000000000000, -0.650000000000000, 0.900000000000000,\n",
       "         -0.900000000000000]], dtype=object)"
      ]
     },
     "execution_count": 18,
     "metadata": {},
     "output_type": "execute_result"
    }
   ],
   "source": [
    "A_p= f_h.jacobian([x_t]).subs(valor_constantes)\n",
    "A = np.matrix(A_p)\n",
    "A"
   ]
  },
  {
   "cell_type": "code",
   "execution_count": 11,
   "metadata": {},
   "outputs": [],
   "source": [
    "B_p= f_h.jacobian([u_1]).subs(valor_constantes)\n",
    "B=np.matrix(B_p)"
   ]
  },
  {
   "cell_type": "code",
   "execution_count": 12,
   "metadata": {},
   "outputs": [],
   "source": [
    "C= np.identity(4)\n",
    "D = np.zeros_like(B)\n"
   ]
  },
  {
   "cell_type": "code",
   "execution_count": 13,
   "metadata": {},
   "outputs": [],
   "source": [
    "sys = ct.StateSpace(A, B, C, D)\n",
    "sys_discrete = ct.c2d(sys, dt, method='zoh')\n",
    "\n",
    "A_zoh = np.array(sys_discrete.A)\n",
    "B_zoh = np.array(sys_discrete.B)"
   ]
  },
  {
   "cell_type": "markdown",
   "metadata": {},
   "source": [
    "# 2 Sistema Elétrico [OGATA]"
   ]
  },
  {
   "cell_type": "markdown",
   "metadata": {},
   "source": [
    "Para o sistema elétrico da figura, a função de transferência $E_o (s)/E_i (s)$ é:\n",
    "\n",
    "$\n",
    "\\begin{align}\n",
    "\\frac{E_0 (s)}{E_i (s)}= \\frac{R_1 + \\frac{1}{C_1 s}}{\\frac{1}{(1/R_2)+C_2 s}+R_1 +\\frac{1}{C_1 s}}\n",
    "\\end{align}\n",
    "$\n",
    "Que resulta em:\n",
    "$\n",
    "\\begin{align}\n",
    "\\frac{E_0 (s)}{E_i (s)}= \\frac{(R_1 C_1 s+1)(R_2 C_2 s +1)}{(R_1 C_1 s +1)(R_2 C_2 s +1)+R_2 C_1 s}\n",
    "\\end{align}\n",
    "$\n",
    "$\n",
    "\\begin{align}\n",
    "\\frac{E_0 (s)}{E_i (s)}= \\frac{R_1 R_2 C_1 C_2 s^2 + s(R_1 C_1 + R_2 C_2)+1}{R_1 R_2 C_1 C_2 s^2 + s(R_1 C_1 + R_2 C_2+ R_2 C_1)+1}\n",
    "\\end{align}\n",
    "$"
   ]
  },
  {
   "cell_type": "code",
   "execution_count": 24,
   "metadata": {},
   "outputs": [
    {
     "name": "stdout",
     "output_type": "stream",
     "text": [
      "\n",
      "0.00396 s^2 + 0.126 s + 1\n",
      "-------------------------\n",
      "0.00396 s^2 + 0.192 s + 1\n",
      "\n"
     ]
    }
   ],
   "source": [
    "# Parâmetros do circuito\n",
    "r_1 = 10000 # Ohm\n",
    "r_2 = 11000 # Ohm\n",
    "c_1 = 6*10**-6\n",
    "c_2 = 6*10**-6\n",
    "dt = 0.1\n",
    "# Gerando a função de transferência\n",
    "\n",
    "num = np.array([r_1*r_2*c_1*c_2, r_1*c_1+r_2*c_2,1])\n",
    "den = np.array([r_1*r_2*c_1*c_2, r_1*c_1+r_2*c_2+r_2*c_1,1])\n",
    "\n",
    "G = ct.tf(num,den)\n",
    "print(G)"
   ]
  },
  {
   "cell_type": "code",
   "execution_count": 23,
   "metadata": {},
   "outputs": [
    {
     "name": "stdout",
     "output_type": "stream",
     "text": [
      "A = [[ -48.48484848 -252.52525253]\n",
      "     [   1.            0.        ]]\n",
      "\n",
      "B = [[1.]\n",
      "     [0.]]\n",
      "\n",
      "C = [[-16.66666667   0.        ]]\n",
      "\n",
      "D = [[1.]]\n",
      "\n"
     ]
    }
   ],
   "source": [
    "sys_eletrico = ct.tf2ss(G)\n",
    "print(sys)"
   ]
  },
  {
   "cell_type": "code",
   "execution_count": 31,
   "metadata": {},
   "outputs": [],
   "source": [
    "sys_eletrico_discreto =ct.c2d(sys_eletrico, dt, method='zoh')\n",
    "\n",
    "Ae_zoh = np.array(sys_eletrico_discreto.A)\n",
    "Be_zoh = np.array(sys_eletrico_discreto.B)\n",
    "\n",
    "Ce= np.identity(2)\n",
    "De = np.zeros_like(Be_zoh)"
   ]
  },
  {
   "cell_type": "markdown",
   "metadata": {},
   "source": [
    "# MPC"
   ]
  },
  {
   "cell_type": "code",
   "execution_count": 17,
   "metadata": {},
   "outputs": [
    {
     "name": "stdout",
     "output_type": "stream",
     "text": [
      "Collecting cvxpyNote: you may need to restart the kernel to use updated packages.\n",
      "\n",
      "  Using cached cvxpy-1.4.1-cp311-cp311-win_amd64.whl.metadata (9.0 kB)\n",
      "Collecting osqp>=0.6.2 (from cvxpy)\n",
      "  Using cached osqp-0.6.3-cp311-cp311-win_amd64.whl.metadata (1.8 kB)\n",
      "Collecting ecos>=2 (from cvxpy)\n",
      "  Using cached ecos-2.0.12-cp311-cp311-win_amd64.whl (72 kB)\n",
      "Collecting clarabel>=0.5.0 (from cvxpy)\n",
      "  Using cached clarabel-0.6.0-cp37-abi3-win_amd64.whl.metadata (4.4 kB)\n",
      "Collecting scs>=3.0 (from cvxpy)\n",
      "  Using cached scs-3.2.4.post1-cp311-cp311-win_amd64.whl.metadata (2.1 kB)\n",
      "Requirement already satisfied: numpy>=1.15 in c:\\users\\brend\\appdata\\local\\programs\\python\\python311\\lib\\site-packages (from cvxpy) (1.25.2)\n",
      "Requirement already satisfied: scipy>=1.1.0 in c:\\users\\brend\\appdata\\local\\programs\\python\\python311\\lib\\site-packages (from cvxpy) (1.11.1)\n",
      "Collecting pybind11 (from cvxpy)\n",
      "  Using cached pybind11-2.11.1-py3-none-any.whl.metadata (9.5 kB)\n",
      "Collecting qdldl (from osqp>=0.6.2->cvxpy)\n",
      "  Using cached qdldl-0.1.7.post0-cp311-cp311-win_amd64.whl.metadata (1.8 kB)\n",
      "Using cached cvxpy-1.4.1-cp311-cp311-win_amd64.whl (1.0 MB)\n",
      "Using cached clarabel-0.6.0-cp37-abi3-win_amd64.whl (355 kB)\n",
      "Using cached osqp-0.6.3-cp311-cp311-win_amd64.whl (292 kB)\n",
      "Using cached scs-3.2.4.post1-cp311-cp311-win_amd64.whl (8.4 MB)\n",
      "Using cached pybind11-2.11.1-py3-none-any.whl (227 kB)\n",
      "Using cached qdldl-0.1.7.post0-cp311-cp311-win_amd64.whl (85 kB)\n",
      "Installing collected packages: pybind11, scs, qdldl, ecos, clarabel, osqp, cvxpy\n",
      "Successfully installed clarabel-0.6.0 cvxpy-1.4.1 ecos-2.0.12 osqp-0.6.3 pybind11-2.11.1 qdldl-0.1.7.post0 scs-3.2.4.post1\n"
     ]
    },
    {
     "name": "stderr",
     "output_type": "stream",
     "text": [
      "\n",
      "[notice] A new release of pip is available: 23.3.1 -> 23.3.2\n",
      "[notice] To update, run: python.exe -m pip install --upgrade pip\n"
     ]
    }
   ],
   "source": [
    "pip install cvxpy"
   ]
  },
  {
   "cell_type": "code",
   "execution_count": 14,
   "metadata": {},
   "outputs": [],
   "source": [
    "import cvxpy as cp\n",
    "from scipy import sparse\n",
    "from math import sin, cos\n",
    "import matplotlib.animation as animation"
   ]
  },
  {
   "cell_type": "code",
   "execution_count": 15,
   "metadata": {},
   "outputs": [],
   "source": [
    "def plot_results():\n",
    "    f = plt.figure()\n",
    "    ax = f.add_subplot(211)\n",
    "    plt.plot(massa1_pos, label='posição massa 1')\n",
    "    plt.plot(massa2_pos, label='posição massa 2')\n",
    "    #plt.plot(massa1_vel, label='velocidade massa 1')\n",
    "    #plt.plot(massa2_vel, label='velocidade massa 2')\n",
    "    plt.ylabel(r\"$(x_t)_1$\", fontsize=16)\n",
    "    plt.xticks([t_step for t_step in range(nsim) if t_step % 10 == 0])\n",
    "    plt.legend()\n",
    "    plt.grid()\n",
    "\n",
    "    plt.subplot(4, 1, 3)\n",
    "    #plt.plot(ctrl_effort)\n",
    "    plt.plot(ctrl_effort[1:])\n",
    "    plt.ylabel(r\"$(u_t)_1$\", fontsize=16)\n",
    "    plt.xticks([t_step for t_step in range(nsim) if t_step % 10 == 0])\n",
    "    plt.grid()\n",
    "\n",
    "    plt.tight_layout()\n",
    "    plt.show()"
   ]
  },
  {
   "cell_type": "code",
   "execution_count": 16,
   "metadata": {},
   "outputs": [],
   "source": [
    "def animated_plot():\n",
    "    fig = plt.figure()\n",
    "    ax = plt.axes(xlim=(-6., 6.), ylim=(-3, 3))\n",
    "    time_text = ax.text(2.75, 1.75, '')\n",
    "    angle_text = ax.text(2.75, 1.65, '')\n",
    "    pos_text = ax.text(2.75, 1.55, '')\n",
    "    times = range(nsim)\n",
    "\n",
    "    writer = animation.writers['ffmpeg']\n",
    "    writer(fps=15, metadata=dict(artist='Me'), bitrate=1800)\n",
    "\n",
    "    def update(i):\n",
    "        time_text.set_text(\"Time: {0:0}\".format(round(times[i]*dt, 2)))\n",
    "        angle_text.set_text(\"Angle: {0:0.2f}\".format(massa2_pos[i]*57.3))\n",
    "        pos_text.set_text(\"Pos: {0:0.2f}\".format(-massa1_pos[i]))\n",
    "\n",
    "        massa1_pos_x = -massa1_pos[i]\n",
    "        massa2_pos_x = massa2_pos[i]\n",
    "        massa2_x0 = massa2_pos_x\n",
    "        massa2_y0 = 0\n",
    "        massa2_x1 = massa2_x0  + 1\n",
    "        #massa2_y1 = l*cos(pend_pos)\n",
    "\n",
    "        massa1.set_data([massa1_pos_x-.15, massa1_pos_x+.15], 0.)\n",
    "        massa2.set_data([massa2_x0,massa2_x1])\n",
    "        #ball.set_data(pendulum_x1, pendulum_y1)\n",
    "        return (massa1) + (massa2)\n",
    "\n",
    "    massa1 = plt.plot([], [], 'black', linewidth=.7)\n",
    "    massa2 = plt.plot([], [], 'b-',linewidth=.7)\n",
    "    #ball, = plt.plot([], [], 'ro', markersize=8.)\n",
    "    plt.xlabel('X position (m)')\n",
    "    plt.ylabel('Y position (m)')\n",
    "    anim = animation.FuncAnimation(fig, update, int(nsim), interval=100, repeat=True)\n",
    "    plt.show()"
   ]
  },
  {
   "cell_type": "code",
   "execution_count": 17,
   "metadata": {},
   "outputs": [
    {
     "name": "stdout",
     "output_type": "stream",
     "text": [
      "TIME:  0.1 STATES:  [-2, 1, 0, 0]\n",
      "TIME:  0.2 STATES:  [-1.99, 0.99, 0.22, -0.1]\n",
      "TIME:  0.3 STATES:  [-1.97, 0.98, 0.24, -0.18]\n",
      "TIME:  0.4 STATES:  [-1.94, 0.96, 0.24, -0.25]\n",
      "TIME:  0.5 STATES:  [-1.92, 0.93, 0.24, -0.31]\n",
      "TIME:  0.6 STATES:  [-1.89, 0.9, 0.24, -0.37]\n",
      "TIME:  0.7 STATES:  [-1.87, 0.86, 0.24, -0.42]\n",
      "TIME:  0.8 STATES:  [-1.85, 0.81, 0.24, -0.46]\n",
      "TIME:  0.9 STATES:  [-1.82, 0.77, 0.23, -0.49]\n",
      "TIME:  1.0 STATES:  [-1.8, 0.72, 0.23, -0.52]\n",
      "TIME:  1.1 STATES:  [-1.78, 0.66, 0.23, -0.54]\n",
      "TIME:  1.2 STATES:  [-1.75, 0.61, 0.23, -0.55]\n",
      "TIME:  1.3 STATES:  [-1.73, 0.55, 0.23, -0.56]\n",
      "TIME:  1.4 STATES:  [-1.71, 0.5, 0.22, -0.57]\n",
      "TIME:  1.5 STATES:  [-1.69, 0.44, 0.22, -0.57]\n",
      "TIME:  1.6 STATES:  [-1.66, 0.38, 0.22, -0.57]\n",
      "TIME:  1.7 STATES:  [-1.64, 0.33, 0.22, -0.56]\n",
      "TIME:  1.8 STATES:  [-1.62, 0.27, 0.21, -0.55]\n",
      "TIME:  1.9 STATES:  [-1.6, 0.22, 0.21, -0.54]\n",
      "TIME:  2.0 STATES:  [-1.58, 0.16, 0.21, -0.53]\n",
      "TIME:  2.1 STATES:  [-1.56, 0.11, 0.2, -0.51]\n",
      "TIME:  2.2 STATES:  [-1.54, 0.06, 0.2, -0.49]\n",
      "TIME:  2.3 STATES:  [-1.52, 0.01, 0.2, -0.47]\n",
      "TIME:  2.4 STATES:  [-1.5, -0.03, 0.19, -0.45]\n",
      "TIME:  2.5 STATES:  [-1.48, -0.08, 0.19, -0.42]\n",
      "TIME:  2.6 STATES:  [-1.46, -0.12, 0.19, -0.4]\n",
      "TIME:  2.7 STATES:  [-1.44, -0.16, 0.18, -0.38]\n",
      "TIME:  2.8 STATES:  [-1.42, -0.19, 0.18, -0.35]\n",
      "TIME:  2.9 STATES:  [-1.41, -0.23, 0.18, -0.33]\n",
      "TIME:  3.0 STATES:  [-1.39, -0.26, 0.17, -0.3]\n",
      "TIME:  3.1 STATES:  [-1.37, -0.29, 0.17, -0.28]\n",
      "TIME:  3.2 STATES:  [-1.35, -0.31, 0.17, -0.25]\n",
      "TIME:  3.3 STATES:  [-1.34, -0.34, 0.16, -0.23]\n",
      "TIME:  3.4 STATES:  [-1.32, -0.36, 0.16, -0.2]\n",
      "TIME:  3.5 STATES:  [-1.31, -0.38, 0.16, -0.18]\n",
      "TIME:  3.6 STATES:  [-1.29, -0.4, 0.15, -0.16]\n",
      "TIME:  3.7 STATES:  [-1.28, -0.41, 0.15, -0.14]\n",
      "TIME:  3.8 STATES:  [-1.26, -0.42, 0.15, -0.12]\n",
      "TIME:  3.9 STATES:  [-1.25, -0.44, 0.14, -0.1]\n",
      "TIME:  4.0 STATES:  [-1.23, -0.44, 0.14, -0.08]\n",
      "TIME:  4.1 STATES:  [-1.22, -0.45, 0.14, -0.06]\n",
      "TIME:  4.2 STATES:  [-1.2, -0.46, 0.13, -0.05]\n",
      "TIME:  4.3 STATES:  [-1.19, -0.46, 0.13, -0.03]\n",
      "TIME:  4.4 STATES:  [-1.18, -0.46, 0.13, -0.02]\n",
      "TIME:  4.5 STATES:  [-1.17, -0.46, 0.13, -0.0]\n",
      "TIME:  4.6 STATES:  [-1.15, -0.46, 0.12, 0.01]\n",
      "TIME:  4.7 STATES:  [-1.14, -0.46, 0.12, 0.02]\n",
      "TIME:  4.8 STATES:  [-1.13, -0.46, 0.12, 0.03]\n",
      "TIME:  4.9 STATES:  [-1.12, -0.46, 0.11, 0.04]\n",
      "TIME:  5.0 STATES:  [-1.11, -0.45, 0.11, 0.05]\n",
      "TIME:  5.1 STATES:  [-1.1, -0.45, 0.11, 0.05]\n",
      "TIME:  5.2 STATES:  [-1.08, -0.44, 0.11, 0.06]\n",
      "TIME:  5.3 STATES:  [-1.07, -0.44, 0.11, 0.07]\n",
      "TIME:  5.4 STATES:  [-1.06, -0.43, 0.1, 0.07]\n",
      "TIME:  5.5 STATES:  [-1.05, -0.42, 0.1, 0.07]\n",
      "TIME:  5.6 STATES:  [-1.04, -0.41, 0.1, 0.08]\n",
      "TIME:  5.7 STATES:  [-1.03, -0.41, 0.1, 0.08]\n",
      "TIME:  5.8 STATES:  [-1.02, -0.4, 0.09, 0.08]\n",
      "TIME:  5.9 STATES:  [-1.01, -0.39, 0.09, 0.08]\n",
      "TIME:  6.0 STATES:  [-1.0, -0.38, 0.09, 0.08]\n",
      "TIME:  6.1 STATES:  [-1.0, -0.37, 0.09, 0.08]\n",
      "TIME:  6.2 STATES:  [-0.99, -0.36, 0.09, 0.08]\n",
      "TIME:  6.3 STATES:  [-0.98, -0.36, 0.09, 0.08]\n",
      "TIME:  6.4 STATES:  [-0.97, -0.35, 0.08, 0.08]\n",
      "TIME:  6.5 STATES:  [-0.96, -0.34, 0.08, 0.08]\n",
      "TIME:  6.6 STATES:  [-0.95, -0.33, 0.08, 0.08]\n",
      "TIME:  6.7 STATES:  [-0.95, -0.32, 0.08, 0.08]\n",
      "TIME:  6.8 STATES:  [-0.94, -0.32, 0.08, 0.07]\n",
      "TIME:  6.9 STATES:  [-0.93, -0.31, 0.08, 0.07]\n",
      "TIME:  7.0 STATES:  [-0.92, -0.3, 0.08, 0.07]\n",
      "TIME:  7.1 STATES:  [-0.91, -0.3, 0.07, 0.07]\n",
      "TIME:  7.2 STATES:  [-0.91, -0.29, 0.07, 0.06]\n",
      "TIME:  7.3 STATES:  [-0.9, -0.28, 0.07, 0.06]\n",
      "TIME:  7.4 STATES:  [-0.89, -0.28, 0.07, 0.06]\n",
      "TIME:  7.5 STATES:  [-0.89, -0.27, 0.07, 0.05]\n",
      "TIME:  7.6 STATES:  [-0.88, -0.27, 0.07, 0.05]\n",
      "TIME:  7.7 STATES:  [-0.87, -0.26, 0.07, 0.05]\n",
      "TIME:  7.8 STATES:  [-0.87, -0.26, 0.07, 0.04]\n",
      "TIME:  7.9 STATES:  [-0.86, -0.25, 0.06, 0.04]\n",
      "TIME:  8.0 STATES:  [-0.85, -0.25, 0.06, 0.04]\n"
     ]
    },
    {
     "data": {
      "image/png": "[encoded data removed]",
      "text/plain": [
       "<Figure size 640x480 with 2 Axes>"
      ]
     },
     "metadata": {},
     "output_type": "display_data"
    },
    {
     "data": {
      "image/png": "[encoded data removed]",
      "text/plain": [
       "<Figure size 640x480 with 1 Axes>"
      ]
     },
     "metadata": {},
     "output_type": "display_data"
    },
    {
     "name": "stderr",
     "output_type": "stream",
     "text": [
      "c:\\Users\\brend\\AppData\\Local\\Programs\\Python\\Python311\\Lib\\site-packages\\matplotlib\\animation.py:884: UserWarning: Animation was deleted without rendering anything. This is most likely not intended. To prevent deletion, assign the Animation to a variable, e.g. `anim`, that exists until you output the Animation using `plt.show()` or `anim.save()`.\n",
      "  warnings.warn(\n"
     ]
    }
   ],
   "source": [
    "def run_mpc():\n",
    "    cost = 0.\n",
    "    constr = [x[:, 0] == x_init]\n",
    "    for t in range(N):\n",
    "        cost += cp.quad_form(xr - x[:, t], Q) + cp.quad_form(u[:, t], R)\n",
    "        constr += [cp.norm(u[:, t], 'inf') <= 10.]\n",
    "        constr += [x[:, t + 1] == A_zoh @ x[:, t] + B_zoh @ u[:, t]]\n",
    "\n",
    "    cost += cp.quad_form(x[:, N] - xr, Q)\n",
    "    problem = cp.Problem(cp.Minimize(cost), constr)\n",
    "    return problem\n",
    "\n",
    "\n",
    "[nx, nu] = B_zoh.shape\n",
    "\n",
    "Q = sparse.diags([10., 5., 100., 5.])\n",
    "R = np.array([[.1]])\n",
    "\n",
    "x0 = np.array([-2, 1, 0, 0])  # Initial conditions\n",
    "xr = np.array([0, 2, 0., 0.])  # Desired states\n",
    "xr *= -1\n",
    "\n",
    "N = 20  # MPC Horizon length\n",
    "\n",
    "x = cp.Variable((nx, N+1))\n",
    "u = cp.Variable((nu, N))\n",
    "x_init = cp.Parameter(nx)\n",
    "\n",
    "nsim = 80  # Number of simulation timesteps\n",
    "time = [0.001]\n",
    "massa1_pos = [x0[0]]\n",
    "massa2_pos = [x0[1]]\n",
    "massa1_vel = [x0[2]]#\n",
    "massa2_vel = [x0[3]]\n",
    "ctrl_effort = [u[:, 0].value]\n",
    "\n",
    "for i in range(1, nsim+1):\n",
    "    prob = run_mpc()\n",
    "    x_init.value = x0\n",
    "    print('TIME: ', round(i*dt, 2), 'STATES: ', [round(state, 2) for state in x0])\n",
    "    prob.solve(solver=cp.OSQP, warm_start=True)\n",
    "    x0 = A_zoh.dot(x0) + B_zoh.dot(u[:, 0].value)\n",
    "    time.append(i)\n",
    "    massa1_pos.append(x0[0])\n",
    "    massa2_pos.append(x0[1])\n",
    "    massa1_vel.append(x0[2])\n",
    "    massa2_vel.append(x0[3])\n",
    "    ctrl_effort.append(u[:, 0].value)\n",
    "\n",
    "plot_results()\n",
    "#animated_plot()"
   ]
  },
  {
   "cell_type": "markdown",
   "metadata": {},
   "source": [
    "# MPC - [Circuito Elétrico]"
   ]
  },
  {
   "cell_type": "code",
   "execution_count": 29,
   "metadata": {},
   "outputs": [],
   "source": [
    "def plot_results_CE():\n",
    "    f = plt.figure()\n",
    "    ax = f.add_subplot(211)\n",
    "    plt.plot(massa1_pos, label='posição massa 1')\n",
    "    plt.plot(massa2_pos, label='posição massa 2')\n",
    "    #plt.plot(massa1_vel, label='velocidade massa 1')\n",
    "    #plt.plot(massa2_vel, label='velocidade massa 2')\n",
    "    plt.ylabel(r\"$(x_t)_1$\", fontsize=16)\n",
    "    plt.xticks([t_step for t_step in range(nsim) if t_step % 10 == 0])\n",
    "    plt.legend()\n",
    "    plt.grid()\n",
    "\n",
    "    plt.subplot(4, 1, 3)\n",
    "    #plt.plot(ctrl_effort)\n",
    "    plt.plot(ctrl_effort[1:])\n",
    "    plt.ylabel(r\"$(u_t)_1$\", fontsize=16)\n",
    "    plt.xticks([t_step for t_step in range(nsim) if t_step % 10 == 0])\n",
    "    plt.grid()\n",
    "\n",
    "    plt.tight_layout()\n",
    "    plt.show()"
   ]
  },
  {
   "cell_type": "code",
   "execution_count": 39,
   "metadata": {},
   "outputs": [
    {
     "name": "stdout",
     "output_type": "stream",
     "text": [
      "TIME:  0.1 STATES:  [15, 15]\n",
      "TIME:  0.2 STATES:  [-56.67, 9.83]\n",
      "TIME:  0.3 STATES:  [-32.25, 5.46]\n",
      "TIME:  0.4 STATES:  [-17.85, 3.02]\n",
      "TIME:  0.5 STATES:  [-9.87, 1.68]\n",
      "TIME:  0.6 STATES:  [-5.46, 0.93]\n",
      "TIME:  0.7 STATES:  [-3.02, 0.52]\n",
      "TIME:  0.8 STATES:  [-1.67, 0.29]\n",
      "TIME:  0.9 STATES:  [-0.92, 0.17]\n",
      "TIME:  1.0 STATES:  [-0.51, 0.1]\n",
      "TIME:  1.1 STATES:  [-0.28, 0.06]\n",
      "TIME:  1.2 STATES:  [-0.16, 0.04]\n",
      "TIME:  1.3 STATES:  [-0.09, 0.03]\n",
      "TIME:  1.4 STATES:  [-0.05, 0.02]\n",
      "TIME:  1.5 STATES:  [-0.03, 0.02]\n",
      "TIME:  1.6 STATES:  [-0.01, 0.01]\n",
      "TIME:  1.7 STATES:  [-0.01, 0.01]\n",
      "TIME:  1.8 STATES:  [-0.0, 0.01]\n",
      "TIME:  1.9 STATES:  [-0.0, 0.01]\n",
      "TIME:  2.0 STATES:  [-0.0, 0.01]\n",
      "TIME:  2.1 STATES:  [-0.0, 0.01]\n",
      "TIME:  2.2 STATES:  [-0.0, 0.01]\n",
      "TIME:  2.3 STATES:  [-0.0, 0.01]\n",
      "TIME:  2.4 STATES:  [-0.0, 0.01]\n",
      "TIME:  2.5 STATES:  [-0.0, 0.01]\n",
      "TIME:  2.6 STATES:  [-0.0, 0.01]\n",
      "TIME:  2.7 STATES:  [-0.0, 0.01]\n",
      "TIME:  2.8 STATES:  [-0.0, 0.01]\n",
      "TIME:  2.9 STATES:  [-0.0, 0.01]\n",
      "TIME:  3.0 STATES:  [-0.0, 0.01]\n",
      "TIME:  3.1 STATES:  [-0.0, 0.01]\n",
      "TIME:  3.2 STATES:  [-0.0, 0.01]\n",
      "TIME:  3.3 STATES:  [-0.0, 0.01]\n",
      "TIME:  3.4 STATES:  [-0.0, 0.01]\n",
      "TIME:  3.5 STATES:  [-0.0, 0.01]\n",
      "TIME:  3.6 STATES:  [-0.0, 0.01]\n",
      "TIME:  3.7 STATES:  [-0.0, 0.01]\n",
      "TIME:  3.8 STATES:  [-0.0, 0.01]\n",
      "TIME:  3.9 STATES:  [-0.0, 0.01]\n",
      "TIME:  4.0 STATES:  [-0.0, 0.01]\n",
      "TIME:  4.1 STATES:  [-0.0, 0.01]\n",
      "TIME:  4.2 STATES:  [-0.0, 0.01]\n",
      "TIME:  4.3 STATES:  [-0.0, 0.01]\n",
      "TIME:  4.4 STATES:  [-0.0, 0.01]\n",
      "TIME:  4.5 STATES:  [-0.0, 0.01]\n",
      "TIME:  4.6 STATES:  [-0.0, 0.01]\n",
      "TIME:  4.7 STATES:  [-0.0, 0.01]\n",
      "TIME:  4.8 STATES:  [-0.0, 0.01]\n",
      "TIME:  4.9 STATES:  [-0.0, 0.01]\n",
      "TIME:  5.0 STATES:  [-0.0, 0.01]\n",
      "TIME:  5.1 STATES:  [-0.0, 0.01]\n",
      "TIME:  5.2 STATES:  [-0.0, 0.01]\n",
      "TIME:  5.3 STATES:  [-0.0, 0.01]\n",
      "TIME:  5.4 STATES:  [-0.0, 0.01]\n",
      "TIME:  5.5 STATES:  [-0.0, 0.01]\n",
      "TIME:  5.6 STATES:  [-0.0, 0.01]\n",
      "TIME:  5.7 STATES:  [-0.0, 0.01]\n",
      "TIME:  5.8 STATES:  [-0.0, 0.01]\n",
      "TIME:  5.9 STATES:  [-0.0, 0.01]\n",
      "TIME:  6.0 STATES:  [-0.0, 0.01]\n",
      "TIME:  6.1 STATES:  [-0.0, 0.01]\n",
      "TIME:  6.2 STATES:  [-0.0, 0.01]\n",
      "TIME:  6.3 STATES:  [-0.0, 0.01]\n",
      "TIME:  6.4 STATES:  [-0.0, 0.01]\n",
      "TIME:  6.5 STATES:  [-0.0, 0.01]\n",
      "TIME:  6.6 STATES:  [-0.0, 0.01]\n",
      "TIME:  6.7 STATES:  [-0.0, 0.01]\n",
      "TIME:  6.8 STATES:  [-0.0, 0.01]\n",
      "TIME:  6.9 STATES:  [-0.0, 0.01]\n",
      "TIME:  7.0 STATES:  [-0.0, 0.01]\n",
      "TIME:  7.1 STATES:  [-0.0, 0.01]\n",
      "TIME:  7.2 STATES:  [0.0, 0.01]\n",
      "TIME:  7.3 STATES:  [0.0, 0.01]\n",
      "TIME:  7.4 STATES:  [0.0, 0.01]\n",
      "TIME:  7.5 STATES:  [0.0, 0.01]\n",
      "TIME:  7.6 STATES:  [0.0, 0.01]\n",
      "TIME:  7.7 STATES:  [0.0, 0.01]\n",
      "TIME:  7.8 STATES:  [0.0, 0.01]\n",
      "TIME:  7.9 STATES:  [0.0, 0.01]\n",
      "TIME:  8.0 STATES:  [0.0, 0.01]\n"
     ]
    },
    {
     "data": {
      "image/png": "[encoded data removed]",
      "text/plain": [
       "<Figure size 640x480 with 2 Axes>"
      ]
     },
     "metadata": {},
     "output_type": "display_data"
    }
   ],
   "source": [
    "def run_mpc():\n",
    "    cost = 0.\n",
    "    constr = [x[:, 0] == x_init]\n",
    "    for t in range(N):\n",
    "        cost += cp.quad_form(xr - x[:, t], Q) + cp.quad_form(u[:, t], R)\n",
    "        constr += [cp.norm(u[:, t], 'inf') <= 10.]\n",
    "        constr += [x[:, t + 1] == Ae_zoh @ x[:, t] + Be_zoh @ u[:, t]]\n",
    "\n",
    "    cost += cp.quad_form(x[:, N] - xr, Q)\n",
    "    problem = cp.Problem(cp.Minimize(cost), constr)\n",
    "    return problem\n",
    "\n",
    "\n",
    "[nx, nu] = Be_zoh.shape\n",
    "\n",
    "Q = sparse.diags([1., 5.])\n",
    "R = np.array([[.1]])\n",
    "\n",
    "x0 = np.array([15, 15 ])  # Initial conditions\n",
    "xr = np.array([15, 15])  # Desired states\n",
    "xr *= +1#-1\n",
    "\n",
    "N = 10  # MPC Horizon length\n",
    "\n",
    "x = cp.Variable((nx, N+1))\n",
    "u = cp.Variable((nu, N))\n",
    "x_init = cp.Parameter(nx)\n",
    "\n",
    "nsim = 80  # Number of simulation timesteps\n",
    "time = [0.001]\n",
    "massa1_pos = [x0[0]]\n",
    "massa2_pos = [x0[1]]\n",
    "#massa1_vel = [x0[2]]#\n",
    "#massa2_vel = [x0[3]]\n",
    "ctrl_effort = [u[:, 0].value]\n",
    "\n",
    "for i in range(1, nsim+1):\n",
    "    prob = run_mpc()\n",
    "    x_init.value = x0\n",
    "    print('TIME: ', round(i*dt, 2), 'STATES: ', [round(state, 2) for state in x0])\n",
    "    prob.solve(solver=cp.OSQP, warm_start=True)\n",
    "    x0 = Ae_zoh.dot(x0) + Be_zoh.dot(u[:, 0].value)\n",
    "    time.append(i)\n",
    "    massa1_pos.append(x0[0])\n",
    "    massa2_pos.append(x0[1])\n",
    "    #massa1_vel.append(x0[2])\n",
    "    #massa2_vel.append(x0[3])\n",
    "    ctrl_effort.append(u[:, 0].value)\n",
    "\n",
    "plot_results_CE()"
   ]
  }
 ],
 "metadata": {
  "kernelspec": {
   "display_name": "Python 3",
   "language": "python",
   "name": "python3"
  },
  "language_info": {
   "codemirror_mode": {
    "name": "ipython",
    "version": 3
   },
   "file_extension": ".py",
   "mimetype": "text/x-python",
   "name": "python",
   "nbconvert_exporter": "python",
   "pygments_lexer": "ipython3",
   "version": "3.11.4"
  }
 },
 "nbformat": 4,
 "nbformat_minor": 2
}
